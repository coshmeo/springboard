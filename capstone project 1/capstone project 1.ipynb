{
 "cells": [
  {
   "cell_type": "markdown",
   "metadata": {},
   "source": [
    "# Exploratory data analysis for Springboard Capstone project 1\n",
    "## UCI Credit Card Dataset (Kaggle.com)\n",
    "data set containing default data for 30,000 credit card customers in Taiwan from April - September, 2005"
   ]
  },
  {
   "cell_type": "markdown",
   "metadata": {},
   "source": [
    "## Description of columns\n",
    "here we will list the names and descriptions for each column of the dataset."
   ]
  },
  {
   "cell_type": "markdown",
   "metadata": {},
   "source": [
    "## Description of Columns\n",
    "\n",
    "ID: ID of each client\n",
    "\n",
    "LIMIT_BAL: Amount of given credit in NT dollars (includes individual and family/supplementary credit\n",
    "\n",
    "SEX: Gender (1=male, 2=female)\n",
    "\n",
    "EDUCATION: (1=graduate school, 2=university, 3=high school, 4=others, 5=unknown, 6=unknown)\n",
    "\n",
    "MARRIAGE: Marital status (1=married, 2=single, 3=others)\n",
    "\n",
    "AGE: Age in years\n",
    "\n",
    "PAY_0: Repayment status in September, 2005 \n",
    "(-1=pay duly, 1=payment delay for one month, 2=payment delay for two months, ... 8=payment delay for eight months, 9=payment delay for nine months and above)\n",
    "\n",
    "PAY_2: Repayment status in August, 2005 (scale same as above)\n",
    "\n",
    "PAY_3: Repayment status in July, 2005 (scale same as above)\n",
    "\n",
    "PAY_4: Repayment status in June, 2005 (scale same as above)\n",
    "\n",
    "PAY_5: Repayment status in May, 2005 (scale same as above)\n",
    "\n",
    "PAY_6: Repayment status in April, 2005 (scale same as above)\n",
    "\n",
    "BILL_AMT1: Amount of bill statement in September, 2005 (NT dollar)\n",
    "\n",
    "BILL_AMT2: Amount of bill statement in August, 2005 (NT dollar)\n",
    "\n",
    "BILL_AMT3: Amount of bill statement in July, 2005 (NT dollar)\n",
    "\n",
    "BILL_AMT4: Amount of bill statement in June, 2005 (NT dollar)\n",
    "\n",
    "BILL_AMT5: Amount of bill statement in May, 2005 (NT dollar)\n",
    "\n",
    "BILL_AMT6: Amount of bill statement in April, 2005 (NT dollar)\n",
    "\n",
    "PAY_AMT1: Amount of previous payment in September, 2005 (NT dollar)\n",
    "\n",
    "PAY_AMT2: Amount of previous payment in August, 2005 (NT dollar)\n",
    "\n",
    "PAY_AMT3: Amount of previous payment in July, 2005 (NT dollar)\n",
    "\n",
    "PAY_AMT4: Amount of previous payment in June, 2005 (NT dollar)\n",
    "\n",
    "PAY_AMT5: Amount of previous payment in May, 2005 (NT dollar)\n",
    "\n",
    "PAY_AMT6: Amount of previous payment in April, 2005 (NT dollar)\n",
    "\n",
    "default.payment.next.month: Default payment (1=yes, 0=no)"
   ]
  },
  {
   "cell_type": "markdown",
   "metadata": {},
   "source": [
    "## Import necessary packages\n",
    "We will be using pandas, numpy, and scipy for exploratory data analysis.\n",
    "\n",
    "For visual analysis, we will use matplotlib.pyplot and seaborn."
   ]
  },
  {
   "cell_type": "code",
   "execution_count": 182,
   "metadata": {},
   "outputs": [],
   "source": [
    "import numpy as np\n",
    "import pandas as pd\n",
    "import matplotlib.pyplot as plt\n",
    "import seaborn as sns\n",
    "from scipy import stats"
   ]
  },
  {
   "cell_type": "markdown",
   "metadata": {},
   "source": [
    "## Import dataset and check for consistency"
   ]
  },
  {
   "cell_type": "code",
   "execution_count": 183,
   "metadata": {},
   "outputs": [
    {
     "name": "stdout",
     "output_type": "stream",
     "text": [
      "<class 'pandas.core.frame.DataFrame'>\n",
      "RangeIndex: 30000 entries, 0 to 29999\n",
      "Data columns (total 25 columns):\n",
      "ID                            30000 non-null int64\n",
      "LIMIT_BAL                     30000 non-null float64\n",
      "SEX                           30000 non-null int64\n",
      "EDUCATION                     30000 non-null int64\n",
      "MARRIAGE                      30000 non-null int64\n",
      "AGE                           30000 non-null int64\n",
      "PAY_0                         30000 non-null int64\n",
      "PAY_2                         30000 non-null int64\n",
      "PAY_3                         30000 non-null int64\n",
      "PAY_4                         30000 non-null int64\n",
      "PAY_5                         30000 non-null int64\n",
      "PAY_6                         30000 non-null int64\n",
      "BILL_AMT1                     30000 non-null float64\n",
      "BILL_AMT2                     30000 non-null float64\n",
      "BILL_AMT3                     30000 non-null float64\n",
      "BILL_AMT4                     30000 non-null float64\n",
      "BILL_AMT5                     30000 non-null float64\n",
      "BILL_AMT6                     30000 non-null float64\n",
      "PAY_AMT1                      30000 non-null float64\n",
      "PAY_AMT2                      30000 non-null float64\n",
      "PAY_AMT3                      30000 non-null float64\n",
      "PAY_AMT4                      30000 non-null float64\n",
      "PAY_AMT5                      30000 non-null float64\n",
      "PAY_AMT6                      30000 non-null float64\n",
      "default.payment.next.month    30000 non-null int64\n",
      "dtypes: float64(13), int64(12)\n",
      "memory usage: 5.7 MB\n",
      "None\n"
     ]
    }
   ],
   "source": [
    "df = pd.read_csv('UCI_Credit_Card.csv')\n",
    "print(df.info())"
   ]
  },
  {
   "cell_type": "markdown",
   "metadata": {},
   "source": [
    "Looks like we aren't missing anything, each column has 30,000 entries and all the data types are either int64 or float 64."
   ]
  },
  {
   "cell_type": "markdown",
   "metadata": {},
   "source": [
    "### quick note:\n",
    "there are some negative bill amounts in the bill columns, here are the counts for all 6 months. these are presumeably wealthy cardholders who have the ability to pay ahead on their credit cards. Let's see how many there are for each month"
   ]
  },
  {
   "cell_type": "code",
   "execution_count": 184,
   "metadata": {},
   "outputs": [
    {
     "name": "stdout",
     "output_type": "stream",
     "text": [
      "There are 590 negative bills in 9/2005\n",
      "There are 669 negative bills in 8/2005\n",
      "There are 655 negative bills in 7/2005\n",
      "There are 675 negative bills in 6/2005\n",
      "There are 655 negative bills in 5/2005\n",
      "There are 688 negative bills in 4/2005\n"
     ]
    }
   ],
   "source": [
    "print('There are', df.loc[df['BILL_AMT1']<0,'ID'].count(), 'negative bills in 9/2005')\n",
    "\n",
    "print('There are', df.loc[df['BILL_AMT2']<0,'ID'].count(), 'negative bills in 8/2005')\n",
    "\n",
    "print('There are', df.loc[df['BILL_AMT3']<0,'ID'].count(), 'negative bills in 7/2005')\n",
    "\n",
    "print('There are', df.loc[df['BILL_AMT4']<0,'ID'].count(), 'negative bills in 6/2005')\n",
    "\n",
    "print('There are', df.loc[df['BILL_AMT5']<0,'ID'].count(), 'negative bills in 5/2005')\n",
    "\n",
    "print('There are', df.loc[df['BILL_AMT6']<0,'ID'].count(), 'negative bills in 4/2005')"
   ]
  },
  {
   "cell_type": "markdown",
   "metadata": {},
   "source": [
    "## Overview of default data\n",
    "0 = no default\n",
    "1 = default"
   ]
  },
  {
   "cell_type": "code",
   "execution_count": 185,
   "metadata": {},
   "outputs": [
    {
     "data": {
      "image/png": "[encoded data removed]",
      "text/plain": [
       "<Figure size 432x288 with 1 Axes>"
      ]
     },
     "metadata": {
      "needs_background": "light"
     },
     "output_type": "display_data"
    },
    {
     "name": "stdout",
     "output_type": "stream",
     "text": [
      "percentage of total defaults\n",
      "0.2212\n"
     ]
    },
    {
     "data": {
      "text/html": [
       "<div>\n",
       "<style scoped>\n",
       "    .dataframe tbody tr th:only-of-type {\n",
       "        vertical-align: middle;\n",
       "    }\n",
       "\n",
       "    .dataframe tbody tr th {\n",
       "        vertical-align: top;\n",
       "    }\n",
       "\n",
       "    .dataframe thead th {\n",
       "        text-align: right;\n",
       "    }\n",
       "</style>\n",
       "<table border=\"1\" class=\"dataframe\">\n",
       "  <thead>\n",
       "    <tr style=\"text-align: right;\">\n",
       "      <th></th>\n",
       "      <th>ID</th>\n",
       "    </tr>\n",
       "    <tr>\n",
       "      <th>default.payment.next.month</th>\n",
       "      <th></th>\n",
       "    </tr>\n",
       "  </thead>\n",
       "  <tbody>\n",
       "    <tr>\n",
       "      <th>0</th>\n",
       "      <td>23364</td>\n",
       "    </tr>\n",
       "    <tr>\n",
       "      <th>1</th>\n",
       "      <td>6636</td>\n",
       "    </tr>\n",
       "  </tbody>\n",
       "</table>\n",
       "</div>"
      ],
      "text/plain": [
       "                               ID\n",
       "default.payment.next.month       \n",
       "0                           23364\n",
       "1                            6636"
      ]
     },
     "execution_count": 185,
     "metadata": {},
     "output_type": "execute_result"
    }
   ],
   "source": [
    "#set the number of ticks based on the number of different values in the series\n",
    "x=np.arange(len(df['default.payment.next.month'].unique()))\n",
    "\n",
    "#Describe default.payment.next.month\n",
    "plt.bar(x,df['default.payment.next.month'].value_counts().sort_index())\n",
    "plt.ylabel('Count')\n",
    "plt.xticks(x,('No Default','Default'),rotation=45)\n",
    "plt.title('Default payment next month')\n",
    "plt.show()\n",
    "\n",
    "print('percentage of total defaults')\n",
    "print(df['default.payment.next.month'].mean())\n",
    "df.groupby(['default.payment.next.month'])[['ID']].count()"
   ]
  },
  {
   "cell_type": "markdown",
   "metadata": {},
   "source": [
    "## Overview of limit balance"
   ]
  },
  {
   "cell_type": "code",
   "execution_count": 186,
   "metadata": {},
   "outputs": [
    {
     "data": {
      "image/png": "[encoded data removed]",
      "text/plain": [
       "<Figure size 432x288 with 1 Axes>"
      ]
     },
     "metadata": {
      "needs_background": "light"
     },
     "output_type": "display_data"
    },
    {
     "data": {
      "text/plain": [
       "count      30000.000000\n",
       "mean      167484.322667\n",
       "std       129747.661567\n",
       "min        10000.000000\n",
       "25%        50000.000000\n",
       "50%       140000.000000\n",
       "75%       240000.000000\n",
       "max      1000000.000000\n",
       "Name: LIMIT_BAL, dtype: float64"
      ]
     },
     "execution_count": 186,
     "metadata": {},
     "output_type": "execute_result"
    }
   ],
   "source": [
    "#Describe LIMIT_BAL\n",
    "\n",
    "#draw a histogram to visually analyze the data\n",
    "plt.hist(df['LIMIT_BAL'],bins=50)\n",
    "\n",
    "#set y scale to log to get a better view of the distribution\n",
    "plt.yscale('log')\n",
    "\n",
    "#label the axes and add a title\n",
    "plt.xlabel('Limit Balance')\n",
    "plt.ylabel('Count')\n",
    "plt.title('Balance Limit Overview')\n",
    "\n",
    "#show the historgram\n",
    "plt.show()\n",
    "\n",
    "#show a table of the summary statistics\n",
    "df['LIMIT_BAL'].describe()"
   ]
  },
  {
   "cell_type": "markdown",
   "metadata": {},
   "source": [
    "## box plot of limit balance grouped by default\n",
    "0 = no default\n",
    "1 = default"
   ]
  },
  {
   "cell_type": "code",
   "execution_count": 187,
   "metadata": {},
   "outputs": [
    {
     "data": {
      "text/html": [
       "<div>\n",
       "<style scoped>\n",
       "    .dataframe tbody tr th:only-of-type {\n",
       "        vertical-align: middle;\n",
       "    }\n",
       "\n",
       "    .dataframe tbody tr th {\n",
       "        vertical-align: top;\n",
       "    }\n",
       "\n",
       "    .dataframe thead th {\n",
       "        text-align: right;\n",
       "    }\n",
       "</style>\n",
       "<table border=\"1\" class=\"dataframe\">\n",
       "  <thead>\n",
       "    <tr style=\"text-align: right;\">\n",
       "      <th></th>\n",
       "      <th>mean</th>\n",
       "      <th>std</th>\n",
       "    </tr>\n",
       "    <tr>\n",
       "      <th>default.payment.next.month</th>\n",
       "      <th></th>\n",
       "      <th></th>\n",
       "    </tr>\n",
       "  </thead>\n",
       "  <tbody>\n",
       "    <tr>\n",
       "      <th>0</th>\n",
       "      <td>178099.726074</td>\n",
       "      <td>131628.359660</td>\n",
       "    </tr>\n",
       "    <tr>\n",
       "      <th>1</th>\n",
       "      <td>130109.656420</td>\n",
       "      <td>115378.540571</td>\n",
       "    </tr>\n",
       "  </tbody>\n",
       "</table>\n",
       "</div>"
      ],
      "text/plain": [
       "                                     mean            std\n",
       "default.payment.next.month                              \n",
       "0                           178099.726074  131628.359660\n",
       "1                           130109.656420  115378.540571"
      ]
     },
     "execution_count": 187,
     "metadata": {},
     "output_type": "execute_result"
    },
    {
     "data": {
      "image/png": "[encoded data removed]",
      "text/plain": [
       "<Figure size 432x288 with 1 Axes>"
      ]
     },
     "metadata": {
      "needs_background": "light"
     },
     "output_type": "display_data"
    }
   ],
   "source": [
    "#create a boxplot of limit balance grouped by default with y scale set to log\n",
    "df.boxplot(column=['LIMIT_BAL'],by = ['default.payment.next.month']).set_yscale('log')\n",
    "\n",
    "#add y label\n",
    "plt.ylabel('limit balance')\n",
    "\n",
    "#show table of summary statistics for this plot\n",
    "pd.DataFrame(df.groupby(['default.payment.next.month'])['LIMIT_BAL'].describe().loc[:,['mean','std']])"
   ]
  },
  {
   "cell_type": "markdown",
   "metadata": {},
   "source": [
    "## Statistical Significance of Limit Balance in relation to Default (t-test)\n",
    "\n",
    "null hypothesis: there is no difference between the mean limit balance between customers who defaulted and did not default, and is not statistically significant.\n",
    "\n",
    "alternative hypothesis: the mean limit balance between customers who defaulted and did not default is statiscically significant"
   ]
  },
  {
   "cell_type": "code",
   "execution_count": 188,
   "metadata": {},
   "outputs": [
    {
     "data": {
      "text/plain": [
       "Ttest_indResult(statistic=26.908521684796522, pvalue=1.3022439532597397e-157)"
      ]
     },
     "execution_count": 188,
     "metadata": {},
     "output_type": "execute_result"
    }
   ],
   "source": [
    "rvs0 = df[df['default.payment.next.month']==0]['LIMIT_BAL']\n",
    "rvs1 = df[df['default.payment.next.month']==1]['LIMIT_BAL']\n",
    "\n",
    "stats.ttest_ind(rvs0,rvs1)"
   ]
  },
  {
   "cell_type": "markdown",
   "metadata": {},
   "source": [
    "The test statistic shows that the mean limit balance of defualt and the mean limit balance of no default are approximately 27 standard deviations away from each other.\n",
    "The p-value is very close to 0.\n",
    "\n",
    "2 distributions are not the same; if we are going for a 95% confidence interval, the p-value < p-critical, so we reject the null hypothesis - the difference is significant."
   ]
  },
  {
   "cell_type": "markdown",
   "metadata": {},
   "source": [
    "## Gender overview\n",
    "1 = male, 2 = female"
   ]
  },
  {
   "cell_type": "markdown",
   "metadata": {},
   "source": [
    "First, we will change the value of SEX to 0 and 1."
   ]
  },
  {
   "cell_type": "code",
   "execution_count": 189,
   "metadata": {},
   "outputs": [],
   "source": [
    "df.SEX.replace({1:0, 2:1}, inplace=True)"
   ]
  },
  {
   "cell_type": "code",
   "execution_count": 190,
   "metadata": {},
   "outputs": [
    {
     "data": {
      "image/png": "[encoded data removed]",
      "text/plain": [
       "<Figure size 432x288 with 1 Axes>"
      ]
     },
     "metadata": {
      "needs_background": "light"
     },
     "output_type": "display_data"
    },
    {
     "data": {
      "text/html": [
       "<div>\n",
       "<style scoped>\n",
       "    .dataframe tbody tr th:only-of-type {\n",
       "        vertical-align: middle;\n",
       "    }\n",
       "\n",
       "    .dataframe tbody tr th {\n",
       "        vertical-align: top;\n",
       "    }\n",
       "\n",
       "    .dataframe thead th {\n",
       "        text-align: right;\n",
       "    }\n",
       "</style>\n",
       "<table border=\"1\" class=\"dataframe\">\n",
       "  <thead>\n",
       "    <tr style=\"text-align: right;\">\n",
       "      <th></th>\n",
       "      <th>ID</th>\n",
       "    </tr>\n",
       "    <tr>\n",
       "      <th>SEX</th>\n",
       "      <th></th>\n",
       "    </tr>\n",
       "  </thead>\n",
       "  <tbody>\n",
       "    <tr>\n",
       "      <th>0</th>\n",
       "      <td>11888</td>\n",
       "    </tr>\n",
       "    <tr>\n",
       "      <th>1</th>\n",
       "      <td>18112</td>\n",
       "    </tr>\n",
       "  </tbody>\n",
       "</table>\n",
       "</div>"
      ],
      "text/plain": [
       "        ID\n",
       "SEX       \n",
       "0    11888\n",
       "1    18112"
      ]
     },
     "execution_count": 190,
     "metadata": {},
     "output_type": "execute_result"
    }
   ],
   "source": [
    "#set the number of ticks based on the number of different values in the series\n",
    "x=np.arange(2)\n",
    "\n",
    "#Describe SEX using a bar plot to count the number of males and females\n",
    "plt.bar(x,df['SEX'].value_counts().sort_index())\n",
    "\n",
    "#label the axes and add title\n",
    "plt.ylabel('Count')\n",
    "plt.xticks(x,('Male','Female'))\n",
    "plt.title('Gender Distribution')\n",
    "\n",
    "#show plot\n",
    "plt.show()\n",
    "\n",
    "#show counts of male and female\n",
    "df.groupby(['SEX'])[['ID']].count()"
   ]
  },
  {
   "cell_type": "markdown",
   "metadata": {},
   "source": [
    "## Default mean by gender"
   ]
  },
  {
   "cell_type": "code",
   "execution_count": 191,
   "metadata": {},
   "outputs": [
    {
     "data": {
      "image/png": "[encoded data removed]",
      "text/plain": [
       "<Figure size 432x288 with 1 Axes>"
      ]
     },
     "metadata": {
      "needs_background": "light"
     },
     "output_type": "display_data"
    },
    {
     "data": {
      "text/html": [
       "<div>\n",
       "<style scoped>\n",
       "    .dataframe tbody tr th:only-of-type {\n",
       "        vertical-align: middle;\n",
       "    }\n",
       "\n",
       "    .dataframe tbody tr th {\n",
       "        vertical-align: top;\n",
       "    }\n",
       "\n",
       "    .dataframe thead th {\n",
       "        text-align: right;\n",
       "    }\n",
       "</style>\n",
       "<table border=\"1\" class=\"dataframe\">\n",
       "  <thead>\n",
       "    <tr style=\"text-align: right;\">\n",
       "      <th></th>\n",
       "      <th>default.payment.next.month</th>\n",
       "    </tr>\n",
       "    <tr>\n",
       "      <th>SEX</th>\n",
       "      <th></th>\n",
       "    </tr>\n",
       "  </thead>\n",
       "  <tbody>\n",
       "    <tr>\n",
       "      <th>0</th>\n",
       "      <td>0.241672</td>\n",
       "    </tr>\n",
       "    <tr>\n",
       "      <th>1</th>\n",
       "      <td>0.207763</td>\n",
       "    </tr>\n",
       "  </tbody>\n",
       "</table>\n",
       "</div>"
      ],
      "text/plain": [
       "     default.payment.next.month\n",
       "SEX                            \n",
       "0                      0.241672\n",
       "1                      0.207763"
      ]
     },
     "execution_count": 191,
     "metadata": {},
     "output_type": "execute_result"
    }
   ],
   "source": [
    "#set the number of ticks based on the number of different values in the series\n",
    "x=np.arange(len(df['SEX'].unique()))\n",
    "\n",
    "#calculate the default mean for each sex and store in a variable\n",
    "defaults_by_sex=df.groupby(['SEX'])[['default.payment.next.month']].mean()\n",
    "\n",
    "#Create the barplot\n",
    "plt.bar(x,defaults_by_sex['default.payment.next.month'])\n",
    "\n",
    "#label the axes and add title\n",
    "plt.ylabel('Default mean')\n",
    "plt.xticks(x,('Male','Female'))\n",
    "plt.title('Defaults by Gender')\n",
    "\n",
    "#show plot\n",
    "plt.show()\n",
    "\n",
    "#show mean for each sex\n",
    "df.groupby(['SEX'])[['default.payment.next.month']].mean()"
   ]
  },
  {
   "cell_type": "markdown",
   "metadata": {},
   "source": [
    "## Statistical Significance of Gender in relation to Default (Chi Square)\n",
    "\n",
    "Null hypothesis: the mean default of each gender is statistically insignificant\n",
    "\n",
    "Alternative hypothesis: the mean deafult of each gender is statistically significant"
   ]
  },
  {
   "cell_type": "code",
   "execution_count": 192,
   "metadata": {},
   "outputs": [
    {
     "data": {
      "text/html": [
       "<div>\n",
       "<style scoped>\n",
       "    .dataframe tbody tr th:only-of-type {\n",
       "        vertical-align: middle;\n",
       "    }\n",
       "\n",
       "    .dataframe tbody tr th {\n",
       "        vertical-align: top;\n",
       "    }\n",
       "\n",
       "    .dataframe thead th {\n",
       "        text-align: right;\n",
       "    }\n",
       "</style>\n",
       "<table border=\"1\" class=\"dataframe\">\n",
       "  <thead>\n",
       "    <tr style=\"text-align: right;\">\n",
       "      <th>default.payment.next.month</th>\n",
       "      <th>0</th>\n",
       "      <th>1</th>\n",
       "    </tr>\n",
       "    <tr>\n",
       "      <th>SEX</th>\n",
       "      <th></th>\n",
       "      <th></th>\n",
       "    </tr>\n",
       "  </thead>\n",
       "  <tbody>\n",
       "    <tr>\n",
       "      <th>0</th>\n",
       "      <td>9015</td>\n",
       "      <td>2873</td>\n",
       "    </tr>\n",
       "    <tr>\n",
       "      <th>1</th>\n",
       "      <td>14349</td>\n",
       "      <td>3763</td>\n",
       "    </tr>\n",
       "  </tbody>\n",
       "</table>\n",
       "</div>"
      ],
      "text/plain": [
       "default.payment.next.month      0     1\n",
       "SEX                                    \n",
       "0                            9015  2873\n",
       "1                           14349  3763"
      ]
     },
     "execution_count": 192,
     "metadata": {},
     "output_type": "execute_result"
    }
   ],
   "source": [
    "#create contingency table\n",
    "pd.crosstab(df['SEX'],df['default.payment.next.month'])"
   ]
  },
  {
   "cell_type": "code",
   "execution_count": 193,
   "metadata": {},
   "outputs": [
    {
     "data": {
      "text/plain": [
       "(47.70879689062111, 4.944678999412044e-12, 1, array([[ 9258.3744,  2629.6256],\n",
       "        [14105.6256,  4006.3744]]))"
      ]
     },
     "execution_count": 193,
     "metadata": {},
     "output_type": "execute_result"
    }
   ],
   "source": [
    "#run chi square contingency test on the table above\n",
    "stats.chi2_contingency(pd.crosstab(df['SEX'],df['default.payment.next.month']))"
   ]
  },
  {
   "cell_type": "markdown",
   "metadata": {},
   "source": [
    "test statistic: 47.70879689062111 \n",
    "\n",
    "p-value: 4.944678999412044e-12\n",
    "\n",
    "degree of freedom: 1\n",
    "\n",
    "expected frequencies: \n",
    "\n",
    "[ 9258.3744,  2629.6256]\n",
    "\n",
    "[14105.6256,  4006.3744]\n",
    "        \n",
    "##### based on these findings, we reject the null hypothesis and assume that the mean default for each gender is not the same."
   ]
  },
  {
   "cell_type": "markdown",
   "metadata": {},
   "source": [
    "## Education overview"
   ]
  },
  {
   "cell_type": "markdown",
   "metadata": {},
   "source": [
    "Let's take a quick look at the education column to see what the different values are"
   ]
  },
  {
   "cell_type": "code",
   "execution_count": 194,
   "metadata": {},
   "outputs": [
    {
     "data": {
      "text/plain": [
       "0       14\n",
       "1    10585\n",
       "2    14030\n",
       "3     4917\n",
       "4      123\n",
       "5      280\n",
       "6       51\n",
       "Name: EDUCATION, dtype: int64"
      ]
     },
     "execution_count": 194,
     "metadata": {},
     "output_type": "execute_result"
    }
   ],
   "source": [
    "df.EDUCATION.value_counts().sort_index()"
   ]
  },
  {
   "cell_type": "markdown",
   "metadata": {},
   "source": [
    "Looks like we have some values in this column that do not fit the description at the top. Additionally, there is no reason to have an 'others column' and 2 additional 'unknown' columns. We will lump all of these values (0, 5, 6) into 4 ('others')"
   ]
  },
  {
   "cell_type": "code",
   "execution_count": 195,
   "metadata": {},
   "outputs": [],
   "source": [
    "#lump together all unknowns into 'other'\n",
    "fil = (df.EDUCATION == 5) | (df.EDUCATION == 6) | (df.EDUCATION == 0)\n",
    "df.loc[fil, 'EDUCATION'] = 4"
   ]
  },
  {
   "cell_type": "markdown",
   "metadata": {},
   "source": [
    "Now that we've cleaned that up, let's make a bar plot of the value counts"
   ]
  },
  {
   "cell_type": "code",
   "execution_count": 196,
   "metadata": {},
   "outputs": [
    {
     "data": {
      "image/png": "[encoded data removed]",
      "text/plain": [
       "<Figure size 432x288 with 1 Axes>"
      ]
     },
     "metadata": {
      "needs_background": "light"
     },
     "output_type": "display_data"
    },
    {
     "data": {
      "text/html": [
       "<div>\n",
       "<style scoped>\n",
       "    .dataframe tbody tr th:only-of-type {\n",
       "        vertical-align: middle;\n",
       "    }\n",
       "\n",
       "    .dataframe tbody tr th {\n",
       "        vertical-align: top;\n",
       "    }\n",
       "\n",
       "    .dataframe thead th {\n",
       "        text-align: right;\n",
       "    }\n",
       "</style>\n",
       "<table border=\"1\" class=\"dataframe\">\n",
       "  <thead>\n",
       "    <tr style=\"text-align: right;\">\n",
       "      <th></th>\n",
       "      <th>ID</th>\n",
       "    </tr>\n",
       "    <tr>\n",
       "      <th>EDUCATION</th>\n",
       "      <th></th>\n",
       "    </tr>\n",
       "  </thead>\n",
       "  <tbody>\n",
       "    <tr>\n",
       "      <th>1</th>\n",
       "      <td>10585</td>\n",
       "    </tr>\n",
       "    <tr>\n",
       "      <th>2</th>\n",
       "      <td>14030</td>\n",
       "    </tr>\n",
       "    <tr>\n",
       "      <th>3</th>\n",
       "      <td>4917</td>\n",
       "    </tr>\n",
       "    <tr>\n",
       "      <th>4</th>\n",
       "      <td>468</td>\n",
       "    </tr>\n",
       "  </tbody>\n",
       "</table>\n",
       "</div>"
      ],
      "text/plain": [
       "              ID\n",
       "EDUCATION       \n",
       "1          10585\n",
       "2          14030\n",
       "3           4917\n",
       "4            468"
      ]
     },
     "execution_count": 196,
     "metadata": {},
     "output_type": "execute_result"
    }
   ],
   "source": [
    "#set the number of ticks based on the number of different values in the series\n",
    "x=np.arange(len(df['EDUCATION'].unique()))\n",
    "\n",
    "#Make bar plot of EDUCATION value counts\n",
    "plt.bar(x,df['EDUCATION'].value_counts().sort_index())\n",
    "\n",
    "#label axes and add title\n",
    "plt.ylabel('Count')\n",
    "plt.xticks(x,('Graduate School','University','High School','Others','Unknown','Unknown','Unknown'),\n",
    "          rotation=45)\n",
    "plt.title('Education Distribution')\n",
    "\n",
    "#show plot\n",
    "plt.show()\n",
    "\n",
    "#show value counts\n",
    "df.groupby(['EDUCATION'])[['ID']].count()"
   ]
  },
  {
   "cell_type": "markdown",
   "metadata": {},
   "source": [
    "## Default mean by education"
   ]
  },
  {
   "cell_type": "code",
   "execution_count": 197,
   "metadata": {},
   "outputs": [
    {
     "data": {
      "image/png": "[encoded data removed]",
      "text/plain": [
       "<Figure size 432x288 with 1 Axes>"
      ]
     },
     "metadata": {
      "needs_background": "light"
     },
     "output_type": "display_data"
    },
    {
     "data": {
      "text/html": [
       "<div>\n",
       "<style scoped>\n",
       "    .dataframe tbody tr th:only-of-type {\n",
       "        vertical-align: middle;\n",
       "    }\n",
       "\n",
       "    .dataframe tbody tr th {\n",
       "        vertical-align: top;\n",
       "    }\n",
       "\n",
       "    .dataframe thead th {\n",
       "        text-align: right;\n",
       "    }\n",
       "</style>\n",
       "<table border=\"1\" class=\"dataframe\">\n",
       "  <thead>\n",
       "    <tr style=\"text-align: right;\">\n",
       "      <th></th>\n",
       "      <th>default.payment.next.month</th>\n",
       "    </tr>\n",
       "    <tr>\n",
       "      <th>EDUCATION</th>\n",
       "      <th></th>\n",
       "    </tr>\n",
       "  </thead>\n",
       "  <tbody>\n",
       "    <tr>\n",
       "      <th>1</th>\n",
       "      <td>0.192348</td>\n",
       "    </tr>\n",
       "    <tr>\n",
       "      <th>2</th>\n",
       "      <td>0.237349</td>\n",
       "    </tr>\n",
       "    <tr>\n",
       "      <th>3</th>\n",
       "      <td>0.251576</td>\n",
       "    </tr>\n",
       "    <tr>\n",
       "      <th>4</th>\n",
       "      <td>0.070513</td>\n",
       "    </tr>\n",
       "  </tbody>\n",
       "</table>\n",
       "</div>"
      ],
      "text/plain": [
       "           default.payment.next.month\n",
       "EDUCATION                            \n",
       "1                            0.192348\n",
       "2                            0.237349\n",
       "3                            0.251576\n",
       "4                            0.070513"
      ]
     },
     "execution_count": 197,
     "metadata": {},
     "output_type": "execute_result"
    }
   ],
   "source": [
    "#set the number of ticks based on the number of different values in the series\n",
    "x=np.arange(len(df['EDUCATION'].unique()))\n",
    "\n",
    "#count the number of defaults for each level of education and store in a variable\n",
    "defaults_by_education=df.groupby(['EDUCATION'])[['default.payment.next.month']].mean()\n",
    "\n",
    "#Make bar plot of default mean for each class of education\n",
    "plt.bar(x,defaults_by_education['default.payment.next.month'])\n",
    "\n",
    "#label axes and add title\n",
    "plt.ylabel('Default percentage')\n",
    "plt.xticks(x,('Graduate School','University','High School','Others'),rotation=45)\n",
    "plt.title('Defaults by education')\n",
    "\n",
    "#show plot\n",
    "plt.show()\n",
    "\n",
    "#show mean for each class of education\n",
    "df.groupby(['EDUCATION'])[['default.payment.next.month']].mean()"
   ]
  },
  {
   "cell_type": "markdown",
   "metadata": {},
   "source": [
    "## Statistical Significance of Educaiton in relation to Default (Chi Square)\n",
    "\n",
    "Null hypothesis: The mean default is not different between the different levels of education\n",
    "\n",
    "Alternative hypothesis: The mean default is different between the different levels of education"
   ]
  },
  {
   "cell_type": "code",
   "execution_count": 198,
   "metadata": {},
   "outputs": [
    {
     "data": {
      "text/html": [
       "<div>\n",
       "<style scoped>\n",
       "    .dataframe tbody tr th:only-of-type {\n",
       "        vertical-align: middle;\n",
       "    }\n",
       "\n",
       "    .dataframe tbody tr th {\n",
       "        vertical-align: top;\n",
       "    }\n",
       "\n",
       "    .dataframe thead th {\n",
       "        text-align: right;\n",
       "    }\n",
       "</style>\n",
       "<table border=\"1\" class=\"dataframe\">\n",
       "  <thead>\n",
       "    <tr style=\"text-align: right;\">\n",
       "      <th>default.payment.next.month</th>\n",
       "      <th>0</th>\n",
       "      <th>1</th>\n",
       "    </tr>\n",
       "    <tr>\n",
       "      <th>EDUCATION</th>\n",
       "      <th></th>\n",
       "      <th></th>\n",
       "    </tr>\n",
       "  </thead>\n",
       "  <tbody>\n",
       "    <tr>\n",
       "      <th>1</th>\n",
       "      <td>8549</td>\n",
       "      <td>2036</td>\n",
       "    </tr>\n",
       "    <tr>\n",
       "      <th>2</th>\n",
       "      <td>10700</td>\n",
       "      <td>3330</td>\n",
       "    </tr>\n",
       "    <tr>\n",
       "      <th>3</th>\n",
       "      <td>3680</td>\n",
       "      <td>1237</td>\n",
       "    </tr>\n",
       "    <tr>\n",
       "      <th>4</th>\n",
       "      <td>435</td>\n",
       "      <td>33</td>\n",
       "    </tr>\n",
       "  </tbody>\n",
       "</table>\n",
       "</div>"
      ],
      "text/plain": [
       "default.payment.next.month      0     1\n",
       "EDUCATION                              \n",
       "1                            8549  2036\n",
       "2                           10700  3330\n",
       "3                            3680  1237\n",
       "4                             435    33"
      ]
     },
     "execution_count": 198,
     "metadata": {},
     "output_type": "execute_result"
    }
   ],
   "source": [
    "#display contingency table for education & default\n",
    "pd.crosstab(df['EDUCATION'],df['default.payment.next.month'])"
   ]
  },
  {
   "cell_type": "code",
   "execution_count": 199,
   "metadata": {},
   "outputs": [
    {
     "data": {
      "text/plain": [
       "(160.40995107224546,\n",
       " 1.4950645648106153e-34,\n",
       " 3,\n",
       " array([[ 8243.598 ,  2341.402 ],\n",
       "        [10926.564 ,  3103.436 ],\n",
       "        [ 3829.3596,  1087.6404],\n",
       "        [  364.4784,   103.5216]]))"
      ]
     },
     "execution_count": 199,
     "metadata": {},
     "output_type": "execute_result"
    }
   ],
   "source": [
    "#run chi square test on contingency table\n",
    "stats.chi2_contingency(pd.crosstab(df['EDUCATION'],df['default.payment.next.month']))"
   ]
  },
  {
   "cell_type": "markdown",
   "metadata": {},
   "source": [
    "since our p-value is close to zero, we reject the null hypothesis and assume that difference in education is significant when predicting the probability of default."
   ]
  },
  {
   "cell_type": "markdown",
   "metadata": {},
   "source": [
    "## Marriage distribution"
   ]
  },
  {
   "cell_type": "markdown",
   "metadata": {},
   "source": [
    "Let's take a quick look at the marriage column to see what the different values are"
   ]
  },
  {
   "cell_type": "code",
   "execution_count": 200,
   "metadata": {},
   "outputs": [
    {
     "data": {
      "text/plain": [
       "0       54\n",
       "1    13659\n",
       "2    15964\n",
       "3      323\n",
       "Name: MARRIAGE, dtype: int64"
      ]
     },
     "execution_count": 200,
     "metadata": {},
     "output_type": "execute_result"
    }
   ],
   "source": [
    "df['MARRIAGE'].value_counts().sort_index()"
   ]
  },
  {
   "cell_type": "markdown",
   "metadata": {},
   "source": [
    "Once again it looks like we a value in this column that does not fit the description at the top (0). We will replace all of the 0's with 3's ('other')"
   ]
  },
  {
   "cell_type": "code",
   "execution_count": 201,
   "metadata": {},
   "outputs": [],
   "source": [
    "#lump together all unknowns into 'other'\n",
    "fil = (df.MARRIAGE == 0)\n",
    "df.loc[fil, 'MARRIAGE'] = 3"
   ]
  },
  {
   "cell_type": "markdown",
   "metadata": {},
   "source": [
    "Now that we've cleaned that up, let's make a bar plot of the value counts"
   ]
  },
  {
   "cell_type": "code",
   "execution_count": 202,
   "metadata": {},
   "outputs": [
    {
     "data": {
      "image/png": "[encoded data removed]",
      "text/plain": [
       "<Figure size 432x288 with 1 Axes>"
      ]
     },
     "metadata": {
      "needs_background": "light"
     },
     "output_type": "display_data"
    },
    {
     "data": {
      "text/html": [
       "<div>\n",
       "<style scoped>\n",
       "    .dataframe tbody tr th:only-of-type {\n",
       "        vertical-align: middle;\n",
       "    }\n",
       "\n",
       "    .dataframe tbody tr th {\n",
       "        vertical-align: top;\n",
       "    }\n",
       "\n",
       "    .dataframe thead th {\n",
       "        text-align: right;\n",
       "    }\n",
       "</style>\n",
       "<table border=\"1\" class=\"dataframe\">\n",
       "  <thead>\n",
       "    <tr style=\"text-align: right;\">\n",
       "      <th></th>\n",
       "      <th>ID</th>\n",
       "    </tr>\n",
       "    <tr>\n",
       "      <th>MARRIAGE</th>\n",
       "      <th></th>\n",
       "    </tr>\n",
       "  </thead>\n",
       "  <tbody>\n",
       "    <tr>\n",
       "      <th>1</th>\n",
       "      <td>13659</td>\n",
       "    </tr>\n",
       "    <tr>\n",
       "      <th>2</th>\n",
       "      <td>15964</td>\n",
       "    </tr>\n",
       "    <tr>\n",
       "      <th>3</th>\n",
       "      <td>377</td>\n",
       "    </tr>\n",
       "  </tbody>\n",
       "</table>\n",
       "</div>"
      ],
      "text/plain": [
       "             ID\n",
       "MARRIAGE       \n",
       "1         13659\n",
       "2         15964\n",
       "3           377"
      ]
     },
     "execution_count": 202,
     "metadata": {},
     "output_type": "execute_result"
    }
   ],
   "source": [
    "#set the number of ticks based on the number of different values in the series\n",
    "x=np.arange(len(df['MARRIAGE'].unique()))\n",
    "\n",
    "#Make barplot of marriage value counts\n",
    "plt.bar(x,df['MARRIAGE'].value_counts().sort_index())\n",
    "\n",
    "#add labels and title\n",
    "plt.ylabel('Count')\n",
    "plt.xticks(x,('Married','Single','Other'))\n",
    "plt.title('Marriage Distribution')\n",
    "\n",
    "#show plot\n",
    "plt.show()\n",
    "\n",
    "#display counts of each marriage category\n",
    "df.groupby(['MARRIAGE'])[['ID']].count()"
   ]
  },
  {
   "cell_type": "markdown",
   "metadata": {},
   "source": [
    "## Default mean by marriage"
   ]
  },
  {
   "cell_type": "code",
   "execution_count": 203,
   "metadata": {},
   "outputs": [
    {
     "data": {
      "image/png": "[encoded data removed]",
      "text/plain": [
       "<Figure size 432x288 with 1 Axes>"
      ]
     },
     "metadata": {
      "needs_background": "light"
     },
     "output_type": "display_data"
    },
    {
     "data": {
      "text/html": [
       "<div>\n",
       "<style scoped>\n",
       "    .dataframe tbody tr th:only-of-type {\n",
       "        vertical-align: middle;\n",
       "    }\n",
       "\n",
       "    .dataframe tbody tr th {\n",
       "        vertical-align: top;\n",
       "    }\n",
       "\n",
       "    .dataframe thead th {\n",
       "        text-align: right;\n",
       "    }\n",
       "</style>\n",
       "<table border=\"1\" class=\"dataframe\">\n",
       "  <thead>\n",
       "    <tr style=\"text-align: right;\">\n",
       "      <th></th>\n",
       "      <th>default.payment.next.month</th>\n",
       "    </tr>\n",
       "    <tr>\n",
       "      <th>MARRIAGE</th>\n",
       "      <th></th>\n",
       "    </tr>\n",
       "  </thead>\n",
       "  <tbody>\n",
       "    <tr>\n",
       "      <th>1</th>\n",
       "      <td>0.234717</td>\n",
       "    </tr>\n",
       "    <tr>\n",
       "      <th>2</th>\n",
       "      <td>0.209283</td>\n",
       "    </tr>\n",
       "    <tr>\n",
       "      <th>3</th>\n",
       "      <td>0.236074</td>\n",
       "    </tr>\n",
       "  </tbody>\n",
       "</table>\n",
       "</div>"
      ],
      "text/plain": [
       "          default.payment.next.month\n",
       "MARRIAGE                            \n",
       "1                           0.234717\n",
       "2                           0.209283\n",
       "3                           0.236074"
      ]
     },
     "execution_count": 203,
     "metadata": {},
     "output_type": "execute_result"
    }
   ],
   "source": [
    "#set the number of ticks based on the number of different values in the series\n",
    "x=np.arange(len(df['MARRIAGE'].unique()))\n",
    "\n",
    "#count the number of defaults for each level of education and store in a variable\n",
    "average_defaults_by_marriage=df.groupby(['MARRIAGE'])[['default.payment.next.month']].mean()\n",
    "\n",
    "#make barplot of default mean by marriage\n",
    "plt.bar(x,average_defaults_by_marriage['default.payment.next.month'])\n",
    "\n",
    "#add labels and title\n",
    "plt.ylabel('Count')\n",
    "plt.xticks(x,('Married','Single','Other'))\n",
    "plt.title('Average Default by Marriage')\n",
    "\n",
    "#show plot\n",
    "plt.show()\n",
    "\n",
    "#display default mean for each value of marriage\n",
    "df.groupby(['MARRIAGE'])[['default.payment.next.month']].mean()"
   ]
  },
  {
   "cell_type": "markdown",
   "metadata": {},
   "source": [
    "## Statistical Significance of Marriage in relation to Default (Chi Square)\n",
    "\n",
    "Null hypothesis: there is no difference between marriage and default\n",
    "\n",
    "Alternative hypothesis: there is a difference between marriage and default"
   ]
  },
  {
   "cell_type": "code",
   "execution_count": 204,
   "metadata": {},
   "outputs": [
    {
     "data": {
      "text/html": [
       "<div>\n",
       "<style scoped>\n",
       "    .dataframe tbody tr th:only-of-type {\n",
       "        vertical-align: middle;\n",
       "    }\n",
       "\n",
       "    .dataframe tbody tr th {\n",
       "        vertical-align: top;\n",
       "    }\n",
       "\n",
       "    .dataframe thead th {\n",
       "        text-align: right;\n",
       "    }\n",
       "</style>\n",
       "<table border=\"1\" class=\"dataframe\">\n",
       "  <thead>\n",
       "    <tr style=\"text-align: right;\">\n",
       "      <th>default.payment.next.month</th>\n",
       "      <th>0</th>\n",
       "      <th>1</th>\n",
       "    </tr>\n",
       "    <tr>\n",
       "      <th>MARRIAGE</th>\n",
       "      <th></th>\n",
       "      <th></th>\n",
       "    </tr>\n",
       "  </thead>\n",
       "  <tbody>\n",
       "    <tr>\n",
       "      <th>1</th>\n",
       "      <td>10453</td>\n",
       "      <td>3206</td>\n",
       "    </tr>\n",
       "    <tr>\n",
       "      <th>2</th>\n",
       "      <td>12623</td>\n",
       "      <td>3341</td>\n",
       "    </tr>\n",
       "    <tr>\n",
       "      <th>3</th>\n",
       "      <td>288</td>\n",
       "      <td>89</td>\n",
       "    </tr>\n",
       "  </tbody>\n",
       "</table>\n",
       "</div>"
      ],
      "text/plain": [
       "default.payment.next.month      0     1\n",
       "MARRIAGE                               \n",
       "1                           10453  3206\n",
       "2                           12623  3341\n",
       "3                             288    89"
      ]
     },
     "execution_count": 204,
     "metadata": {},
     "output_type": "execute_result"
    }
   ],
   "source": [
    "#create contingency table for chi square test\n",
    "pd.crosstab(df['MARRIAGE'],df['default.payment.next.month'])"
   ]
  },
  {
   "cell_type": "code",
   "execution_count": 205,
   "metadata": {},
   "outputs": [
    {
     "data": {
      "text/plain": [
       "(28.13032464482199, 7.790720364202813e-07, 2, array([[10637.6292,  3021.3708],\n",
       "        [12432.7632,  3531.2368],\n",
       "        [  293.6076,    83.3924]]))"
      ]
     },
     "execution_count": 205,
     "metadata": {},
     "output_type": "execute_result"
    }
   ],
   "source": [
    "#run chi square test on contingency table\n",
    "stats.chi2_contingency(pd.crosstab(df['MARRIAGE'],df['default.payment.next.month']))"
   ]
  },
  {
   "cell_type": "markdown",
   "metadata": {},
   "source": [
    "Based on the chi squared test results, the difference between the default percentage of married/unmarried is significant. Although the difference in the histogram is small, because of the large sample size it is still significant."
   ]
  },
  {
   "cell_type": "markdown",
   "metadata": {},
   "source": [
    "## Age distribution"
   ]
  },
  {
   "cell_type": "code",
   "execution_count": 206,
   "metadata": {},
   "outputs": [
    {
     "data": {
      "image/png": "[encoded data removed]",
      "text/plain": [
       "<Figure size 432x288 with 1 Axes>"
      ]
     },
     "metadata": {
      "needs_background": "light"
     },
     "output_type": "display_data"
    },
    {
     "data": {
      "text/plain": [
       "count    30000.000000\n",
       "mean        35.485500\n",
       "std          9.217904\n",
       "min         21.000000\n",
       "25%         28.000000\n",
       "50%         34.000000\n",
       "75%         41.000000\n",
       "max         79.000000\n",
       "Name: AGE, dtype: float64"
      ]
     },
     "execution_count": 206,
     "metadata": {},
     "output_type": "execute_result"
    }
   ],
   "source": [
    "#Make historgram of age\n",
    "plt.hist(df['AGE'], bins = 20)\n",
    "\n",
    "#add labels and title\n",
    "plt.xlabel('Age')\n",
    "plt.ylabel('Count')\n",
    "\n",
    "#show plot\n",
    "plt.show()\n",
    "\n",
    "#show summary statistics for age\n",
    "df['AGE'].describe()"
   ]
  },
  {
   "cell_type": "markdown",
   "metadata": {},
   "source": [
    "## Boxplot of age grouped by default"
   ]
  },
  {
   "cell_type": "code",
   "execution_count": 207,
   "metadata": {},
   "outputs": [
    {
     "data": {
      "text/html": [
       "<div>\n",
       "<style scoped>\n",
       "    .dataframe tbody tr th:only-of-type {\n",
       "        vertical-align: middle;\n",
       "    }\n",
       "\n",
       "    .dataframe tbody tr th {\n",
       "        vertical-align: top;\n",
       "    }\n",
       "\n",
       "    .dataframe thead th {\n",
       "        text-align: right;\n",
       "    }\n",
       "</style>\n",
       "<table border=\"1\" class=\"dataframe\">\n",
       "  <thead>\n",
       "    <tr style=\"text-align: right;\">\n",
       "      <th></th>\n",
       "      <th>mean</th>\n",
       "      <th>std</th>\n",
       "    </tr>\n",
       "    <tr>\n",
       "      <th>default.payment.next.month</th>\n",
       "      <th></th>\n",
       "      <th></th>\n",
       "    </tr>\n",
       "  </thead>\n",
       "  <tbody>\n",
       "    <tr>\n",
       "      <th>0</th>\n",
       "      <td>35.417266</td>\n",
       "      <td>9.077355</td>\n",
       "    </tr>\n",
       "    <tr>\n",
       "      <th>1</th>\n",
       "      <td>35.725738</td>\n",
       "      <td>9.693438</td>\n",
       "    </tr>\n",
       "  </tbody>\n",
       "</table>\n",
       "</div>"
      ],
      "text/plain": [
       "                                 mean       std\n",
       "default.payment.next.month                     \n",
       "0                           35.417266  9.077355\n",
       "1                           35.725738  9.693438"
      ]
     },
     "execution_count": 207,
     "metadata": {},
     "output_type": "execute_result"
    },
    {
     "data": {
      "image/png": "[encoded data removed]",
      "text/plain": [
       "<Figure size 432x288 with 1 Axes>"
      ]
     },
     "metadata": {
      "needs_background": "light"
     },
     "output_type": "display_data"
    },
    {
     "data": {
      "image/png": "[encoded data removed]",
      "text/plain": [
       "<Figure size 432x288 with 1 Axes>"
      ]
     },
     "metadata": {
      "needs_background": "light"
     },
     "output_type": "display_data"
    }
   ],
   "source": [
    "#make a box plot of default by age\n",
    "df.boxplot(column=['AGE'],by = ['default.payment.next.month'])\n",
    "plt.ylabel('Age')\n",
    "\n",
    "#plot mean default by age\n",
    "default_by_age=pd.DataFrame(df.groupby(['AGE'])['default.payment.next.month'].mean())\n",
    "default_by_age.plot(title='average default by age')\n",
    "plt.ylabel('Mean Default')\n",
    "\n",
    "#display mean and standard deviation of age by default\n",
    "pd.DataFrame(df.groupby(['default.payment.next.month'])['AGE'].describe().loc[:,['mean','std']])"
   ]
  },
  {
   "cell_type": "markdown",
   "metadata": {},
   "source": [
    "It appears that the default rate is higher for customers under 25, generally lower around 30, and then starts to increase at about 35, then drops again after 60 (with some obvious outliers). \n",
    "\n",
    "Due to the limited sample size for customers over 55 it is difficult to get a realistic idea of the default rate for this age group."
   ]
  },
  {
   "cell_type": "markdown",
   "metadata": {},
   "source": [
    "## Statistical significance of Age in relation to Default (t-test)\n",
    "\n",
    "Null hypothesis: mean default is the same regardless of age\n",
    "\n",
    "Alternative hypothesis: mean default is not the same for all ages\n",
    "\n",
    "we will use the t-test because the age variable is relatively normally distributed."
   ]
  },
  {
   "cell_type": "code",
   "execution_count": 208,
   "metadata": {},
   "outputs": [
    {
     "data": {
      "text/plain": [
       "Ttest_indResult(statistic=-2.40594177499625, pvalue=0.016136845890163835)"
      ]
     },
     "execution_count": 208,
     "metadata": {},
     "output_type": "execute_result"
    }
   ],
   "source": [
    "rvs0 = df[df['default.payment.next.month']==0]['AGE']\n",
    "rvs1 = df[df['default.payment.next.month']==1]['AGE']\n",
    "\n",
    "stats.ttest_ind(rvs0,rvs1)"
   ]
  },
  {
   "cell_type": "markdown",
   "metadata": {},
   "source": [
    "Based on this result, we will accept the null hypothesis and assume that age does not affect the chance of default."
   ]
  },
  {
   "cell_type": "markdown",
   "metadata": {},
   "source": [
    "## Repayment status September, 2005"
   ]
  },
  {
   "cell_type": "markdown",
   "metadata": {},
   "source": [
    "Let's take a quick look at the values for this column to see what if they match the discription"
   ]
  },
  {
   "cell_type": "code",
   "execution_count": 209,
   "metadata": {},
   "outputs": [
    {
     "data": {
      "text/plain": [
       "-2     2759\n",
       "-1     5686\n",
       " 0    14737\n",
       " 1     3688\n",
       " 2     2667\n",
       " 3      322\n",
       " 4       76\n",
       " 5       26\n",
       " 6       11\n",
       " 7        9\n",
       " 8       19\n",
       "Name: PAY_0, dtype: int64"
      ]
     },
     "execution_count": 209,
     "metadata": {},
     "output_type": "execute_result"
    }
   ],
   "source": [
    "df['PAY_0'].value_counts().sort_index()"
   ]
  },
  {
   "cell_type": "markdown",
   "metadata": {},
   "source": [
    "Once again it looks like we values in this column that do not fit the description at the top (0, -2). We will replace all of the negative values with 0 ('pay duly')."
   ]
  },
  {
   "cell_type": "code",
   "execution_count": 210,
   "metadata": {},
   "outputs": [],
   "source": [
    "#lump together all negative values into 'pay duly'\n",
    "fil = (df.PAY_0 == -2) | (df.PAY_0 == -1)\n",
    "df.loc[fil, 'PAY_0'] = 0"
   ]
  },
  {
   "cell_type": "markdown",
   "metadata": {},
   "source": [
    "Now that we've cleaned that up, let's take a look at the value counts for this column"
   ]
  },
  {
   "cell_type": "code",
   "execution_count": 211,
   "metadata": {},
   "outputs": [
    {
     "data": {
      "image/png": "[encoded data removed]",
      "text/plain": [
       "<Figure size 432x288 with 1 Axes>"
      ]
     },
     "metadata": {
      "needs_background": "light"
     },
     "output_type": "display_data"
    },
    {
     "data": {
      "text/html": [
       "<div>\n",
       "<style scoped>\n",
       "    .dataframe tbody tr th:only-of-type {\n",
       "        vertical-align: middle;\n",
       "    }\n",
       "\n",
       "    .dataframe tbody tr th {\n",
       "        vertical-align: top;\n",
       "    }\n",
       "\n",
       "    .dataframe thead th {\n",
       "        text-align: right;\n",
       "    }\n",
       "</style>\n",
       "<table border=\"1\" class=\"dataframe\">\n",
       "  <thead>\n",
       "    <tr style=\"text-align: right;\">\n",
       "      <th></th>\n",
       "      <th>ID</th>\n",
       "    </tr>\n",
       "    <tr>\n",
       "      <th>PAY_0</th>\n",
       "      <th></th>\n",
       "    </tr>\n",
       "  </thead>\n",
       "  <tbody>\n",
       "    <tr>\n",
       "      <th>0</th>\n",
       "      <td>23182</td>\n",
       "    </tr>\n",
       "    <tr>\n",
       "      <th>1</th>\n",
       "      <td>3688</td>\n",
       "    </tr>\n",
       "    <tr>\n",
       "      <th>2</th>\n",
       "      <td>2667</td>\n",
       "    </tr>\n",
       "    <tr>\n",
       "      <th>3</th>\n",
       "      <td>322</td>\n",
       "    </tr>\n",
       "    <tr>\n",
       "      <th>4</th>\n",
       "      <td>76</td>\n",
       "    </tr>\n",
       "    <tr>\n",
       "      <th>5</th>\n",
       "      <td>26</td>\n",
       "    </tr>\n",
       "    <tr>\n",
       "      <th>6</th>\n",
       "      <td>11</td>\n",
       "    </tr>\n",
       "    <tr>\n",
       "      <th>7</th>\n",
       "      <td>9</td>\n",
       "    </tr>\n",
       "    <tr>\n",
       "      <th>8</th>\n",
       "      <td>19</td>\n",
       "    </tr>\n",
       "  </tbody>\n",
       "</table>\n",
       "</div>"
      ],
      "text/plain": [
       "          ID\n",
       "PAY_0       \n",
       "0      23182\n",
       "1       3688\n",
       "2       2667\n",
       "3        322\n",
       "4         76\n",
       "5         26\n",
       "6         11\n",
       "7          9\n",
       "8         19"
      ]
     },
     "execution_count": 211,
     "metadata": {},
     "output_type": "execute_result"
    }
   ],
   "source": [
    "#set the number of ticks based on the number of different values in the series\n",
    "x=np.arange(len(df['PAY_0'].unique()))\n",
    "\n",
    "#make bar plot of 9/2005 repayment status value counts\n",
    "plt.bar(x,df['PAY_0'].value_counts().sort_index())\n",
    "\n",
    "#add labels and title\n",
    "plt.ylabel('Count')\n",
    "plt.xticks(x,('Pay Duly','1 month delay','2 month delay','3 month delay','4 month delay',\n",
    "             '5 month delay','6 month delay','7 month delay','8 month delay','9+ month delay'),\n",
    "             rotation=45)\n",
    "plt.title('Repayment status in September, 2005')\n",
    "\n",
    "#show plot\n",
    "plt.show()\n",
    "\n",
    "#display counts for each category\n",
    "df.groupby(['PAY_0'])[['ID']].count()"
   ]
  },
  {
   "cell_type": "markdown",
   "metadata": {},
   "source": [
    "## Default mean by repayment status September, 2005"
   ]
  },
  {
   "cell_type": "code",
   "execution_count": 212,
   "metadata": {},
   "outputs": [
    {
     "data": {
      "image/png": "[encoded data removed]",
      "text/plain": [
       "<Figure size 432x288 with 1 Axes>"
      ]
     },
     "metadata": {
      "needs_background": "light"
     },
     "output_type": "display_data"
    },
    {
     "data": {
      "text/html": [
       "<div>\n",
       "<style scoped>\n",
       "    .dataframe tbody tr th:only-of-type {\n",
       "        vertical-align: middle;\n",
       "    }\n",
       "\n",
       "    .dataframe tbody tr th {\n",
       "        vertical-align: top;\n",
       "    }\n",
       "\n",
       "    .dataframe thead th {\n",
       "        text-align: right;\n",
       "    }\n",
       "</style>\n",
       "<table border=\"1\" class=\"dataframe\">\n",
       "  <thead>\n",
       "    <tr style=\"text-align: right;\">\n",
       "      <th></th>\n",
       "      <th>default.payment.next.month</th>\n",
       "    </tr>\n",
       "    <tr>\n",
       "      <th>PAY_0</th>\n",
       "      <th></th>\n",
       "    </tr>\n",
       "  </thead>\n",
       "  <tbody>\n",
       "    <tr>\n",
       "      <th>0</th>\n",
       "      <td>0.138340</td>\n",
       "    </tr>\n",
       "    <tr>\n",
       "      <th>1</th>\n",
       "      <td>0.339479</td>\n",
       "    </tr>\n",
       "    <tr>\n",
       "      <th>2</th>\n",
       "      <td>0.691414</td>\n",
       "    </tr>\n",
       "    <tr>\n",
       "      <th>3</th>\n",
       "      <td>0.757764</td>\n",
       "    </tr>\n",
       "    <tr>\n",
       "      <th>4</th>\n",
       "      <td>0.684211</td>\n",
       "    </tr>\n",
       "    <tr>\n",
       "      <th>5</th>\n",
       "      <td>0.500000</td>\n",
       "    </tr>\n",
       "    <tr>\n",
       "      <th>6</th>\n",
       "      <td>0.545455</td>\n",
       "    </tr>\n",
       "    <tr>\n",
       "      <th>7</th>\n",
       "      <td>0.777778</td>\n",
       "    </tr>\n",
       "    <tr>\n",
       "      <th>8</th>\n",
       "      <td>0.578947</td>\n",
       "    </tr>\n",
       "  </tbody>\n",
       "</table>\n",
       "</div>"
      ],
      "text/plain": [
       "       default.payment.next.month\n",
       "PAY_0                            \n",
       "0                        0.138340\n",
       "1                        0.339479\n",
       "2                        0.691414\n",
       "3                        0.757764\n",
       "4                        0.684211\n",
       "5                        0.500000\n",
       "6                        0.545455\n",
       "7                        0.777778\n",
       "8                        0.578947"
      ]
     },
     "execution_count": 212,
     "metadata": {},
     "output_type": "execute_result"
    }
   ],
   "source": [
    "#set the number of ticks based on the number of different values in the series\n",
    "x=np.arange(len(df['PAY_0'].unique()))\n",
    "\n",
    "#find percentage of defaults for each repayment status and store in a variable\n",
    "defaults_by_pay_status=df.groupby(['PAY_0'])[['default.payment.next.month']].mean()\n",
    "\n",
    "#make bar plot of default mean of each value count of repayment status for 9/2005\n",
    "plt.bar(x,defaults_by_pay_status['default.payment.next.month'])\n",
    "\n",
    "#add labels and title\n",
    "plt.ylabel('% default')\n",
    "plt.xticks(x,('Pay Duly','1 month delay','2 month delay','3 month delay','4 month delay',\n",
    "             '5 month delay','6 month delay','7 month delay','8 month delay','9+ month delay'),\n",
    "             rotation=45)\n",
    "plt.title('Default by Repayment status in September, 2005')\n",
    "\n",
    "#show plot\n",
    "plt.show()\n",
    "\n",
    "#display mean for each value count\n",
    "df.groupby(['PAY_0'])[['default.payment.next.month']].mean()"
   ]
  },
  {
   "cell_type": "markdown",
   "metadata": {},
   "source": [
    "## Bill amount in September, 2005"
   ]
  },
  {
   "cell_type": "code",
   "execution_count": 213,
   "metadata": {},
   "outputs": [
    {
     "data": {
      "image/png": "[encoded data removed]",
      "text/plain": [
       "<Figure size 432x288 with 1 Axes>"
      ]
     },
     "metadata": {
      "needs_background": "light"
     },
     "output_type": "display_data"
    },
    {
     "name": "stdout",
     "output_type": "stream",
     "text": [
      "count     30000.000000\n",
      "mean      51223.330900\n",
      "std       73635.860576\n",
      "min     -165580.000000\n",
      "25%        3558.750000\n",
      "50%       22381.500000\n",
      "75%       67091.000000\n",
      "max      964511.000000\n",
      "Name: BILL_AMT1, dtype: float64\n"
     ]
    }
   ],
   "source": [
    "#make histogram of bill amounts for 9/2005\n",
    "plt.hist(df['BILL_AMT1'],bins=20)\n",
    "\n",
    "#set y scale to log to better display values\n",
    "plt.yscale('log')\n",
    "\n",
    "#add lables and title\n",
    "plt.xlabel('Bill Amount')\n",
    "plt.ylabel('Count')\n",
    "plt.title('Amount of bill statement in September, 2005')\n",
    "\n",
    "#show plot\n",
    "plt.show()\n",
    "\n",
    "#display summary statistics\n",
    "print(df['BILL_AMT1'].describe())"
   ]
  },
  {
   "cell_type": "markdown",
   "metadata": {},
   "source": [
    "## Box plot of bill amount by default September, 2005"
   ]
  },
  {
   "cell_type": "code",
   "execution_count": 214,
   "metadata": {},
   "outputs": [
    {
     "data": {
      "text/html": [
       "<div>\n",
       "<style scoped>\n",
       "    .dataframe tbody tr th:only-of-type {\n",
       "        vertical-align: middle;\n",
       "    }\n",
       "\n",
       "    .dataframe tbody tr th {\n",
       "        vertical-align: top;\n",
       "    }\n",
       "\n",
       "    .dataframe thead th {\n",
       "        text-align: right;\n",
       "    }\n",
       "</style>\n",
       "<table border=\"1\" class=\"dataframe\">\n",
       "  <thead>\n",
       "    <tr style=\"text-align: right;\">\n",
       "      <th></th>\n",
       "      <th>mean</th>\n",
       "      <th>std</th>\n",
       "    </tr>\n",
       "    <tr>\n",
       "      <th>default.payment.next.month</th>\n",
       "      <th></th>\n",
       "      <th></th>\n",
       "    </tr>\n",
       "  </thead>\n",
       "  <tbody>\n",
       "    <tr>\n",
       "      <th>0</th>\n",
       "      <td>51994.227273</td>\n",
       "      <td>73577.606694</td>\n",
       "    </tr>\n",
       "    <tr>\n",
       "      <th>1</th>\n",
       "      <td>48509.162297</td>\n",
       "      <td>73782.067220</td>\n",
       "    </tr>\n",
       "  </tbody>\n",
       "</table>\n",
       "</div>"
      ],
      "text/plain": [
       "                                    mean           std\n",
       "default.payment.next.month                            \n",
       "0                           51994.227273  73577.606694\n",
       "1                           48509.162297  73782.067220"
      ]
     },
     "execution_count": 214,
     "metadata": {},
     "output_type": "execute_result"
    },
    {
     "data": {
      "image/png": "[encoded data removed]",
      "text/plain": [
       "<Figure size 432x288 with 1 Axes>"
      ]
     },
     "metadata": {
      "needs_background": "light"
     },
     "output_type": "display_data"
    }
   ],
   "source": [
    "#make a box plot of default by bill amount 9/2005, set y scale to log for visual clarity\n",
    "df.boxplot(column=['BILL_AMT1'],by = ['default.payment.next.month']).set_yscale('log')\n",
    "\n",
    "#display mean and standard deviation of bill amount for default and no default\n",
    "pd.DataFrame(df.groupby(['default.payment.next.month'])['BILL_AMT1'].describe().loc[:,['mean','std']])"
   ]
  },
  {
   "cell_type": "markdown",
   "metadata": {},
   "source": [
    "## Statistical significance of bill amount in relation to default for September, 2005\n",
    "\n",
    "Null hypothesis: chance of default is independent of bill amount\n",
    "\n",
    "Alternative hypothesis: chance of default is not independent of bill amount"
   ]
  },
  {
   "cell_type": "code",
   "execution_count": 215,
   "metadata": {},
   "outputs": [
    {
     "data": {
      "text/plain": [
       "Ttest_indResult(statistic=3.403018001170964, pvalue=0.0006673295491221741)"
      ]
     },
     "execution_count": 215,
     "metadata": {},
     "output_type": "execute_result"
    }
   ],
   "source": [
    "#set 2 variables for no default (0) and default (1)\n",
    "rvs0 = df[df['default.payment.next.month']==0]['BILL_AMT1']\n",
    "rvs1 = df[df['default.payment.next.month']==1]['BILL_AMT1']\n",
    "\n",
    "stats.ttest_ind(rvs0,rvs1)"
   ]
  },
  {
   "cell_type": "markdown",
   "metadata": {},
   "source": [
    "Since our p-value is less than 0.01, we will reject the null hypothesis and assume that the bill amount for September, 2005 is significant in predicting the chance of default."
   ]
  },
  {
   "cell_type": "markdown",
   "metadata": {},
   "source": [
    "## Previous month payment amount September, 2005"
   ]
  },
  {
   "cell_type": "code",
   "execution_count": 216,
   "metadata": {},
   "outputs": [
    {
     "data": {
      "image/png": "[encoded data removed]",
      "text/plain": [
       "<Figure size 432x288 with 1 Axes>"
      ]
     },
     "metadata": {
      "needs_background": "light"
     },
     "output_type": "display_data"
    },
    {
     "name": "stdout",
     "output_type": "stream",
     "text": [
      "count     30000.000000\n",
      "mean       5663.580500\n",
      "std       16563.280354\n",
      "min           0.000000\n",
      "25%        1000.000000\n",
      "50%        2100.000000\n",
      "75%        5006.000000\n",
      "max      873552.000000\n",
      "Name: PAY_AMT1, dtype: float64\n"
     ]
    }
   ],
   "source": [
    "#create histogram for previous month payment amount 9/2005\n",
    "plt.hist(df['PAY_AMT1'],bins=20)\n",
    "\n",
    "#set y scale to log for visual clarity\n",
    "plt.yscale('log')\n",
    "\n",
    "#add labels and title\n",
    "plt.xlabel('Bill Amount')\n",
    "plt.ylabel('Count')\n",
    "plt.title('Amount of previous payment in September, 2005')\n",
    "plt.xticks(rotation=45)\n",
    "\n",
    "#show plot\n",
    "plt.show()\n",
    "\n",
    "#show summary statistics\n",
    "print(df['PAY_AMT1'].describe())"
   ]
  },
  {
   "cell_type": "markdown",
   "metadata": {},
   "source": [
    "## Default by previous month pay amount September, 2005"
   ]
  },
  {
   "cell_type": "code",
   "execution_count": 217,
   "metadata": {},
   "outputs": [
    {
     "data": {
      "text/html": [
       "<div>\n",
       "<style scoped>\n",
       "    .dataframe tbody tr th:only-of-type {\n",
       "        vertical-align: middle;\n",
       "    }\n",
       "\n",
       "    .dataframe tbody tr th {\n",
       "        vertical-align: top;\n",
       "    }\n",
       "\n",
       "    .dataframe thead th {\n",
       "        text-align: right;\n",
       "    }\n",
       "</style>\n",
       "<table border=\"1\" class=\"dataframe\">\n",
       "  <thead>\n",
       "    <tr style=\"text-align: right;\">\n",
       "      <th></th>\n",
       "      <th>mean</th>\n",
       "      <th>std</th>\n",
       "    </tr>\n",
       "    <tr>\n",
       "      <th>default.payment.next.month</th>\n",
       "      <th></th>\n",
       "      <th></th>\n",
       "    </tr>\n",
       "  </thead>\n",
       "  <tbody>\n",
       "    <tr>\n",
       "      <th>0</th>\n",
       "      <td>6307.337357</td>\n",
       "      <td>18014.508990</td>\n",
       "    </tr>\n",
       "    <tr>\n",
       "      <th>1</th>\n",
       "      <td>3397.044153</td>\n",
       "      <td>9544.252427</td>\n",
       "    </tr>\n",
       "  </tbody>\n",
       "</table>\n",
       "</div>"
      ],
      "text/plain": [
       "                                   mean           std\n",
       "default.payment.next.month                           \n",
       "0                           6307.337357  18014.508990\n",
       "1                           3397.044153   9544.252427"
      ]
     },
     "execution_count": 217,
     "metadata": {},
     "output_type": "execute_result"
    },
    {
     "data": {
      "image/png": "[encoded data removed]",
      "text/plain": [
       "<Figure size 432x288 with 1 Axes>"
      ]
     },
     "metadata": {
      "needs_background": "light"
     },
     "output_type": "display_data"
    }
   ],
   "source": [
    "#make a box plot of default by previous month payment amount 9/2005 with y scale set to log\n",
    "df.boxplot(column=['PAY_AMT1'],by = ['default.payment.next.month']).set_yscale('log')\n",
    "\n",
    "#label y axis\n",
    "plt.ylabel('Previous month pay amount, 9/2005')\n",
    "\n",
    "#display mean and standard deviation of no default and default for previous month pay amount 9/2005\n",
    "pd.DataFrame(df.groupby(['default.payment.next.month'])['PAY_AMT1'].describe().loc[:,['mean','std']])"
   ]
  },
  {
   "cell_type": "markdown",
   "metadata": {},
   "source": [
    "## Statistical significance of previous month pay amount in relation to default for September, 2005\n",
    "\n",
    "Null hypothesis: chance of default is independent of bill amount\n",
    "\n",
    "Alternative hypothesis: chance of default is not independent of bill amount"
   ]
  },
  {
   "cell_type": "code",
   "execution_count": 218,
   "metadata": {},
   "outputs": [
    {
     "data": {
      "text/plain": [
       "Ttest_indResult(statistic=12.665062557364722, pvalue=1.1464876142241624e-36)"
      ]
     },
     "execution_count": 218,
     "metadata": {},
     "output_type": "execute_result"
    }
   ],
   "source": [
    "#set 2 variables for no default (0) and default (1)\n",
    "rvs0 = df[df['default.payment.next.month']==0]['PAY_AMT1']\n",
    "rvs1 = df[df['default.payment.next.month']==1]['PAY_AMT1']\n",
    "\n",
    "stats.ttest_ind(rvs0,rvs1)"
   ]
  },
  {
   "cell_type": "markdown",
   "metadata": {},
   "source": [
    "Since our p-value is less than 0.01, we will reject the null hypothesis and assume that the amount paid in August, 2005 is significant in predicting the chance of default."
   ]
  },
  {
   "cell_type": "markdown",
   "metadata": {},
   "source": [
    "## Repayment status August, 2005"
   ]
  },
  {
   "cell_type": "markdown",
   "metadata": {},
   "source": [
    "Let's take a quick look at the values for this column to see what if they match the discription"
   ]
  },
  {
   "cell_type": "code",
   "execution_count": 219,
   "metadata": {},
   "outputs": [
    {
     "data": {
      "text/plain": [
       "-2     3782\n",
       "-1     6050\n",
       " 0    15730\n",
       " 1       28\n",
       " 2     3927\n",
       " 3      326\n",
       " 4       99\n",
       " 5       25\n",
       " 6       12\n",
       " 7       20\n",
       " 8        1\n",
       "Name: PAY_2, dtype: int64"
      ]
     },
     "execution_count": 219,
     "metadata": {},
     "output_type": "execute_result"
    }
   ],
   "source": [
    "df['PAY_2'].value_counts().sort_index()"
   ]
  },
  {
   "cell_type": "markdown",
   "metadata": {},
   "source": [
    "Once again it looks like we values in this column that do not fit the description at the top (0, -2). We will replace all of the negative values with 0 ('pay duly')."
   ]
  },
  {
   "cell_type": "code",
   "execution_count": 220,
   "metadata": {},
   "outputs": [],
   "source": [
    "#lump together all negative values into 'pay duly'\n",
    "fil = (df.PAY_2 == -2) | (df.PAY_2 == -1)\n",
    "df.loc[fil, 'PAY_2'] = 0"
   ]
  },
  {
   "cell_type": "markdown",
   "metadata": {},
   "source": [
    "Now that we've cleaned that up, let's take a look at the value counts for this column"
   ]
  },
  {
   "cell_type": "code",
   "execution_count": 221,
   "metadata": {},
   "outputs": [
    {
     "data": {
      "image/png": "[encoded data removed]",
      "text/plain": [
       "<Figure size 432x288 with 1 Axes>"
      ]
     },
     "metadata": {
      "needs_background": "light"
     },
     "output_type": "display_data"
    },
    {
     "data": {
      "text/html": [
       "<div>\n",
       "<style scoped>\n",
       "    .dataframe tbody tr th:only-of-type {\n",
       "        vertical-align: middle;\n",
       "    }\n",
       "\n",
       "    .dataframe tbody tr th {\n",
       "        vertical-align: top;\n",
       "    }\n",
       "\n",
       "    .dataframe thead th {\n",
       "        text-align: right;\n",
       "    }\n",
       "</style>\n",
       "<table border=\"1\" class=\"dataframe\">\n",
       "  <thead>\n",
       "    <tr style=\"text-align: right;\">\n",
       "      <th></th>\n",
       "      <th>ID</th>\n",
       "    </tr>\n",
       "    <tr>\n",
       "      <th>PAY_2</th>\n",
       "      <th></th>\n",
       "    </tr>\n",
       "  </thead>\n",
       "  <tbody>\n",
       "    <tr>\n",
       "      <th>0</th>\n",
       "      <td>25562</td>\n",
       "    </tr>\n",
       "    <tr>\n",
       "      <th>1</th>\n",
       "      <td>28</td>\n",
       "    </tr>\n",
       "    <tr>\n",
       "      <th>2</th>\n",
       "      <td>3927</td>\n",
       "    </tr>\n",
       "    <tr>\n",
       "      <th>3</th>\n",
       "      <td>326</td>\n",
       "    </tr>\n",
       "    <tr>\n",
       "      <th>4</th>\n",
       "      <td>99</td>\n",
       "    </tr>\n",
       "    <tr>\n",
       "      <th>5</th>\n",
       "      <td>25</td>\n",
       "    </tr>\n",
       "    <tr>\n",
       "      <th>6</th>\n",
       "      <td>12</td>\n",
       "    </tr>\n",
       "    <tr>\n",
       "      <th>7</th>\n",
       "      <td>20</td>\n",
       "    </tr>\n",
       "    <tr>\n",
       "      <th>8</th>\n",
       "      <td>1</td>\n",
       "    </tr>\n",
       "  </tbody>\n",
       "</table>\n",
       "</div>"
      ],
      "text/plain": [
       "          ID\n",
       "PAY_2       \n",
       "0      25562\n",
       "1         28\n",
       "2       3927\n",
       "3        326\n",
       "4         99\n",
       "5         25\n",
       "6         12\n",
       "7         20\n",
       "8          1"
      ]
     },
     "execution_count": 221,
     "metadata": {},
     "output_type": "execute_result"
    }
   ],
   "source": [
    "#set the number of ticks based on the number of different values in the series\n",
    "x=np.arange(len(df['PAY_2'].unique()))\n",
    "\n",
    "#make bar plot of 8/2005 repayment status value counts\n",
    "plt.bar(x,df['PAY_2'].value_counts().sort_index())\n",
    "\n",
    "#add labels and title\n",
    "plt.ylabel('Count')\n",
    "plt.xticks(x,('Pay Duly','1 month delay','2 month delay','3 month delay','4 month delay',\n",
    "             '5 month delay','6 month delay','7 month delay','8 month delay','9+ month delay'),\n",
    "             rotation=45)\n",
    "plt.title('Repayment status in August, 2005')\n",
    "\n",
    "#show plot\n",
    "plt.show()\n",
    "\n",
    "#display counts for each category\n",
    "df.groupby(['PAY_2'])[['ID']].count()"
   ]
  },
  {
   "cell_type": "markdown",
   "metadata": {},
   "source": [
    "## Default mean by repayment status August, 2005"
   ]
  },
  {
   "cell_type": "code",
   "execution_count": 222,
   "metadata": {},
   "outputs": [
    {
     "data": {
      "image/png": "[encoded data removed]",
      "text/plain": [
       "<Figure size 432x288 with 1 Axes>"
      ]
     },
     "metadata": {
      "needs_background": "light"
     },
     "output_type": "display_data"
    },
    {
     "data": {
      "text/html": [
       "<div>\n",
       "<style scoped>\n",
       "    .dataframe tbody tr th:only-of-type {\n",
       "        vertical-align: middle;\n",
       "    }\n",
       "\n",
       "    .dataframe tbody tr th {\n",
       "        vertical-align: top;\n",
       "    }\n",
       "\n",
       "    .dataframe thead th {\n",
       "        text-align: right;\n",
       "    }\n",
       "</style>\n",
       "<table border=\"1\" class=\"dataframe\">\n",
       "  <thead>\n",
       "    <tr style=\"text-align: right;\">\n",
       "      <th></th>\n",
       "      <th>default.payment.next.month</th>\n",
       "    </tr>\n",
       "    <tr>\n",
       "      <th>PAY_2</th>\n",
       "      <th></th>\n",
       "    </tr>\n",
       "  </thead>\n",
       "  <tbody>\n",
       "    <tr>\n",
       "      <th>0</th>\n",
       "      <td>0.162742</td>\n",
       "    </tr>\n",
       "    <tr>\n",
       "      <th>1</th>\n",
       "      <td>0.178571</td>\n",
       "    </tr>\n",
       "    <tr>\n",
       "      <th>2</th>\n",
       "      <td>0.556150</td>\n",
       "    </tr>\n",
       "    <tr>\n",
       "      <th>3</th>\n",
       "      <td>0.616564</td>\n",
       "    </tr>\n",
       "    <tr>\n",
       "      <th>4</th>\n",
       "      <td>0.505051</td>\n",
       "    </tr>\n",
       "    <tr>\n",
       "      <th>5</th>\n",
       "      <td>0.600000</td>\n",
       "    </tr>\n",
       "    <tr>\n",
       "      <th>6</th>\n",
       "      <td>0.750000</td>\n",
       "    </tr>\n",
       "    <tr>\n",
       "      <th>7</th>\n",
       "      <td>0.600000</td>\n",
       "    </tr>\n",
       "    <tr>\n",
       "      <th>8</th>\n",
       "      <td>0.000000</td>\n",
       "    </tr>\n",
       "  </tbody>\n",
       "</table>\n",
       "</div>"
      ],
      "text/plain": [
       "       default.payment.next.month\n",
       "PAY_2                            \n",
       "0                        0.162742\n",
       "1                        0.178571\n",
       "2                        0.556150\n",
       "3                        0.616564\n",
       "4                        0.505051\n",
       "5                        0.600000\n",
       "6                        0.750000\n",
       "7                        0.600000\n",
       "8                        0.000000"
      ]
     },
     "execution_count": 222,
     "metadata": {},
     "output_type": "execute_result"
    }
   ],
   "source": [
    "#set the number of ticks based on the number of different values in the series\n",
    "x=np.arange(len(df['PAY_2'].unique()))\n",
    "\n",
    "#find percentage of defaults for each repayment status and store in a variable\n",
    "defaults_by_pay_status=df.groupby(['PAY_2'])[['default.payment.next.month']].mean()\n",
    "\n",
    "#make bar plot of default mean of each value count of repayment status for 8/2005\n",
    "plt.bar(x,defaults_by_pay_status['default.payment.next.month'])\n",
    "\n",
    "#add labels and title\n",
    "plt.ylabel('% default')\n",
    "plt.xticks(x,('Pay Duly','1 month delay','2 month delay','3 month delay','4 month delay',\n",
    "             '5 month delay','6 month delay','7 month delay','8 month delay','9+ month delay'),\n",
    "             rotation=45)\n",
    "plt.title('Default by Repayment status in August, 2005')\n",
    "\n",
    "#show plot\n",
    "plt.show()\n",
    "\n",
    "#display mean for each value count\n",
    "df.groupby(['PAY_2'])[['default.payment.next.month']].mean()"
   ]
  },
  {
   "cell_type": "markdown",
   "metadata": {},
   "source": [
    "## Bill amount in August, 2005"
   ]
  },
  {
   "cell_type": "code",
   "execution_count": 223,
   "metadata": {},
   "outputs": [
    {
     "data": {
      "image/png": "[encoded data removed]",
      "text/plain": [
       "<Figure size 432x288 with 1 Axes>"
      ]
     },
     "metadata": {
      "needs_background": "light"
     },
     "output_type": "display_data"
    },
    {
     "name": "stdout",
     "output_type": "stream",
     "text": [
      "count     30000.000000\n",
      "mean      49179.075167\n",
      "std       71173.768783\n",
      "min      -69777.000000\n",
      "25%        2984.750000\n",
      "50%       21200.000000\n",
      "75%       64006.250000\n",
      "max      983931.000000\n",
      "Name: BILL_AMT2, dtype: float64\n"
     ]
    }
   ],
   "source": [
    "#make histogram of bill amounts for 8/2005\n",
    "plt.hist(df['BILL_AMT2'],bins=20)\n",
    "\n",
    "#set y scale to log to better display values\n",
    "plt.yscale('log')\n",
    "\n",
    "#add lables and title\n",
    "plt.xlabel('Bill Amount')\n",
    "plt.ylabel('Count')\n",
    "plt.title('Amount of bill statement in August, 2005')\n",
    "\n",
    "#show plot\n",
    "plt.show()\n",
    "\n",
    "#display summary statistics\n",
    "print(df['BILL_AMT2'].describe())"
   ]
  },
  {
   "cell_type": "markdown",
   "metadata": {},
   "source": [
    "## Box plot of bill amount by default August, 2005"
   ]
  },
  {
   "cell_type": "code",
   "execution_count": 224,
   "metadata": {},
   "outputs": [
    {
     "data": {
      "text/html": [
       "<div>\n",
       "<style scoped>\n",
       "    .dataframe tbody tr th:only-of-type {\n",
       "        vertical-align: middle;\n",
       "    }\n",
       "\n",
       "    .dataframe tbody tr th {\n",
       "        vertical-align: top;\n",
       "    }\n",
       "\n",
       "    .dataframe thead th {\n",
       "        text-align: right;\n",
       "    }\n",
       "</style>\n",
       "<table border=\"1\" class=\"dataframe\">\n",
       "  <thead>\n",
       "    <tr style=\"text-align: right;\">\n",
       "      <th></th>\n",
       "      <th>mean</th>\n",
       "      <th>std</th>\n",
       "    </tr>\n",
       "    <tr>\n",
       "      <th>default.payment.next.month</th>\n",
       "      <th></th>\n",
       "      <th></th>\n",
       "    </tr>\n",
       "  </thead>\n",
       "  <tbody>\n",
       "    <tr>\n",
       "      <th>0</th>\n",
       "      <td>49717.435670</td>\n",
       "      <td>71029.946709</td>\n",
       "    </tr>\n",
       "    <tr>\n",
       "      <th>1</th>\n",
       "      <td>47283.617842</td>\n",
       "      <td>71651.030364</td>\n",
       "    </tr>\n",
       "  </tbody>\n",
       "</table>\n",
       "</div>"
      ],
      "text/plain": [
       "                                    mean           std\n",
       "default.payment.next.month                            \n",
       "0                           49717.435670  71029.946709\n",
       "1                           47283.617842  71651.030364"
      ]
     },
     "execution_count": 224,
     "metadata": {},
     "output_type": "execute_result"
    },
    {
     "data": {
      "image/png": "[encoded data removed]",
      "text/plain": [
       "<Figure size 432x288 with 1 Axes>"
      ]
     },
     "metadata": {
      "needs_background": "light"
     },
     "output_type": "display_data"
    }
   ],
   "source": [
    "#make a box plot of default by bill amount 8/2005, set y scale to log for visual clarity\n",
    "df.boxplot(column=['BILL_AMT2'],by = ['default.payment.next.month']).set_yscale('log')\n",
    "\n",
    "#display mean and standard deviation of bill amount for default and no default\n",
    "pd.DataFrame(df.groupby(['default.payment.next.month'])['BILL_AMT2'].describe().loc[:,['mean','std']])"
   ]
  },
  {
   "cell_type": "markdown",
   "metadata": {},
   "source": [
    "## Statistical significance of bill amount in relation to default for August, 2005\n",
    "\n",
    "Null hypothesis: chance of default is independent of bill amount\n",
    "\n",
    "Alternative hypothesis: chance of default is not independent of bill amount"
   ]
  },
  {
   "cell_type": "code",
   "execution_count": 225,
   "metadata": {},
   "outputs": [
    {
     "data": {
      "text/plain": [
       "Ttest_indResult(statistic=2.458503181278919, pvalue=0.013957362392434761)"
      ]
     },
     "execution_count": 225,
     "metadata": {},
     "output_type": "execute_result"
    }
   ],
   "source": [
    "#set 2 variables for no default (0) and default (1)\n",
    "rvs0 = df[df['default.payment.next.month']==0]['BILL_AMT2']\n",
    "rvs1 = df[df['default.payment.next.month']==1]['BILL_AMT2']\n",
    "\n",
    "stats.ttest_ind(rvs0,rvs1)"
   ]
  },
  {
   "cell_type": "markdown",
   "metadata": {},
   "source": [
    "Since our p-value is greater than 0.01, we will accept the null hypothesis and assume that the bill amount for August, 2005 is not significant in predicting the chance of default."
   ]
  },
  {
   "cell_type": "markdown",
   "metadata": {},
   "source": [
    "## Previous month payment amount August, 2005"
   ]
  },
  {
   "cell_type": "code",
   "execution_count": 226,
   "metadata": {},
   "outputs": [
    {
     "data": {
      "image/png": "[encoded data removed]",
      "text/plain": [
       "<Figure size 432x288 with 1 Axes>"
      ]
     },
     "metadata": {
      "needs_background": "light"
     },
     "output_type": "display_data"
    },
    {
     "name": "stdout",
     "output_type": "stream",
     "text": [
      "count    3.000000e+04\n",
      "mean     5.921163e+03\n",
      "std      2.304087e+04\n",
      "min      0.000000e+00\n",
      "25%      8.330000e+02\n",
      "50%      2.009000e+03\n",
      "75%      5.000000e+03\n",
      "max      1.684259e+06\n",
      "Name: PAY_AMT2, dtype: float64\n"
     ]
    }
   ],
   "source": [
    "#create histogram for previous month payment amount 8/2005\n",
    "plt.hist(df['PAY_AMT2'],bins=20)\n",
    "\n",
    "#set y scale to log for visual clarity\n",
    "plt.yscale('log')\n",
    "\n",
    "#add labels and title\n",
    "plt.xlabel('Bill Amount')\n",
    "plt.ylabel('Count')\n",
    "plt.title('Amount of previous payment in August, 2005')\n",
    "plt.xticks(rotation=45)\n",
    "\n",
    "#show plot\n",
    "plt.show()\n",
    "\n",
    "#show summary statistics\n",
    "print(df['PAY_AMT2'].describe())"
   ]
  },
  {
   "cell_type": "markdown",
   "metadata": {},
   "source": [
    "## Default by previous month pay amount August, 2005"
   ]
  },
  {
   "cell_type": "code",
   "execution_count": 227,
   "metadata": {},
   "outputs": [
    {
     "data": {
      "text/html": [
       "<div>\n",
       "<style scoped>\n",
       "    .dataframe tbody tr th:only-of-type {\n",
       "        vertical-align: middle;\n",
       "    }\n",
       "\n",
       "    .dataframe tbody tr th {\n",
       "        vertical-align: top;\n",
       "    }\n",
       "\n",
       "    .dataframe thead th {\n",
       "        text-align: right;\n",
       "    }\n",
       "</style>\n",
       "<table border=\"1\" class=\"dataframe\">\n",
       "  <thead>\n",
       "    <tr style=\"text-align: right;\">\n",
       "      <th></th>\n",
       "      <th>mean</th>\n",
       "      <th>std</th>\n",
       "    </tr>\n",
       "    <tr>\n",
       "      <th>default.payment.next.month</th>\n",
       "      <th></th>\n",
       "      <th></th>\n",
       "    </tr>\n",
       "  </thead>\n",
       "  <tbody>\n",
       "    <tr>\n",
       "      <th>0</th>\n",
       "      <td>6640.465074</td>\n",
       "      <td>25302.263601</td>\n",
       "    </tr>\n",
       "    <tr>\n",
       "      <th>1</th>\n",
       "      <td>3388.649638</td>\n",
       "      <td>11737.986064</td>\n",
       "    </tr>\n",
       "  </tbody>\n",
       "</table>\n",
       "</div>"
      ],
      "text/plain": [
       "                                   mean           std\n",
       "default.payment.next.month                           \n",
       "0                           6640.465074  25302.263601\n",
       "1                           3388.649638  11737.986064"
      ]
     },
     "execution_count": 227,
     "metadata": {},
     "output_type": "execute_result"
    },
    {
     "data": {
      "image/png": "[encoded data removed]",
      "text/plain": [
       "<Figure size 432x288 with 1 Axes>"
      ]
     },
     "metadata": {
      "needs_background": "light"
     },
     "output_type": "display_data"
    }
   ],
   "source": [
    "#make a box plot of default by previous month payment amount 8/2005 with y scale set to log\n",
    "df.boxplot(column=['PAY_AMT2'],by = ['default.payment.next.month']).set_yscale('log')\n",
    "\n",
    "#label y axis\n",
    "plt.ylabel('Previous month pay amount, 8/2005')\n",
    "\n",
    "#display mean and standard deviation of no default and default for previous month pay amount 8/2005\n",
    "pd.DataFrame(df.groupby(['default.payment.next.month'])['PAY_AMT2'].describe().loc[:,['mean','std']])"
   ]
  },
  {
   "cell_type": "markdown",
   "metadata": {},
   "source": [
    "## Statistical significance of previous month pay amount in relation to default for August, 2005\n",
    "\n",
    "Null hypothesis: chance of default is independent of bill amount\n",
    "\n",
    "Alternative hypothesis: chance of default is not independent of bill amount"
   ]
  },
  {
   "cell_type": "code",
   "execution_count": 228,
   "metadata": {},
   "outputs": [
    {
     "data": {
      "text/plain": [
       "Ttest_indResult(statistic=10.163243786034139, pvalue=3.1666567628387115e-24)"
      ]
     },
     "execution_count": 228,
     "metadata": {},
     "output_type": "execute_result"
    }
   ],
   "source": [
    "#set 2 variables for no default (0) and default (1)\n",
    "rvs0 = df[df['default.payment.next.month']==0]['PAY_AMT2']\n",
    "rvs1 = df[df['default.payment.next.month']==1]['PAY_AMT2']\n",
    "\n",
    "stats.ttest_ind(rvs0,rvs1)"
   ]
  },
  {
   "cell_type": "markdown",
   "metadata": {},
   "source": [
    "Since our p-value is less than 0.01, we will reject the null hypothesis and assume that the amount paid in July, 2005 is significant in predicting the chance of default."
   ]
  },
  {
   "cell_type": "markdown",
   "metadata": {},
   "source": [
    "## Repayment status July, 2005"
   ]
  },
  {
   "cell_type": "markdown",
   "metadata": {},
   "source": [
    "Let's take a quick look at the values for this column to see what if they match the discription"
   ]
  },
  {
   "cell_type": "code",
   "execution_count": 229,
   "metadata": {},
   "outputs": [
    {
     "data": {
      "text/plain": [
       "-2     4085\n",
       "-1     5938\n",
       " 0    15764\n",
       " 1        4\n",
       " 2     3819\n",
       " 3      240\n",
       " 4       76\n",
       " 5       21\n",
       " 6       23\n",
       " 7       27\n",
       " 8        3\n",
       "Name: PAY_3, dtype: int64"
      ]
     },
     "execution_count": 229,
     "metadata": {},
     "output_type": "execute_result"
    }
   ],
   "source": [
    "df['PAY_3'].value_counts().sort_index()"
   ]
  },
  {
   "cell_type": "markdown",
   "metadata": {},
   "source": [
    "Once again it looks like we values in this column that do not fit the description at the top (0, -2). We will replace all of the negative values with 0 ('pay duly')."
   ]
  },
  {
   "cell_type": "code",
   "execution_count": 230,
   "metadata": {},
   "outputs": [],
   "source": [
    "#lump together all negative values into 'pay duly'\n",
    "fil = (df.PAY_3 == -2) | (df.PAY_3 == -1)\n",
    "df.loc[fil, 'PAY_3'] = 0"
   ]
  },
  {
   "cell_type": "markdown",
   "metadata": {},
   "source": [
    "Now that we've cleaned that up, let's take a look at the value counts for this column"
   ]
  },
  {
   "cell_type": "code",
   "execution_count": 231,
   "metadata": {},
   "outputs": [
    {
     "data": {
      "image/png": "[encoded data removed]",
      "text/plain": [
       "<Figure size 432x288 with 1 Axes>"
      ]
     },
     "metadata": {
      "needs_background": "light"
     },
     "output_type": "display_data"
    },
    {
     "data": {
      "text/html": [
       "<div>\n",
       "<style scoped>\n",
       "    .dataframe tbody tr th:only-of-type {\n",
       "        vertical-align: middle;\n",
       "    }\n",
       "\n",
       "    .dataframe tbody tr th {\n",
       "        vertical-align: top;\n",
       "    }\n",
       "\n",
       "    .dataframe thead th {\n",
       "        text-align: right;\n",
       "    }\n",
       "</style>\n",
       "<table border=\"1\" class=\"dataframe\">\n",
       "  <thead>\n",
       "    <tr style=\"text-align: right;\">\n",
       "      <th></th>\n",
       "      <th>ID</th>\n",
       "    </tr>\n",
       "    <tr>\n",
       "      <th>PAY_3</th>\n",
       "      <th></th>\n",
       "    </tr>\n",
       "  </thead>\n",
       "  <tbody>\n",
       "    <tr>\n",
       "      <th>0</th>\n",
       "      <td>25787</td>\n",
       "    </tr>\n",
       "    <tr>\n",
       "      <th>1</th>\n",
       "      <td>4</td>\n",
       "    </tr>\n",
       "    <tr>\n",
       "      <th>2</th>\n",
       "      <td>3819</td>\n",
       "    </tr>\n",
       "    <tr>\n",
       "      <th>3</th>\n",
       "      <td>240</td>\n",
       "    </tr>\n",
       "    <tr>\n",
       "      <th>4</th>\n",
       "      <td>76</td>\n",
       "    </tr>\n",
       "    <tr>\n",
       "      <th>5</th>\n",
       "      <td>21</td>\n",
       "    </tr>\n",
       "    <tr>\n",
       "      <th>6</th>\n",
       "      <td>23</td>\n",
       "    </tr>\n",
       "    <tr>\n",
       "      <th>7</th>\n",
       "      <td>27</td>\n",
       "    </tr>\n",
       "    <tr>\n",
       "      <th>8</th>\n",
       "      <td>3</td>\n",
       "    </tr>\n",
       "  </tbody>\n",
       "</table>\n",
       "</div>"
      ],
      "text/plain": [
       "          ID\n",
       "PAY_3       \n",
       "0      25787\n",
       "1          4\n",
       "2       3819\n",
       "3        240\n",
       "4         76\n",
       "5         21\n",
       "6         23\n",
       "7         27\n",
       "8          3"
      ]
     },
     "execution_count": 231,
     "metadata": {},
     "output_type": "execute_result"
    }
   ],
   "source": [
    "#set the number of ticks based on the number of different values in the series\n",
    "x=np.arange(len(df['PAY_3'].unique()))\n",
    "\n",
    "#make bar plot of 7/2005 repayment status value counts\n",
    "plt.bar(x,df['PAY_3'].value_counts().sort_index())\n",
    "\n",
    "#add labels and title\n",
    "plt.ylabel('Count')\n",
    "plt.xticks(x,('Pay Duly','1 month delay','2 month delay','3 month delay','4 month delay',\n",
    "             '5 month delay','6 month delay','7 month delay','8 month delay','9+ month delay'),\n",
    "             rotation=45)\n",
    "plt.title('Repayment status in July, 2005')\n",
    "\n",
    "#show plot\n",
    "plt.show()\n",
    "\n",
    "#display counts for each category\n",
    "df.groupby(['PAY_3'])[['ID']].count()"
   ]
  },
  {
   "cell_type": "markdown",
   "metadata": {},
   "source": [
    "## Default mean by repayment status July, 2005"
   ]
  },
  {
   "cell_type": "code",
   "execution_count": 232,
   "metadata": {},
   "outputs": [
    {
     "data": {
      "image/png": "[encoded data removed]",
      "text/plain": [
       "<Figure size 432x288 with 1 Axes>"
      ]
     },
     "metadata": {
      "needs_background": "light"
     },
     "output_type": "display_data"
    },
    {
     "data": {
      "text/html": [
       "<div>\n",
       "<style scoped>\n",
       "    .dataframe tbody tr th:only-of-type {\n",
       "        vertical-align: middle;\n",
       "    }\n",
       "\n",
       "    .dataframe tbody tr th {\n",
       "        vertical-align: top;\n",
       "    }\n",
       "\n",
       "    .dataframe thead th {\n",
       "        text-align: right;\n",
       "    }\n",
       "</style>\n",
       "<table border=\"1\" class=\"dataframe\">\n",
       "  <thead>\n",
       "    <tr style=\"text-align: right;\">\n",
       "      <th></th>\n",
       "      <th>default.payment.next.month</th>\n",
       "    </tr>\n",
       "    <tr>\n",
       "      <th>PAY_3</th>\n",
       "      <th></th>\n",
       "    </tr>\n",
       "  </thead>\n",
       "  <tbody>\n",
       "    <tr>\n",
       "      <th>0</th>\n",
       "      <td>0.171947</td>\n",
       "    </tr>\n",
       "    <tr>\n",
       "      <th>1</th>\n",
       "      <td>0.250000</td>\n",
       "    </tr>\n",
       "    <tr>\n",
       "      <th>2</th>\n",
       "      <td>0.515580</td>\n",
       "    </tr>\n",
       "    <tr>\n",
       "      <th>3</th>\n",
       "      <td>0.575000</td>\n",
       "    </tr>\n",
       "    <tr>\n",
       "      <th>4</th>\n",
       "      <td>0.578947</td>\n",
       "    </tr>\n",
       "    <tr>\n",
       "      <th>5</th>\n",
       "      <td>0.571429</td>\n",
       "    </tr>\n",
       "    <tr>\n",
       "      <th>6</th>\n",
       "      <td>0.608696</td>\n",
       "    </tr>\n",
       "    <tr>\n",
       "      <th>7</th>\n",
       "      <td>0.814815</td>\n",
       "    </tr>\n",
       "    <tr>\n",
       "      <th>8</th>\n",
       "      <td>0.666667</td>\n",
       "    </tr>\n",
       "  </tbody>\n",
       "</table>\n",
       "</div>"
      ],
      "text/plain": [
       "       default.payment.next.month\n",
       "PAY_3                            \n",
       "0                        0.171947\n",
       "1                        0.250000\n",
       "2                        0.515580\n",
       "3                        0.575000\n",
       "4                        0.578947\n",
       "5                        0.571429\n",
       "6                        0.608696\n",
       "7                        0.814815\n",
       "8                        0.666667"
      ]
     },
     "execution_count": 232,
     "metadata": {},
     "output_type": "execute_result"
    }
   ],
   "source": [
    "#set the number of ticks based on the number of different values in the series\n",
    "x=np.arange(len(df['PAY_3'].unique()))\n",
    "\n",
    "#find percentage of defaults for each repayment status and store in a variable\n",
    "defaults_by_pay_status=df.groupby(['PAY_3'])[['default.payment.next.month']].mean()\n",
    "\n",
    "#make bar plot of default mean of each value count of repayment status for 7/2005\n",
    "plt.bar(x,defaults_by_pay_status['default.payment.next.month'])\n",
    "\n",
    "#add labels and title\n",
    "plt.ylabel('% default')\n",
    "plt.xticks(x,('Pay Duly','1 month delay','2 month delay','3 month delay','4 month delay',\n",
    "             '5 month delay','6 month delay','7 month delay','8 month delay','9+ month delay'),\n",
    "             rotation=45)\n",
    "plt.title('Default by Repayment status in July, 2005')\n",
    "\n",
    "#show plot\n",
    "plt.show()\n",
    "\n",
    "#display mean for each value count\n",
    "df.groupby(['PAY_3'])[['default.payment.next.month']].mean()"
   ]
  },
  {
   "cell_type": "markdown",
   "metadata": {},
   "source": [
    "## Bill amount in July, 2005"
   ]
  },
  {
   "cell_type": "code",
   "execution_count": 233,
   "metadata": {},
   "outputs": [
    {
     "data": {
      "image/png": "[encoded data removed]",
      "text/plain": [
       "<Figure size 432x288 with 1 Axes>"
      ]
     },
     "metadata": {
      "needs_background": "light"
     },
     "output_type": "display_data"
    },
    {
     "name": "stdout",
     "output_type": "stream",
     "text": [
      "count     30000.000000\n",
      "mean      51223.330900\n",
      "std       73635.860576\n",
      "min     -165580.000000\n",
      "25%        3558.750000\n",
      "50%       22381.500000\n",
      "75%       67091.000000\n",
      "max      964511.000000\n",
      "Name: BILL_AMT1, dtype: float64\n"
     ]
    }
   ],
   "source": [
    "#make histogram of bill amounts for 7/2005\n",
    "plt.hist(df['BILL_AMT3'],bins=20)\n",
    "\n",
    "#set y scale to log to better display values\n",
    "plt.yscale('log')\n",
    "\n",
    "#add lables and title\n",
    "plt.xlabel('Bill Amount')\n",
    "plt.ylabel('Count')\n",
    "plt.title('Amount of bill statement in July, 2005')\n",
    "\n",
    "#show plot\n",
    "plt.show()\n",
    "\n",
    "#display summary statistics\n",
    "print(df['BILL_AMT1'].describe())"
   ]
  },
  {
   "cell_type": "markdown",
   "metadata": {},
   "source": [
    "## Box plot of bill amount by default"
   ]
  },
  {
   "cell_type": "code",
   "execution_count": 234,
   "metadata": {},
   "outputs": [
    {
     "data": {
      "text/html": [
       "<div>\n",
       "<style scoped>\n",
       "    .dataframe tbody tr th:only-of-type {\n",
       "        vertical-align: middle;\n",
       "    }\n",
       "\n",
       "    .dataframe tbody tr th {\n",
       "        vertical-align: top;\n",
       "    }\n",
       "\n",
       "    .dataframe thead th {\n",
       "        text-align: right;\n",
       "    }\n",
       "</style>\n",
       "<table border=\"1\" class=\"dataframe\">\n",
       "  <thead>\n",
       "    <tr style=\"text-align: right;\">\n",
       "      <th></th>\n",
       "      <th>mean</th>\n",
       "      <th>std</th>\n",
       "    </tr>\n",
       "    <tr>\n",
       "      <th>default.payment.next.month</th>\n",
       "      <th></th>\n",
       "      <th></th>\n",
       "    </tr>\n",
       "  </thead>\n",
       "  <tbody>\n",
       "    <tr>\n",
       "      <th>0</th>\n",
       "      <td>51994.227273</td>\n",
       "      <td>73577.606694</td>\n",
       "    </tr>\n",
       "    <tr>\n",
       "      <th>1</th>\n",
       "      <td>48509.162297</td>\n",
       "      <td>73782.067220</td>\n",
       "    </tr>\n",
       "  </tbody>\n",
       "</table>\n",
       "</div>"
      ],
      "text/plain": [
       "                                    mean           std\n",
       "default.payment.next.month                            \n",
       "0                           51994.227273  73577.606694\n",
       "1                           48509.162297  73782.067220"
      ]
     },
     "execution_count": 234,
     "metadata": {},
     "output_type": "execute_result"
    },
    {
     "data": {
      "image/png": "[encoded data removed]",
      "text/plain": [
       "<Figure size 432x288 with 1 Axes>"
      ]
     },
     "metadata": {
      "needs_background": "light"
     },
     "output_type": "display_data"
    }
   ],
   "source": [
    "#make a box plot of default by bill amount 7/2005, set y scale to log for visual clarity\n",
    "df.boxplot(column=['BILL_AMT3'],by = ['default.payment.next.month']).set_yscale('log')\n",
    "\n",
    "#display mean and standard deviation of bill amount for default and no default\n",
    "pd.DataFrame(df.groupby(['default.payment.next.month'])['BILL_AMT1'].describe().loc[:,['mean','std']])"
   ]
  },
  {
   "cell_type": "markdown",
   "metadata": {},
   "source": [
    "## Statistical significance of bill amount in relation to default for July, 2005\n",
    "\n",
    "Null hypothesis: chance of default is independent of bill amount\n",
    "\n",
    "Alternative hypothesis: chance of default is not independent of bill amount"
   ]
  },
  {
   "cell_type": "code",
   "execution_count": 235,
   "metadata": {},
   "outputs": [
    {
     "data": {
      "text/plain": [
       "Ttest_indResult(statistic=2.4381115045173596, pvalue=0.014769982710723002)"
      ]
     },
     "execution_count": 235,
     "metadata": {},
     "output_type": "execute_result"
    }
   ],
   "source": [
    "#set 2 variables for no default (0) and default (1)\n",
    "rvs0 = df[df['default.payment.next.month']==0]['BILL_AMT3']\n",
    "rvs1 = df[df['default.payment.next.month']==1]['BILL_AMT3']\n",
    "\n",
    "stats.ttest_ind(rvs0,rvs1)"
   ]
  },
  {
   "cell_type": "markdown",
   "metadata": {},
   "source": [
    "Since our p-value is greater than 0.01, we will accept the null hypothesis and assume that the bill amount for July, 2005 is significant in predicting the chance of default."
   ]
  },
  {
   "cell_type": "markdown",
   "metadata": {},
   "source": [
    "## Previous month payment amount July, 2005"
   ]
  },
  {
   "cell_type": "code",
   "execution_count": 236,
   "metadata": {},
   "outputs": [
    {
     "data": {
      "image/png": "[encoded data removed]",
      "text/plain": [
       "<Figure size 432x288 with 1 Axes>"
      ]
     },
     "metadata": {
      "needs_background": "light"
     },
     "output_type": "display_data"
    },
    {
     "name": "stdout",
     "output_type": "stream",
     "text": [
      "count     30000.000000\n",
      "mean       5663.580500\n",
      "std       16563.280354\n",
      "min           0.000000\n",
      "25%        1000.000000\n",
      "50%        2100.000000\n",
      "75%        5006.000000\n",
      "max      873552.000000\n",
      "Name: PAY_AMT1, dtype: float64\n"
     ]
    }
   ],
   "source": [
    "#create histogram for previous month payment amount 7/2005\n",
    "plt.hist(df['PAY_AMT3'],bins=20)\n",
    "\n",
    "#set y scale to log for visual clarity\n",
    "plt.yscale('log')\n",
    "\n",
    "#add labels and title\n",
    "plt.xlabel('Bill Amount')\n",
    "plt.ylabel('Count')\n",
    "plt.title('Amount of previous payment in July, 2005')\n",
    "plt.xticks(rotation=45)\n",
    "\n",
    "#show plot\n",
    "plt.show()\n",
    "\n",
    "#show summary statistics\n",
    "print(df['PAY_AMT1'].describe())"
   ]
  },
  {
   "cell_type": "markdown",
   "metadata": {},
   "source": [
    "## Default by previous month pay amount July, 2005"
   ]
  },
  {
   "cell_type": "code",
   "execution_count": 237,
   "metadata": {},
   "outputs": [
    {
     "data": {
      "text/html": [
       "<div>\n",
       "<style scoped>\n",
       "    .dataframe tbody tr th:only-of-type {\n",
       "        vertical-align: middle;\n",
       "    }\n",
       "\n",
       "    .dataframe tbody tr th {\n",
       "        vertical-align: top;\n",
       "    }\n",
       "\n",
       "    .dataframe thead th {\n",
       "        text-align: right;\n",
       "    }\n",
       "</style>\n",
       "<table border=\"1\" class=\"dataframe\">\n",
       "  <thead>\n",
       "    <tr style=\"text-align: right;\">\n",
       "      <th></th>\n",
       "      <th>mean</th>\n",
       "      <th>std</th>\n",
       "    </tr>\n",
       "    <tr>\n",
       "      <th>default.payment.next.month</th>\n",
       "      <th></th>\n",
       "      <th></th>\n",
       "    </tr>\n",
       "  </thead>\n",
       "  <tbody>\n",
       "    <tr>\n",
       "      <th>0</th>\n",
       "      <td>5753.496833</td>\n",
       "      <td>18684.255937</td>\n",
       "    </tr>\n",
       "    <tr>\n",
       "      <th>1</th>\n",
       "      <td>3367.351567</td>\n",
       "      <td>12959.624486</td>\n",
       "    </tr>\n",
       "  </tbody>\n",
       "</table>\n",
       "</div>"
      ],
      "text/plain": [
       "                                   mean           std\n",
       "default.payment.next.month                           \n",
       "0                           5753.496833  18684.255937\n",
       "1                           3367.351567  12959.624486"
      ]
     },
     "execution_count": 237,
     "metadata": {},
     "output_type": "execute_result"
    },
    {
     "data": {
      "image/png": "[encoded data removed]",
      "text/plain": [
       "<Figure size 432x288 with 1 Axes>"
      ]
     },
     "metadata": {
      "needs_background": "light"
     },
     "output_type": "display_data"
    }
   ],
   "source": [
    "#make a box plot of default by previous month payment amount 7/2005 with y scale set to log\n",
    "df.boxplot(column=['PAY_AMT3'],by = ['default.payment.next.month']).set_yscale('log')\n",
    "\n",
    "#label y axis\n",
    "plt.ylabel('Previous month pay amount, 7/2005')\n",
    "\n",
    "#display mean and standard deviation of no default and default for previous month pay amount 7/2005\n",
    "pd.DataFrame(df.groupby(['default.payment.next.month'])['PAY_AMT3'].describe().loc[:,['mean','std']])"
   ]
  },
  {
   "cell_type": "markdown",
   "metadata": {},
   "source": [
    "## Statistical significance of previous month pay amount in relation to default for July, 2005\n",
    "\n",
    "Null hypothesis: chance of default is independent of bill amount\n",
    "\n",
    "Alternative hypothesis: chance of default is not independent of bill amount"
   ]
  },
  {
   "cell_type": "code",
   "execution_count": 238,
   "metadata": {},
   "outputs": [
    {
     "data": {
      "text/plain": [
       "Ttest_indResult(statistic=9.757971658572275, pvalue=1.841770291503132e-22)"
      ]
     },
     "execution_count": 238,
     "metadata": {},
     "output_type": "execute_result"
    }
   ],
   "source": [
    "#set 2 variables for no default (0) and default (1)\n",
    "rvs0 = df[df['default.payment.next.month']==0]['PAY_AMT3']\n",
    "rvs1 = df[df['default.payment.next.month']==1]['PAY_AMT3']\n",
    "\n",
    "stats.ttest_ind(rvs0,rvs1)"
   ]
  },
  {
   "cell_type": "markdown",
   "metadata": {},
   "source": [
    "Since our p-value is less than 0.01, we will reject the null hypothesis and assume that the amount paid in June, 2005 is significant in predicting the chance of default."
   ]
  },
  {
   "cell_type": "markdown",
   "metadata": {},
   "source": [
    "## Repayment status June, 2005"
   ]
  },
  {
   "cell_type": "markdown",
   "metadata": {},
   "source": [
    "Let's take a quick look at the values for this column to see what if they match the discription"
   ]
  },
  {
   "cell_type": "code",
   "execution_count": 239,
   "metadata": {},
   "outputs": [
    {
     "data": {
      "text/plain": [
       "-2     4348\n",
       "-1     5687\n",
       " 0    16455\n",
       " 1        2\n",
       " 2     3159\n",
       " 3      180\n",
       " 4       69\n",
       " 5       35\n",
       " 6        5\n",
       " 7       58\n",
       " 8        2\n",
       "Name: PAY_4, dtype: int64"
      ]
     },
     "execution_count": 239,
     "metadata": {},
     "output_type": "execute_result"
    }
   ],
   "source": [
    "df['PAY_4'].value_counts().sort_index()"
   ]
  },
  {
   "cell_type": "markdown",
   "metadata": {},
   "source": [
    "Once again it looks like we values in this column that do not fit the description at the top (0, -2). We will replace all of the negative values with 0 ('pay duly')."
   ]
  },
  {
   "cell_type": "code",
   "execution_count": 240,
   "metadata": {},
   "outputs": [],
   "source": [
    "#lump together all negative values into 'pay duly'\n",
    "fil = (df.PAY_4 == -2) | (df.PAY_4 == -1)\n",
    "df.loc[fil, 'PAY_4'] = 0"
   ]
  },
  {
   "cell_type": "markdown",
   "metadata": {},
   "source": [
    "Now that we've cleaned that up, let's take a look at the value counts for this column"
   ]
  },
  {
   "cell_type": "code",
   "execution_count": 241,
   "metadata": {},
   "outputs": [
    {
     "data": {
      "image/png": "[encoded data removed]",
      "text/plain": [
       "<Figure size 432x288 with 1 Axes>"
      ]
     },
     "metadata": {
      "needs_background": "light"
     },
     "output_type": "display_data"
    },
    {
     "data": {
      "text/html": [
       "<div>\n",
       "<style scoped>\n",
       "    .dataframe tbody tr th:only-of-type {\n",
       "        vertical-align: middle;\n",
       "    }\n",
       "\n",
       "    .dataframe tbody tr th {\n",
       "        vertical-align: top;\n",
       "    }\n",
       "\n",
       "    .dataframe thead th {\n",
       "        text-align: right;\n",
       "    }\n",
       "</style>\n",
       "<table border=\"1\" class=\"dataframe\">\n",
       "  <thead>\n",
       "    <tr style=\"text-align: right;\">\n",
       "      <th></th>\n",
       "      <th>ID</th>\n",
       "    </tr>\n",
       "    <tr>\n",
       "      <th>PAY_4</th>\n",
       "      <th></th>\n",
       "    </tr>\n",
       "  </thead>\n",
       "  <tbody>\n",
       "    <tr>\n",
       "      <th>0</th>\n",
       "      <td>26490</td>\n",
       "    </tr>\n",
       "    <tr>\n",
       "      <th>1</th>\n",
       "      <td>2</td>\n",
       "    </tr>\n",
       "    <tr>\n",
       "      <th>2</th>\n",
       "      <td>3159</td>\n",
       "    </tr>\n",
       "    <tr>\n",
       "      <th>3</th>\n",
       "      <td>180</td>\n",
       "    </tr>\n",
       "    <tr>\n",
       "      <th>4</th>\n",
       "      <td>69</td>\n",
       "    </tr>\n",
       "    <tr>\n",
       "      <th>5</th>\n",
       "      <td>35</td>\n",
       "    </tr>\n",
       "    <tr>\n",
       "      <th>6</th>\n",
       "      <td>5</td>\n",
       "    </tr>\n",
       "    <tr>\n",
       "      <th>7</th>\n",
       "      <td>58</td>\n",
       "    </tr>\n",
       "    <tr>\n",
       "      <th>8</th>\n",
       "      <td>2</td>\n",
       "    </tr>\n",
       "  </tbody>\n",
       "</table>\n",
       "</div>"
      ],
      "text/plain": [
       "          ID\n",
       "PAY_4       \n",
       "0      26490\n",
       "1          2\n",
       "2       3159\n",
       "3        180\n",
       "4         69\n",
       "5         35\n",
       "6          5\n",
       "7         58\n",
       "8          2"
      ]
     },
     "execution_count": 241,
     "metadata": {},
     "output_type": "execute_result"
    }
   ],
   "source": [
    "#set the number of ticks based on the number of different values in the series\n",
    "x=np.arange(len(df['PAY_4'].unique()))\n",
    "\n",
    "#make bar plot of 6/2005 repayment status value counts\n",
    "plt.bar(x,df['PAY_4'].value_counts().sort_index())\n",
    "\n",
    "#add labels and title\n",
    "plt.ylabel('Count')\n",
    "plt.xticks(x,('Pay Duly','1 month delay','2 month delay','3 month delay','4 month delay',\n",
    "             '5 month delay','6 month delay','7 month delay','8 month delay','9+ month delay'),\n",
    "             rotation=45)\n",
    "plt.title('Repayment status in June, 2005')\n",
    "\n",
    "#show plot\n",
    "plt.show()\n",
    "\n",
    "#display counts for each category\n",
    "df.groupby(['PAY_4'])[['ID']].count()"
   ]
  },
  {
   "cell_type": "markdown",
   "metadata": {},
   "source": [
    "## Default mean by repayment status June, 2005"
   ]
  },
  {
   "cell_type": "code",
   "execution_count": 242,
   "metadata": {},
   "outputs": [
    {
     "data": {
      "image/png": "[encoded data removed]",
      "text/plain": [
       "<Figure size 432x288 with 1 Axes>"
      ]
     },
     "metadata": {
      "needs_background": "light"
     },
     "output_type": "display_data"
    },
    {
     "data": {
      "text/html": [
       "<div>\n",
       "<style scoped>\n",
       "    .dataframe tbody tr th:only-of-type {\n",
       "        vertical-align: middle;\n",
       "    }\n",
       "\n",
       "    .dataframe tbody tr th {\n",
       "        vertical-align: top;\n",
       "    }\n",
       "\n",
       "    .dataframe thead th {\n",
       "        text-align: right;\n",
       "    }\n",
       "</style>\n",
       "<table border=\"1\" class=\"dataframe\">\n",
       "  <thead>\n",
       "    <tr style=\"text-align: right;\">\n",
       "      <th></th>\n",
       "      <th>default.payment.next.month</th>\n",
       "    </tr>\n",
       "    <tr>\n",
       "      <th>PAY_4</th>\n",
       "      <th></th>\n",
       "    </tr>\n",
       "  </thead>\n",
       "  <tbody>\n",
       "    <tr>\n",
       "      <th>0</th>\n",
       "      <td>0.179577</td>\n",
       "    </tr>\n",
       "    <tr>\n",
       "      <th>1</th>\n",
       "      <td>0.500000</td>\n",
       "    </tr>\n",
       "    <tr>\n",
       "      <th>2</th>\n",
       "      <td>0.523267</td>\n",
       "    </tr>\n",
       "    <tr>\n",
       "      <th>3</th>\n",
       "      <td>0.611111</td>\n",
       "    </tr>\n",
       "    <tr>\n",
       "      <th>4</th>\n",
       "      <td>0.666667</td>\n",
       "    </tr>\n",
       "    <tr>\n",
       "      <th>5</th>\n",
       "      <td>0.514286</td>\n",
       "    </tr>\n",
       "    <tr>\n",
       "      <th>6</th>\n",
       "      <td>0.400000</td>\n",
       "    </tr>\n",
       "    <tr>\n",
       "      <th>7</th>\n",
       "      <td>0.827586</td>\n",
       "    </tr>\n",
       "    <tr>\n",
       "      <th>8</th>\n",
       "      <td>0.500000</td>\n",
       "    </tr>\n",
       "  </tbody>\n",
       "</table>\n",
       "</div>"
      ],
      "text/plain": [
       "       default.payment.next.month\n",
       "PAY_4                            \n",
       "0                        0.179577\n",
       "1                        0.500000\n",
       "2                        0.523267\n",
       "3                        0.611111\n",
       "4                        0.666667\n",
       "5                        0.514286\n",
       "6                        0.400000\n",
       "7                        0.827586\n",
       "8                        0.500000"
      ]
     },
     "execution_count": 242,
     "metadata": {},
     "output_type": "execute_result"
    }
   ],
   "source": [
    "#set the number of ticks based on the number of different values in the series\n",
    "x=np.arange(len(df['PAY_4'].unique()))\n",
    "\n",
    "#find percentage of defaults for each repayment status and store in a variable\n",
    "defaults_by_pay_status=df.groupby(['PAY_4'])[['default.payment.next.month']].mean()\n",
    "\n",
    "#make bar plot of default mean of each value count of repayment status for 6/2005\n",
    "plt.bar(x,defaults_by_pay_status['default.payment.next.month'])\n",
    "\n",
    "#add labels and title\n",
    "plt.ylabel('% default')\n",
    "plt.xticks(x,('Pay Duly','1 month delay','2 month delay','3 month delay','4 month delay',\n",
    "             '5 month delay','6 month delay','7 month delay','8 month delay','9+ month delay'),\n",
    "             rotation=45)\n",
    "plt.title('Default by Repayment status in June, 2005')\n",
    "\n",
    "#show plot\n",
    "plt.show()\n",
    "\n",
    "#display mean for each value count\n",
    "df.groupby(['PAY_4'])[['default.payment.next.month']].mean()"
   ]
  },
  {
   "cell_type": "markdown",
   "metadata": {},
   "source": [
    "## Bill amount in June, 2005"
   ]
  },
  {
   "cell_type": "code",
   "execution_count": 243,
   "metadata": {},
   "outputs": [
    {
     "data": {
      "image/png": "[encoded data removed]",
      "text/plain": [
       "<Figure size 432x288 with 1 Axes>"
      ]
     },
     "metadata": {
      "needs_background": "light"
     },
     "output_type": "display_data"
    },
    {
     "name": "stdout",
     "output_type": "stream",
     "text": [
      "count     30000.000000\n",
      "mean      43262.948967\n",
      "std       64332.856134\n",
      "min     -170000.000000\n",
      "25%        2326.750000\n",
      "50%       19052.000000\n",
      "75%       54506.000000\n",
      "max      891586.000000\n",
      "Name: BILL_AMT4, dtype: float64\n"
     ]
    }
   ],
   "source": [
    "#make histogram of bill amounts for 6/2005\n",
    "plt.hist(df['BILL_AMT4'],bins=20)\n",
    "\n",
    "#set y scale to log to better display values\n",
    "plt.yscale('log')\n",
    "\n",
    "#add lables and title\n",
    "plt.xlabel('Bill Amount')\n",
    "plt.ylabel('Count')\n",
    "plt.title('Amount of bill statement in June, 2005')\n",
    "\n",
    "#show plot\n",
    "plt.show()\n",
    "\n",
    "#display summary statistics\n",
    "print(df['BILL_AMT4'].describe())"
   ]
  },
  {
   "cell_type": "markdown",
   "metadata": {},
   "source": [
    "## Box plot of bill amount by default June, 2005"
   ]
  },
  {
   "cell_type": "code",
   "execution_count": 244,
   "metadata": {},
   "outputs": [
    {
     "data": {
      "text/html": [
       "<div>\n",
       "<style scoped>\n",
       "    .dataframe tbody tr th:only-of-type {\n",
       "        vertical-align: middle;\n",
       "    }\n",
       "\n",
       "    .dataframe tbody tr th {\n",
       "        vertical-align: top;\n",
       "    }\n",
       "\n",
       "    .dataframe thead th {\n",
       "        text-align: right;\n",
       "    }\n",
       "</style>\n",
       "<table border=\"1\" class=\"dataframe\">\n",
       "  <thead>\n",
       "    <tr style=\"text-align: right;\">\n",
       "      <th></th>\n",
       "      <th>mean</th>\n",
       "      <th>std</th>\n",
       "    </tr>\n",
       "    <tr>\n",
       "      <th>default.payment.next.month</th>\n",
       "      <th></th>\n",
       "      <th></th>\n",
       "    </tr>\n",
       "  </thead>\n",
       "  <tbody>\n",
       "    <tr>\n",
       "      <th>0</th>\n",
       "      <td>43611.165254</td>\n",
       "      <td>64324.796730</td>\n",
       "    </tr>\n",
       "    <tr>\n",
       "      <th>1</th>\n",
       "      <td>42036.950573</td>\n",
       "      <td>64351.076092</td>\n",
       "    </tr>\n",
       "  </tbody>\n",
       "</table>\n",
       "</div>"
      ],
      "text/plain": [
       "                                    mean           std\n",
       "default.payment.next.month                            \n",
       "0                           43611.165254  64324.796730\n",
       "1                           42036.950573  64351.076092"
      ]
     },
     "execution_count": 244,
     "metadata": {},
     "output_type": "execute_result"
    },
    {
     "data": {
      "image/png": "[encoded data removed]",
      "text/plain": [
       "<Figure size 432x288 with 1 Axes>"
      ]
     },
     "metadata": {
      "needs_background": "light"
     },
     "output_type": "display_data"
    }
   ],
   "source": [
    "#make a box plot of default by bill amount 6/2005, set y scale to log for visual clarity\n",
    "df.boxplot(column=['BILL_AMT4'],by = ['default.payment.next.month']).set_yscale('log')\n",
    "\n",
    "#display mean and standard deviation of bill amount for default and no default\n",
    "pd.DataFrame(df.groupby(['default.payment.next.month'])['BILL_AMT4'].describe().loc[:,['mean','std']])"
   ]
  },
  {
   "cell_type": "markdown",
   "metadata": {},
   "source": [
    "## Statistical significance of bill amount in relation to default for June, 2005\n",
    "\n",
    "Null hypothesis: chance of default is independent of bill amount\n",
    "\n",
    "Alternative hypothesis: chance of default is not independent of bill amount"
   ]
  },
  {
   "cell_type": "code",
   "execution_count": 245,
   "metadata": {},
   "outputs": [
    {
     "data": {
      "text/plain": [
       "Ttest_indResult(statistic=1.759188785998342, pvalue=0.07855564157651403)"
      ]
     },
     "execution_count": 245,
     "metadata": {},
     "output_type": "execute_result"
    }
   ],
   "source": [
    "#set 2 variables for no default (0) and default (1)\n",
    "rvs0 = df[df['default.payment.next.month']==0]['BILL_AMT4']\n",
    "rvs1 = df[df['default.payment.next.month']==1]['BILL_AMT4']\n",
    "\n",
    "stats.ttest_ind(rvs0,rvs1)"
   ]
  },
  {
   "cell_type": "markdown",
   "metadata": {},
   "source": [
    "Since our p-value is greater than 0.01, we will accept the null hypothesis and assume that the bill amount for August, 2005 is not significant in predicting the chance of default."
   ]
  },
  {
   "cell_type": "markdown",
   "metadata": {},
   "source": [
    "## Previous month payment amount June, 2005"
   ]
  },
  {
   "cell_type": "code",
   "execution_count": 246,
   "metadata": {},
   "outputs": [
    {
     "data": {
      "image/png": "[encoded data removed]",
      "text/plain": [
       "<Figure size 432x288 with 1 Axes>"
      ]
     },
     "metadata": {
      "needs_background": "light"
     },
     "output_type": "display_data"
    },
    {
     "name": "stdout",
     "output_type": "stream",
     "text": [
      "count     30000.000000\n",
      "mean       4826.076867\n",
      "std       15666.159744\n",
      "min           0.000000\n",
      "25%         296.000000\n",
      "50%        1500.000000\n",
      "75%        4013.250000\n",
      "max      621000.000000\n",
      "Name: PAY_AMT4, dtype: float64\n"
     ]
    }
   ],
   "source": [
    "#create histogram for previous month payment amount 6/2005\n",
    "plt.hist(df['PAY_AMT4'],bins=20)\n",
    "\n",
    "#set y scale to log for visual clarity\n",
    "plt.yscale('log')\n",
    "\n",
    "#add labels and title\n",
    "plt.xlabel('Bill Amount')\n",
    "plt.ylabel('Count')\n",
    "plt.title('Amount of previous payment in June, 2005')\n",
    "plt.xticks(rotation=45)\n",
    "\n",
    "#show plot\n",
    "plt.show()\n",
    "\n",
    "#show summary statistics\n",
    "print(df['PAY_AMT4'].describe())"
   ]
  },
  {
   "cell_type": "markdown",
   "metadata": {},
   "source": [
    "## Default by previous month pay amount June, 2005"
   ]
  },
  {
   "cell_type": "code",
   "execution_count": 247,
   "metadata": {},
   "outputs": [
    {
     "data": {
      "text/html": [
       "<div>\n",
       "<style scoped>\n",
       "    .dataframe tbody tr th:only-of-type {\n",
       "        vertical-align: middle;\n",
       "    }\n",
       "\n",
       "    .dataframe tbody tr th {\n",
       "        vertical-align: top;\n",
       "    }\n",
       "\n",
       "    .dataframe thead th {\n",
       "        text-align: right;\n",
       "    }\n",
       "</style>\n",
       "<table border=\"1\" class=\"dataframe\">\n",
       "  <thead>\n",
       "    <tr style=\"text-align: right;\">\n",
       "      <th></th>\n",
       "      <th>mean</th>\n",
       "      <th>std</th>\n",
       "    </tr>\n",
       "    <tr>\n",
       "      <th>default.payment.next.month</th>\n",
       "      <th></th>\n",
       "      <th></th>\n",
       "    </tr>\n",
       "  </thead>\n",
       "  <tbody>\n",
       "    <tr>\n",
       "      <th>0</th>\n",
       "      <td>5300.529319</td>\n",
       "      <td>16689.778060</td>\n",
       "    </tr>\n",
       "    <tr>\n",
       "      <th>1</th>\n",
       "      <td>3155.626733</td>\n",
       "      <td>11191.973162</td>\n",
       "    </tr>\n",
       "  </tbody>\n",
       "</table>\n",
       "</div>"
      ],
      "text/plain": [
       "                                   mean           std\n",
       "default.payment.next.month                           \n",
       "0                           5300.529319  16689.778060\n",
       "1                           3155.626733  11191.973162"
      ]
     },
     "execution_count": 247,
     "metadata": {},
     "output_type": "execute_result"
    },
    {
     "data": {
      "image/png": "[encoded data removed]",
      "text/plain": [
       "<Figure size 432x288 with 1 Axes>"
      ]
     },
     "metadata": {
      "needs_background": "light"
     },
     "output_type": "display_data"
    }
   ],
   "source": [
    "#make a box plot of default by previous month payment amount 6/2005 with y scale set to log\n",
    "df.boxplot(column=['PAY_AMT4'],by = ['default.payment.next.month']).set_yscale('log')\n",
    "\n",
    "#label y axis\n",
    "plt.ylabel('Previous month pay amount, 6/2005')\n",
    "\n",
    "#display mean and standard deviation of no default and default for previous month pay amount 6/2005\n",
    "pd.DataFrame(df.groupby(['default.payment.next.month'])['PAY_AMT4'].describe().loc[:,['mean','std']])"
   ]
  },
  {
   "cell_type": "markdown",
   "metadata": {},
   "source": [
    "## Statistical significance of previous month pay amount in relation to default for June, 2005\n",
    "\n",
    "Null hypothesis: chance of default is independent of bill amount\n",
    "\n",
    "Alternative hypothesis: chance of default is not independent of bill amount"
   ]
  },
  {
   "cell_type": "code",
   "execution_count": 248,
   "metadata": {},
   "outputs": [
    {
     "data": {
      "text/plain": [
       "Ttest_indResult(statistic=9.858397459473979, pvalue=6.830941601370003e-23)"
      ]
     },
     "execution_count": 248,
     "metadata": {},
     "output_type": "execute_result"
    }
   ],
   "source": [
    "#set 2 variables for no default (0) and default (1)\n",
    "rvs0 = df[df['default.payment.next.month']==0]['PAY_AMT4']\n",
    "rvs1 = df[df['default.payment.next.month']==1]['PAY_AMT4']\n",
    "\n",
    "stats.ttest_ind(rvs0,rvs1)"
   ]
  },
  {
   "cell_type": "markdown",
   "metadata": {},
   "source": [
    "Since our p-value is less than 0.01, we will reject the null hypothesis and assume that the amount paid in May, 2005 is significant in predicting the chance of default."
   ]
  },
  {
   "cell_type": "markdown",
   "metadata": {},
   "source": [
    "## Repayment status May, 2005"
   ]
  },
  {
   "cell_type": "markdown",
   "metadata": {},
   "source": [
    "Let's take a quick look at the values for this column to see what if they match the discription"
   ]
  },
  {
   "cell_type": "code",
   "execution_count": 249,
   "metadata": {},
   "outputs": [
    {
     "data": {
      "text/plain": [
       "-2     4546\n",
       "-1     5539\n",
       " 0    16947\n",
       " 2     2626\n",
       " 3      178\n",
       " 4       84\n",
       " 5       17\n",
       " 6        4\n",
       " 7       58\n",
       " 8        1\n",
       "Name: PAY_5, dtype: int64"
      ]
     },
     "execution_count": 249,
     "metadata": {},
     "output_type": "execute_result"
    }
   ],
   "source": [
    "df['PAY_5'].value_counts().sort_index()"
   ]
  },
  {
   "cell_type": "markdown",
   "metadata": {},
   "source": [
    "Once again it looks like we values in this column that do not fit the description at the top (0, -2). We will replace all of the negative values with 0 ('pay duly')."
   ]
  },
  {
   "cell_type": "code",
   "execution_count": 250,
   "metadata": {},
   "outputs": [],
   "source": [
    "#lump together all negative values into 'pay duly'\n",
    "fil = (df.PAY_5 == -2) | (df.PAY_5 == -1)\n",
    "df.loc[fil, 'PAY_5'] = 0"
   ]
  },
  {
   "cell_type": "markdown",
   "metadata": {},
   "source": [
    "Now that we've cleaned that up, let's take a look at the value counts for this column"
   ]
  },
  {
   "cell_type": "code",
   "execution_count": 251,
   "metadata": {},
   "outputs": [
    {
     "data": {
      "image/png": "[encoded data removed]",
      "text/plain": [
       "<Figure size 432x288 with 1 Axes>"
      ]
     },
     "metadata": {
      "needs_background": "light"
     },
     "output_type": "display_data"
    },
    {
     "data": {
      "text/html": [
       "<div>\n",
       "<style scoped>\n",
       "    .dataframe tbody tr th:only-of-type {\n",
       "        vertical-align: middle;\n",
       "    }\n",
       "\n",
       "    .dataframe tbody tr th {\n",
       "        vertical-align: top;\n",
       "    }\n",
       "\n",
       "    .dataframe thead th {\n",
       "        text-align: right;\n",
       "    }\n",
       "</style>\n",
       "<table border=\"1\" class=\"dataframe\">\n",
       "  <thead>\n",
       "    <tr style=\"text-align: right;\">\n",
       "      <th></th>\n",
       "      <th>ID</th>\n",
       "    </tr>\n",
       "    <tr>\n",
       "      <th>PAY_5</th>\n",
       "      <th></th>\n",
       "    </tr>\n",
       "  </thead>\n",
       "  <tbody>\n",
       "    <tr>\n",
       "      <th>0</th>\n",
       "      <td>27032</td>\n",
       "    </tr>\n",
       "    <tr>\n",
       "      <th>2</th>\n",
       "      <td>2626</td>\n",
       "    </tr>\n",
       "    <tr>\n",
       "      <th>3</th>\n",
       "      <td>178</td>\n",
       "    </tr>\n",
       "    <tr>\n",
       "      <th>4</th>\n",
       "      <td>84</td>\n",
       "    </tr>\n",
       "    <tr>\n",
       "      <th>5</th>\n",
       "      <td>17</td>\n",
       "    </tr>\n",
       "    <tr>\n",
       "      <th>6</th>\n",
       "      <td>4</td>\n",
       "    </tr>\n",
       "    <tr>\n",
       "      <th>7</th>\n",
       "      <td>58</td>\n",
       "    </tr>\n",
       "    <tr>\n",
       "      <th>8</th>\n",
       "      <td>1</td>\n",
       "    </tr>\n",
       "  </tbody>\n",
       "</table>\n",
       "</div>"
      ],
      "text/plain": [
       "          ID\n",
       "PAY_5       \n",
       "0      27032\n",
       "2       2626\n",
       "3        178\n",
       "4         84\n",
       "5         17\n",
       "6          4\n",
       "7         58\n",
       "8          1"
      ]
     },
     "execution_count": 251,
     "metadata": {},
     "output_type": "execute_result"
    }
   ],
   "source": [
    "#set the number of ticks based on the number of different values in the series\n",
    "x=np.arange(len(df['PAY_5'].unique()))\n",
    "\n",
    "#make bar plot of 5/2005 repayment status value counts\n",
    "plt.bar(x,df['PAY_5'].value_counts().sort_index())\n",
    "\n",
    "#add labels and title\n",
    "plt.ylabel('Count')\n",
    "plt.xticks(x,('Pay Duly','1 month delay','2 month delay','3 month delay','4 month delay',\n",
    "             '5 month delay','6 month delay','7 month delay','8 month delay','9+ month delay'),\n",
    "             rotation=45)\n",
    "plt.title('Repayment status in May, 2005')\n",
    "\n",
    "#show plot\n",
    "plt.show()\n",
    "\n",
    "#display counts for each category\n",
    "df.groupby(['PAY_5'])[['ID']].count()"
   ]
  },
  {
   "cell_type": "markdown",
   "metadata": {},
   "source": [
    "## Default mean by repayment status May, 2005"
   ]
  },
  {
   "cell_type": "code",
   "execution_count": 252,
   "metadata": {},
   "outputs": [
    {
     "data": {
      "image/png": "[encoded data removed]",
      "text/plain": [
       "<Figure size 432x288 with 1 Axes>"
      ]
     },
     "metadata": {
      "needs_background": "light"
     },
     "output_type": "display_data"
    },
    {
     "data": {
      "text/html": [
       "<div>\n",
       "<style scoped>\n",
       "    .dataframe tbody tr th:only-of-type {\n",
       "        vertical-align: middle;\n",
       "    }\n",
       "\n",
       "    .dataframe tbody tr th {\n",
       "        vertical-align: top;\n",
       "    }\n",
       "\n",
       "    .dataframe thead th {\n",
       "        text-align: right;\n",
       "    }\n",
       "</style>\n",
       "<table border=\"1\" class=\"dataframe\">\n",
       "  <thead>\n",
       "    <tr style=\"text-align: right;\">\n",
       "      <th></th>\n",
       "      <th>default.payment.next.month</th>\n",
       "    </tr>\n",
       "    <tr>\n",
       "      <th>PAY_5</th>\n",
       "      <th></th>\n",
       "    </tr>\n",
       "  </thead>\n",
       "  <tbody>\n",
       "    <tr>\n",
       "      <th>0</th>\n",
       "      <td>0.184485</td>\n",
       "    </tr>\n",
       "    <tr>\n",
       "      <th>2</th>\n",
       "      <td>0.541889</td>\n",
       "    </tr>\n",
       "    <tr>\n",
       "      <th>3</th>\n",
       "      <td>0.634831</td>\n",
       "    </tr>\n",
       "    <tr>\n",
       "      <th>4</th>\n",
       "      <td>0.607143</td>\n",
       "    </tr>\n",
       "    <tr>\n",
       "      <th>5</th>\n",
       "      <td>0.588235</td>\n",
       "    </tr>\n",
       "    <tr>\n",
       "      <th>6</th>\n",
       "      <td>0.750000</td>\n",
       "    </tr>\n",
       "    <tr>\n",
       "      <th>7</th>\n",
       "      <td>0.827586</td>\n",
       "    </tr>\n",
       "    <tr>\n",
       "      <th>8</th>\n",
       "      <td>1.000000</td>\n",
       "    </tr>\n",
       "  </tbody>\n",
       "</table>\n",
       "</div>"
      ],
      "text/plain": [
       "       default.payment.next.month\n",
       "PAY_5                            \n",
       "0                        0.184485\n",
       "2                        0.541889\n",
       "3                        0.634831\n",
       "4                        0.607143\n",
       "5                        0.588235\n",
       "6                        0.750000\n",
       "7                        0.827586\n",
       "8                        1.000000"
      ]
     },
     "execution_count": 252,
     "metadata": {},
     "output_type": "execute_result"
    }
   ],
   "source": [
    "#set the number of ticks based on the number of different values in the series\n",
    "x=np.arange(len(df['PAY_5'].unique()))\n",
    "\n",
    "#find percentage of defaults for each repayment status and store in a variable\n",
    "defaults_by_pay_status=df.groupby(['PAY_5'])[['default.payment.next.month']].mean()\n",
    "\n",
    "#make bar plot of default mean of each value count of repayment status for 5/2005\n",
    "plt.bar(x,defaults_by_pay_status['default.payment.next.month'])\n",
    "\n",
    "#add labels and title\n",
    "plt.ylabel('% default')\n",
    "plt.xticks(x,('Pay Duly','1 month delay','2 month delay','3 month delay','4 month delay',\n",
    "             '5 month delay','6 month delay','7 month delay','8 month delay','9+ month delay'),\n",
    "             rotation=45)\n",
    "plt.title('Default by Repayment status in May, 2005')\n",
    "\n",
    "#show plot\n",
    "plt.show()\n",
    "\n",
    "#display mean for each value count\n",
    "df.groupby(['PAY_5'])[['default.payment.next.month']].mean()"
   ]
  },
  {
   "cell_type": "markdown",
   "metadata": {},
   "source": [
    "## Bill amount in May, 2005"
   ]
  },
  {
   "cell_type": "code",
   "execution_count": 253,
   "metadata": {},
   "outputs": [
    {
     "data": {
      "image/png": "[encoded data removed]",
      "text/plain": [
       "<Figure size 432x288 with 1 Axes>"
      ]
     },
     "metadata": {
      "needs_background": "light"
     },
     "output_type": "display_data"
    },
    {
     "name": "stdout",
     "output_type": "stream",
     "text": [
      "count     30000.000000\n",
      "mean      40311.400967\n",
      "std       60797.155770\n",
      "min      -81334.000000\n",
      "25%        1763.000000\n",
      "50%       18104.500000\n",
      "75%       50190.500000\n",
      "max      927171.000000\n",
      "Name: BILL_AMT5, dtype: float64\n"
     ]
    }
   ],
   "source": [
    "#make histogram of bill amounts for 5/2005\n",
    "plt.hist(df['BILL_AMT5'],bins=20)\n",
    "\n",
    "#set y scale to log to better display values\n",
    "plt.yscale('log')\n",
    "\n",
    "#add lables and title\n",
    "plt.xlabel('Bill Amount')\n",
    "plt.ylabel('Count')\n",
    "plt.title('Amount of bill statement in May, 2005')\n",
    "\n",
    "#show plot\n",
    "plt.show()\n",
    "\n",
    "#display summary statistics\n",
    "print(df['BILL_AMT5'].describe())"
   ]
  },
  {
   "cell_type": "markdown",
   "metadata": {},
   "source": [
    "## Box plot of bill amount by default May, 2005"
   ]
  },
  {
   "cell_type": "code",
   "execution_count": 254,
   "metadata": {},
   "outputs": [
    {
     "data": {
      "text/html": [
       "<div>\n",
       "<style scoped>\n",
       "    .dataframe tbody tr th:only-of-type {\n",
       "        vertical-align: middle;\n",
       "    }\n",
       "\n",
       "    .dataframe tbody tr th {\n",
       "        vertical-align: top;\n",
       "    }\n",
       "\n",
       "    .dataframe thead th {\n",
       "        text-align: right;\n",
       "    }\n",
       "</style>\n",
       "<table border=\"1\" class=\"dataframe\">\n",
       "  <thead>\n",
       "    <tr style=\"text-align: right;\">\n",
       "      <th></th>\n",
       "      <th>mean</th>\n",
       "      <th>std</th>\n",
       "    </tr>\n",
       "    <tr>\n",
       "      <th>default.payment.next.month</th>\n",
       "      <th></th>\n",
       "      <th></th>\n",
       "    </tr>\n",
       "  </thead>\n",
       "  <tbody>\n",
       "    <tr>\n",
       "      <th>0</th>\n",
       "      <td>40530.445343</td>\n",
       "      <td>60617.268112</td>\n",
       "    </tr>\n",
       "    <tr>\n",
       "      <th>1</th>\n",
       "      <td>39540.190476</td>\n",
       "      <td>61424.695949</td>\n",
       "    </tr>\n",
       "  </tbody>\n",
       "</table>\n",
       "</div>"
      ],
      "text/plain": [
       "                                    mean           std\n",
       "default.payment.next.month                            \n",
       "0                           40530.445343  60617.268112\n",
       "1                           39540.190476  61424.695949"
      ]
     },
     "execution_count": 254,
     "metadata": {},
     "output_type": "execute_result"
    },
    {
     "data": {
      "image/png": "[encoded data removed]",
      "text/plain": [
       "<Figure size 432x288 with 1 Axes>"
      ]
     },
     "metadata": {
      "needs_background": "light"
     },
     "output_type": "display_data"
    }
   ],
   "source": [
    "#make a box plot of default by bill amount 5/2005, set y scale to log for visual clarity\n",
    "df.boxplot(column=['BILL_AMT5'],by = ['default.payment.next.month']).set_yscale('log')\n",
    "\n",
    "#display mean and standard deviation of bill amount for default and no default\n",
    "pd.DataFrame(df.groupby(['default.payment.next.month'])['BILL_AMT5'].describe().loc[:,['mean','std']])"
   ]
  },
  {
   "cell_type": "markdown",
   "metadata": {},
   "source": [
    "## Statistical significance of bill amount in relation to default for May, 2005\n",
    "\n",
    "Null hypothesis: chance of default is independent of bill amount\n",
    "\n",
    "Alternative hypothesis: chance of default is not independent of bill amount"
   ]
  },
  {
   "cell_type": "code",
   "execution_count": 255,
   "metadata": {},
   "outputs": [
    {
     "data": {
      "text/plain": [
       "Ttest_indResult(statistic=1.1709344117538458, pvalue=0.24163444291382874)"
      ]
     },
     "execution_count": 255,
     "metadata": {},
     "output_type": "execute_result"
    }
   ],
   "source": [
    "#set 2 variables for no default (0) and default (1)\n",
    "rvs0 = df[df['default.payment.next.month']==0]['BILL_AMT5']\n",
    "rvs1 = df[df['default.payment.next.month']==1]['BILL_AMT5']\n",
    "\n",
    "stats.ttest_ind(rvs0,rvs1)"
   ]
  },
  {
   "cell_type": "markdown",
   "metadata": {},
   "source": [
    "Since our p-value is greater than 0.01, we will accept the null hypothesis and assume that the bill amount for August, 2005 is not significant in predicting the chance of default."
   ]
  },
  {
   "cell_type": "markdown",
   "metadata": {},
   "source": [
    "## Previous month payment amount May, 2005"
   ]
  },
  {
   "cell_type": "code",
   "execution_count": 256,
   "metadata": {},
   "outputs": [
    {
     "data": {
      "image/png": "[encoded data removed]",
      "text/plain": [
       "<Figure size 432x288 with 1 Axes>"
      ]
     },
     "metadata": {
      "needs_background": "light"
     },
     "output_type": "display_data"
    },
    {
     "name": "stdout",
     "output_type": "stream",
     "text": [
      "count     30000.000000\n",
      "mean       4799.387633\n",
      "std       15278.305679\n",
      "min           0.000000\n",
      "25%         252.500000\n",
      "50%        1500.000000\n",
      "75%        4031.500000\n",
      "max      426529.000000\n",
      "Name: PAY_AMT5, dtype: float64\n"
     ]
    }
   ],
   "source": [
    "#create histogram for previous month payment amount 5/2005\n",
    "plt.hist(df['PAY_AMT5'],bins=20)\n",
    "\n",
    "#set y scale to log for visual clarity\n",
    "plt.yscale('log')\n",
    "\n",
    "#add labels and title\n",
    "plt.xlabel('Bill Amount')\n",
    "plt.ylabel('Count')\n",
    "plt.title('Amount of previous payment in May, 2005')\n",
    "plt.xticks(rotation=45)\n",
    "\n",
    "#show plot\n",
    "plt.show()\n",
    "\n",
    "#show summary statistics\n",
    "print(df['PAY_AMT5'].describe())"
   ]
  },
  {
   "cell_type": "markdown",
   "metadata": {},
   "source": [
    "## Default by previous month pay amount May, 2005"
   ]
  },
  {
   "cell_type": "code",
   "execution_count": 257,
   "metadata": {},
   "outputs": [
    {
     "data": {
      "text/html": [
       "<div>\n",
       "<style scoped>\n",
       "    .dataframe tbody tr th:only-of-type {\n",
       "        vertical-align: middle;\n",
       "    }\n",
       "\n",
       "    .dataframe tbody tr th {\n",
       "        vertical-align: top;\n",
       "    }\n",
       "\n",
       "    .dataframe thead th {\n",
       "        text-align: right;\n",
       "    }\n",
       "</style>\n",
       "<table border=\"1\" class=\"dataframe\">\n",
       "  <thead>\n",
       "    <tr style=\"text-align: right;\">\n",
       "      <th></th>\n",
       "      <th>mean</th>\n",
       "      <th>std</th>\n",
       "    </tr>\n",
       "    <tr>\n",
       "      <th>default.payment.next.month</th>\n",
       "      <th></th>\n",
       "      <th></th>\n",
       "    </tr>\n",
       "  </thead>\n",
       "  <tbody>\n",
       "    <tr>\n",
       "      <th>0</th>\n",
       "      <td>5248.220296</td>\n",
       "      <td>16071.667860</td>\n",
       "    </tr>\n",
       "    <tr>\n",
       "      <th>1</th>\n",
       "      <td>3219.139542</td>\n",
       "      <td>11944.731175</td>\n",
       "    </tr>\n",
       "  </tbody>\n",
       "</table>\n",
       "</div>"
      ],
      "text/plain": [
       "                                   mean           std\n",
       "default.payment.next.month                           \n",
       "0                           5248.220296  16071.667860\n",
       "1                           3219.139542  11944.731175"
      ]
     },
     "execution_count": 257,
     "metadata": {},
     "output_type": "execute_result"
    },
    {
     "data": {
      "image/png": "[encoded data removed]",
      "text/plain": [
       "<Figure size 432x288 with 1 Axes>"
      ]
     },
     "metadata": {
      "needs_background": "light"
     },
     "output_type": "display_data"
    }
   ],
   "source": [
    "#make a box plot of default by previous month payment amount 5/2005 with y scale set to log\n",
    "df.boxplot(column=['PAY_AMT5'],by = ['default.payment.next.month']).set_yscale('log')\n",
    "\n",
    "#label y axis\n",
    "plt.ylabel('Previous month pay amount, 5/2005')\n",
    "\n",
    "#display mean and standard deviation of no default and default for previous month pay amount 5/2005\n",
    "pd.DataFrame(df.groupby(['default.payment.next.month'])['PAY_AMT5'].describe().loc[:,['mean','std']])"
   ]
  },
  {
   "cell_type": "markdown",
   "metadata": {},
   "source": [
    "## Statistical significance of previous month pay amount in relation to default for May, 2005\n",
    "\n",
    "Null hypothesis: chance of default is independent of bill amount\n",
    "\n",
    "Alternative hypothesis: chance of default is not independent of bill amount"
   ]
  },
  {
   "cell_type": "code",
   "execution_count": 258,
   "metadata": {},
   "outputs": [
    {
     "data": {
      "text/plain": [
       "Ttest_indResult(statistic=9.561893159941787, pvalue=1.2413447727776169e-21)"
      ]
     },
     "execution_count": 258,
     "metadata": {},
     "output_type": "execute_result"
    }
   ],
   "source": [
    "#set 2 variables for no default (0) and default (1)\n",
    "rvs0 = df[df['default.payment.next.month']==0]['PAY_AMT5']\n",
    "rvs1 = df[df['default.payment.next.month']==1]['PAY_AMT5']\n",
    "\n",
    "stats.ttest_ind(rvs0,rvs1)"
   ]
  },
  {
   "cell_type": "markdown",
   "metadata": {},
   "source": [
    "Since our p-value is less than 0.01, we will reject the null hypothesis and assume that the amount paid in July, 2005 is significant in predicting the chance of default."
   ]
  },
  {
   "cell_type": "markdown",
   "metadata": {},
   "source": [
    "## Repayment status April, 2005"
   ]
  },
  {
   "cell_type": "markdown",
   "metadata": {},
   "source": [
    "Let's take a quick look at the values for this column to see what if they match the discription"
   ]
  },
  {
   "cell_type": "code",
   "execution_count": 259,
   "metadata": {},
   "outputs": [
    {
     "data": {
      "text/plain": [
       "-2     4895\n",
       "-1     5740\n",
       " 0    16286\n",
       " 2     2766\n",
       " 3      184\n",
       " 4       49\n",
       " 5       13\n",
       " 6       19\n",
       " 7       46\n",
       " 8        2\n",
       "Name: PAY_6, dtype: int64"
      ]
     },
     "execution_count": 259,
     "metadata": {},
     "output_type": "execute_result"
    }
   ],
   "source": [
    "df['PAY_6'].value_counts().sort_index()"
   ]
  },
  {
   "cell_type": "markdown",
   "metadata": {},
   "source": [
    "Once again it looks like we values in this column that do not fit the description at the top (0, -2). We will replace all of the negative values with 0 ('pay duly')."
   ]
  },
  {
   "cell_type": "code",
   "execution_count": 260,
   "metadata": {},
   "outputs": [],
   "source": [
    "#lump together all negative values into 'pay duly'\n",
    "fil = (df.PAY_6 == -2) | (df.PAY_6 == -1)\n",
    "df.loc[fil, 'PAY_6'] = 0"
   ]
  },
  {
   "cell_type": "markdown",
   "metadata": {},
   "source": [
    "Now that we've cleaned that up, let's take a look at the value counts for this column"
   ]
  },
  {
   "cell_type": "code",
   "execution_count": 261,
   "metadata": {},
   "outputs": [
    {
     "data": {
      "image/png": "[encoded data removed]",
      "text/plain": [
       "<Figure size 432x288 with 1 Axes>"
      ]
     },
     "metadata": {
      "needs_background": "light"
     },
     "output_type": "display_data"
    },
    {
     "data": {
      "text/html": [
       "<div>\n",
       "<style scoped>\n",
       "    .dataframe tbody tr th:only-of-type {\n",
       "        vertical-align: middle;\n",
       "    }\n",
       "\n",
       "    .dataframe tbody tr th {\n",
       "        vertical-align: top;\n",
       "    }\n",
       "\n",
       "    .dataframe thead th {\n",
       "        text-align: right;\n",
       "    }\n",
       "</style>\n",
       "<table border=\"1\" class=\"dataframe\">\n",
       "  <thead>\n",
       "    <tr style=\"text-align: right;\">\n",
       "      <th></th>\n",
       "      <th>ID</th>\n",
       "    </tr>\n",
       "    <tr>\n",
       "      <th>PAY_6</th>\n",
       "      <th></th>\n",
       "    </tr>\n",
       "  </thead>\n",
       "  <tbody>\n",
       "    <tr>\n",
       "      <th>0</th>\n",
       "      <td>26921</td>\n",
       "    </tr>\n",
       "    <tr>\n",
       "      <th>2</th>\n",
       "      <td>2766</td>\n",
       "    </tr>\n",
       "    <tr>\n",
       "      <th>3</th>\n",
       "      <td>184</td>\n",
       "    </tr>\n",
       "    <tr>\n",
       "      <th>4</th>\n",
       "      <td>49</td>\n",
       "    </tr>\n",
       "    <tr>\n",
       "      <th>5</th>\n",
       "      <td>13</td>\n",
       "    </tr>\n",
       "    <tr>\n",
       "      <th>6</th>\n",
       "      <td>19</td>\n",
       "    </tr>\n",
       "    <tr>\n",
       "      <th>7</th>\n",
       "      <td>46</td>\n",
       "    </tr>\n",
       "    <tr>\n",
       "      <th>8</th>\n",
       "      <td>2</td>\n",
       "    </tr>\n",
       "  </tbody>\n",
       "</table>\n",
       "</div>"
      ],
      "text/plain": [
       "          ID\n",
       "PAY_6       \n",
       "0      26921\n",
       "2       2766\n",
       "3        184\n",
       "4         49\n",
       "5         13\n",
       "6         19\n",
       "7         46\n",
       "8          2"
      ]
     },
     "execution_count": 261,
     "metadata": {},
     "output_type": "execute_result"
    }
   ],
   "source": [
    "#set the number of ticks based on the number of different values in the series\n",
    "x=np.arange(len(df['PAY_6'].unique()))\n",
    "\n",
    "#make bar plot of 4/2005 repayment status value counts\n",
    "plt.bar(x,df['PAY_6'].value_counts().sort_index())\n",
    "\n",
    "#add labels and title\n",
    "plt.ylabel('Count')\n",
    "plt.xticks(x,('Pay Duly','1 month delay','2 month delay','3 month delay','4 month delay',\n",
    "             '5 month delay','6 month delay','7 month delay','8 month delay','9+ month delay'),\n",
    "             rotation=45)\n",
    "plt.title('Repayment status in May, 2005')\n",
    "\n",
    "#show plot\n",
    "plt.show()\n",
    "\n",
    "#display counts for each category\n",
    "df.groupby(['PAY_6'])[['ID']].count()"
   ]
  },
  {
   "cell_type": "markdown",
   "metadata": {},
   "source": [
    "## Default mean by repayment status April, 2005"
   ]
  },
  {
   "cell_type": "code",
   "execution_count": 262,
   "metadata": {},
   "outputs": [
    {
     "data": {
      "image/png": "[encoded data removed]",
      "text/plain": [
       "<Figure size 432x288 with 1 Axes>"
      ]
     },
     "metadata": {
      "needs_background": "light"
     },
     "output_type": "display_data"
    },
    {
     "data": {
      "text/html": [
       "<div>\n",
       "<style scoped>\n",
       "    .dataframe tbody tr th:only-of-type {\n",
       "        vertical-align: middle;\n",
       "    }\n",
       "\n",
       "    .dataframe tbody tr th {\n",
       "        vertical-align: top;\n",
       "    }\n",
       "\n",
       "    .dataframe thead th {\n",
       "        text-align: right;\n",
       "    }\n",
       "</style>\n",
       "<table border=\"1\" class=\"dataframe\">\n",
       "  <thead>\n",
       "    <tr style=\"text-align: right;\">\n",
       "      <th></th>\n",
       "      <th>default.payment.next.month</th>\n",
       "    </tr>\n",
       "    <tr>\n",
       "      <th>PAY_6</th>\n",
       "      <th></th>\n",
       "    </tr>\n",
       "  </thead>\n",
       "  <tbody>\n",
       "    <tr>\n",
       "      <th>0</th>\n",
       "      <td>0.186657</td>\n",
       "    </tr>\n",
       "    <tr>\n",
       "      <th>2</th>\n",
       "      <td>0.506508</td>\n",
       "    </tr>\n",
       "    <tr>\n",
       "      <th>3</th>\n",
       "      <td>0.641304</td>\n",
       "    </tr>\n",
       "    <tr>\n",
       "      <th>4</th>\n",
       "      <td>0.632653</td>\n",
       "    </tr>\n",
       "    <tr>\n",
       "      <th>5</th>\n",
       "      <td>0.538462</td>\n",
       "    </tr>\n",
       "    <tr>\n",
       "      <th>6</th>\n",
       "      <td>0.736842</td>\n",
       "    </tr>\n",
       "    <tr>\n",
       "      <th>7</th>\n",
       "      <td>0.826087</td>\n",
       "    </tr>\n",
       "    <tr>\n",
       "      <th>8</th>\n",
       "      <td>1.000000</td>\n",
       "    </tr>\n",
       "  </tbody>\n",
       "</table>\n",
       "</div>"
      ],
      "text/plain": [
       "       default.payment.next.month\n",
       "PAY_6                            \n",
       "0                        0.186657\n",
       "2                        0.506508\n",
       "3                        0.641304\n",
       "4                        0.632653\n",
       "5                        0.538462\n",
       "6                        0.736842\n",
       "7                        0.826087\n",
       "8                        1.000000"
      ]
     },
     "execution_count": 262,
     "metadata": {},
     "output_type": "execute_result"
    }
   ],
   "source": [
    "#set the number of ticks based on the number of different values in the series\n",
    "x=np.arange(len(df['PAY_6'].unique()))\n",
    "\n",
    "#find percentage of defaults for each repayment status and store in a variable\n",
    "defaults_by_pay_status=df.groupby(['PAY_6'])[['default.payment.next.month']].mean()\n",
    "\n",
    "#make bar plot of default mean of each value count of repayment status for 4/2005\n",
    "plt.bar(x,defaults_by_pay_status['default.payment.next.month'])\n",
    "\n",
    "#add labels and title\n",
    "plt.ylabel('% default')\n",
    "plt.xticks(x,('Pay Duly','1 month delay','2 month delay','3 month delay','4 month delay',\n",
    "             '5 month delay','6 month delay','7 month delay','8 month delay','9+ month delay'),\n",
    "             rotation=45)\n",
    "plt.title('Default by Repayment status in April, 2005')\n",
    "\n",
    "#show plot\n",
    "plt.show()\n",
    "\n",
    "#display mean for each value count\n",
    "df.groupby(['PAY_6'])[['default.payment.next.month']].mean()"
   ]
  },
  {
   "cell_type": "markdown",
   "metadata": {},
   "source": [
    "## Bill amount in April, 2005"
   ]
  },
  {
   "cell_type": "code",
   "execution_count": 263,
   "metadata": {},
   "outputs": [
    {
     "data": {
      "image/png": "[encoded data removed]",
      "text/plain": [
       "<Figure size 432x288 with 1 Axes>"
      ]
     },
     "metadata": {
      "needs_background": "light"
     },
     "output_type": "display_data"
    },
    {
     "name": "stdout",
     "output_type": "stream",
     "text": [
      "count     30000.000000\n",
      "mean      38871.760400\n",
      "std       59554.107537\n",
      "min     -339603.000000\n",
      "25%        1256.000000\n",
      "50%       17071.000000\n",
      "75%       49198.250000\n",
      "max      961664.000000\n",
      "Name: BILL_AMT6, dtype: float64\n"
     ]
    }
   ],
   "source": [
    "#make histogram of bill amounts for 4/2005\n",
    "plt.hist(df['BILL_AMT6'],bins=20)\n",
    "\n",
    "#set y scale to log to better display values\n",
    "plt.yscale('log')\n",
    "\n",
    "#add lables and title\n",
    "plt.xlabel('Bill Amount')\n",
    "plt.ylabel('Count')\n",
    "plt.title('Amount of bill statement in April, 2005')\n",
    "\n",
    "#show plot\n",
    "plt.show()\n",
    "\n",
    "#display summary statistics\n",
    "print(df['BILL_AMT6'].describe())"
   ]
  },
  {
   "cell_type": "markdown",
   "metadata": {},
   "source": [
    "## Box plot of bill amount by default April, 2005"
   ]
  },
  {
   "cell_type": "code",
   "execution_count": 264,
   "metadata": {},
   "outputs": [
    {
     "data": {
      "text/html": [
       "<div>\n",
       "<style scoped>\n",
       "    .dataframe tbody tr th:only-of-type {\n",
       "        vertical-align: middle;\n",
       "    }\n",
       "\n",
       "    .dataframe tbody tr th {\n",
       "        vertical-align: top;\n",
       "    }\n",
       "\n",
       "    .dataframe thead th {\n",
       "        text-align: right;\n",
       "    }\n",
       "</style>\n",
       "<table border=\"1\" class=\"dataframe\">\n",
       "  <thead>\n",
       "    <tr style=\"text-align: right;\">\n",
       "      <th></th>\n",
       "      <th>mean</th>\n",
       "      <th>std</th>\n",
       "    </tr>\n",
       "    <tr>\n",
       "      <th>default.payment.next.month</th>\n",
       "      <th></th>\n",
       "      <th></th>\n",
       "    </tr>\n",
       "  </thead>\n",
       "  <tbody>\n",
       "    <tr>\n",
       "      <th>0</th>\n",
       "      <td>39042.268704</td>\n",
       "      <td>59547.015717</td>\n",
       "    </tr>\n",
       "    <tr>\n",
       "      <th>1</th>\n",
       "      <td>38271.435503</td>\n",
       "      <td>59579.674268</td>\n",
       "    </tr>\n",
       "  </tbody>\n",
       "</table>\n",
       "</div>"
      ],
      "text/plain": [
       "                                    mean           std\n",
       "default.payment.next.month                            \n",
       "0                           39042.268704  59547.015717\n",
       "1                           38271.435503  59579.674268"
      ]
     },
     "execution_count": 264,
     "metadata": {},
     "output_type": "execute_result"
    },
    {
     "data": {
      "image/png": "[encoded data removed]",
      "text/plain": [
       "<Figure size 432x288 with 1 Axes>"
      ]
     },
     "metadata": {
      "needs_background": "light"
     },
     "output_type": "display_data"
    }
   ],
   "source": [
    "#make a box plot of default by bill amount 4/2005, set y scale to log for visual clarity\n",
    "df.boxplot(column=['BILL_AMT6'],by = ['default.payment.next.month']).set_yscale('log')\n",
    "\n",
    "#display mean and standard deviation of bill amount for default and no default\n",
    "pd.DataFrame(df.groupby(['default.payment.next.month'])['BILL_AMT6'].describe().loc[:,['mean','std']])"
   ]
  },
  {
   "cell_type": "markdown",
   "metadata": {},
   "source": [
    "## Statistical significance of bill amount in relation to default for April, 2005\n",
    "\n",
    "Null hypothesis: chance of default is independent of bill amount\n",
    "\n",
    "Alternative hypothesis: chance of default is not independent of bill amount"
   ]
  },
  {
   "cell_type": "code",
   "execution_count": 265,
   "metadata": {},
   "outputs": [
    {
     "data": {
      "text/plain": [
       "Ttest_indResult(statistic=0.9304946490374802, pvalue=0.3521225212306479)"
      ]
     },
     "execution_count": 265,
     "metadata": {},
     "output_type": "execute_result"
    }
   ],
   "source": [
    "#set 2 variables for no default (0) and default (1)\n",
    "rvs0 = df[df['default.payment.next.month']==0]['BILL_AMT6']\n",
    "rvs1 = df[df['default.payment.next.month']==1]['BILL_AMT6']\n",
    "\n",
    "stats.ttest_ind(rvs0,rvs1)"
   ]
  },
  {
   "cell_type": "markdown",
   "metadata": {},
   "source": [
    "Since our p-value is greater than 0.01, we will accept the null hypothesis and assume that the bill amount for August, 2005 is not significant in predicting the chance of default."
   ]
  },
  {
   "cell_type": "markdown",
   "metadata": {},
   "source": [
    "## Previous month payment amount April, 2005"
   ]
  },
  {
   "cell_type": "code",
   "execution_count": 266,
   "metadata": {},
   "outputs": [
    {
     "data": {
      "image/png": "[encoded data removed]",
      "text/plain": [
       "<Figure size 432x288 with 1 Axes>"
      ]
     },
     "metadata": {
      "needs_background": "light"
     },
     "output_type": "display_data"
    },
    {
     "name": "stdout",
     "output_type": "stream",
     "text": [
      "count     30000.000000\n",
      "mean       5215.502567\n",
      "std       17777.465775\n",
      "min           0.000000\n",
      "25%         117.750000\n",
      "50%        1500.000000\n",
      "75%        4000.000000\n",
      "max      528666.000000\n",
      "Name: PAY_AMT6, dtype: float64\n"
     ]
    }
   ],
   "source": [
    "#create histogram for previous month payment amount 4/2005\n",
    "plt.hist(df['PAY_AMT6'],bins=20)\n",
    "\n",
    "#set y scale to log for visual clarity\n",
    "plt.yscale('log')\n",
    "\n",
    "#add labels and title\n",
    "plt.xlabel('Bill Amount')\n",
    "plt.ylabel('Count')\n",
    "plt.title('Amount of previous payment in April, 2005')\n",
    "plt.xticks(rotation=45)\n",
    "\n",
    "#show plot\n",
    "plt.show()\n",
    "\n",
    "#show summary statistics\n",
    "print(df['PAY_AMT6'].describe())"
   ]
  },
  {
   "cell_type": "markdown",
   "metadata": {},
   "source": [
    "## Default by previous month pay amount April, 2005"
   ]
  },
  {
   "cell_type": "code",
   "execution_count": 267,
   "metadata": {},
   "outputs": [
    {
     "data": {
      "text/html": [
       "<div>\n",
       "<style scoped>\n",
       "    .dataframe tbody tr th:only-of-type {\n",
       "        vertical-align: middle;\n",
       "    }\n",
       "\n",
       "    .dataframe tbody tr th {\n",
       "        vertical-align: top;\n",
       "    }\n",
       "\n",
       "    .dataframe thead th {\n",
       "        text-align: right;\n",
       "    }\n",
       "</style>\n",
       "<table border=\"1\" class=\"dataframe\">\n",
       "  <thead>\n",
       "    <tr style=\"text-align: right;\">\n",
       "      <th></th>\n",
       "      <th>mean</th>\n",
       "      <th>std</th>\n",
       "    </tr>\n",
       "    <tr>\n",
       "      <th>default.payment.next.month</th>\n",
       "      <th></th>\n",
       "      <th></th>\n",
       "    </tr>\n",
       "  </thead>\n",
       "  <tbody>\n",
       "    <tr>\n",
       "      <th>0</th>\n",
       "      <td>5719.371769</td>\n",
       "      <td>18792.950473</td>\n",
       "    </tr>\n",
       "    <tr>\n",
       "      <th>1</th>\n",
       "      <td>3441.482068</td>\n",
       "      <td>13464.005894</td>\n",
       "    </tr>\n",
       "  </tbody>\n",
       "</table>\n",
       "</div>"
      ],
      "text/plain": [
       "                                   mean           std\n",
       "default.payment.next.month                           \n",
       "0                           5719.371769  18792.950473\n",
       "1                           3441.482068  13464.005894"
      ]
     },
     "execution_count": 267,
     "metadata": {},
     "output_type": "execute_result"
    },
    {
     "data": {
      "image/png": "[encoded data removed]",
      "text/plain": [
       "<Figure size 432x288 with 1 Axes>"
      ]
     },
     "metadata": {
      "needs_background": "light"
     },
     "output_type": "display_data"
    }
   ],
   "source": [
    "#make a box plot of default by previous month payment amount 4/2005 with y scale set to log\n",
    "df.boxplot(column=['PAY_AMT6'],by = ['default.payment.next.month']).set_yscale('log')\n",
    "\n",
    "#label y axis\n",
    "plt.ylabel('Previous month pay amount, 4/2005')\n",
    "\n",
    "#display mean and standard deviation of no default and default for previous month pay amount 4/2005\n",
    "pd.DataFrame(df.groupby(['default.payment.next.month'])['PAY_AMT6'].describe().loc[:,['mean','std']])"
   ]
  },
  {
   "cell_type": "markdown",
   "metadata": {},
   "source": [
    "## Statistical significance of previous month pay amount in relation to default for April, 2005\n",
    "\n",
    "Null hypothesis: chance of default is independent of bill amount\n",
    "\n",
    "Alternative hypothesis: chance of default is not independent of bill amount"
   ]
  },
  {
   "cell_type": "code",
   "execution_count": 268,
   "metadata": {},
   "outputs": [
    {
     "data": {
      "text/plain": [
       "Ttest_indResult(statistic=9.224372354111592, pvalue=3.033589072770243e-20)"
      ]
     },
     "execution_count": 268,
     "metadata": {},
     "output_type": "execute_result"
    }
   ],
   "source": [
    "#set 2 variables for no default (0) and default (1)\n",
    "rvs0 = df[df['default.payment.next.month']==0]['PAY_AMT6']\n",
    "rvs1 = df[df['default.payment.next.month']==1]['PAY_AMT6']\n",
    "\n",
    "stats.ttest_ind(rvs0,rvs1)"
   ]
  },
  {
   "cell_type": "markdown",
   "metadata": {},
   "source": [
    "Since our p-value is less than 0.01, we will reject the null hypothesis and assume that the amount paid in March, 2005 is significant in predicting the chance of default."
   ]
  },
  {
   "cell_type": "markdown",
   "metadata": {},
   "source": [
    "# Preparing for our machine learning model"
   ]
  },
  {
   "cell_type": "markdown",
   "metadata": {},
   "source": [
    "Now that we've completed our preliminary exploratory data analysis, we will break our categorical variables (gender, marriage, education, and repayment status) into separate columns for each value in the column in order to facilitate the creation of a correlation table (using seaborn's heatmap function), as well as running logit regression using statsmodels.api."
   ]
  },
  {
   "cell_type": "code",
   "execution_count": 269,
   "metadata": {},
   "outputs": [],
   "source": [
    "#import packages\n",
    "import statsmodels.api as sm\n",
    "from sklearn.model_selection import train_test_split"
   ]
  },
  {
   "cell_type": "markdown",
   "metadata": {},
   "source": [
    "Before we get started creating the dummy variables, let's consolidate the values of the repayment columns from having 0 to 9 month delay to 0 to 4. "
   ]
  },
  {
   "cell_type": "code",
   "execution_count": 270,
   "metadata": {},
   "outputs": [],
   "source": [
    "#Repayment status, 9/2005\n",
    "fil = (df.PAY_0 == 5) | (df.PAY_0 == 6) | (df.PAY_0 == 7) | (df.PAY_0 == 8) | (df.PAY_0 == 9)\n",
    "df.loc[fil, 'PAY_0'] = 4\n",
    "\n",
    "#Repayment status, 8/2005\n",
    "fil = (df.PAY_2 == 5) | (df.PAY_2 == 6) | (df.PAY_2 == 7) | (df.PAY_2 == 8) | (df.PAY_2 == 9)\n",
    "df.loc[fil, 'PAY_2'] = 4\n",
    "\n",
    "#Repayment status, 7/2005\n",
    "fil = (df.PAY_3 == 5) | (df.PAY_3 == 6) | (df.PAY_3 == 7) | (df.PAY_3 == 8) | (df.PAY_3 == 9)\n",
    "df.loc[fil, 'PAY_3'] = 4\n",
    "\n",
    "#Repayment status, 6/2005\n",
    "fil = (df.PAY_4 == 5) | (df.PAY_4 == 6) | (df.PAY_4 == 7) | (df.PAY_4 == 8) | (df.PAY_4 == 9)\n",
    "df.loc[fil, 'PAY_4'] = 4\n",
    "\n",
    "#Repayment status, 5/2005\n",
    "fil = (df.PAY_5 == 5) | (df.PAY_5 == 6) | (df.PAY_5 == 7) | (df.PAY_5 == 8) | (df.PAY_5 == 9)\n",
    "df.loc[fil, 'PAY_5'] = 4\n",
    "\n",
    "#Repayment status, 4/2005\n",
    "fil = (df.PAY_6 == 5) | (df.PAY_6 == 6) | (df.PAY_6 == 7) | (df.PAY_6 == 8) | (df.PAY_6 == 9)\n",
    "df.loc[fil, 'PAY_6'] = 4"
   ]
  },
  {
   "cell_type": "markdown",
   "metadata": {},
   "source": [
    "Now let's check to make sure we got what we wanted"
   ]
  },
  {
   "cell_type": "code",
   "execution_count": 271,
   "metadata": {
    "scrolled": false
   },
   "outputs": [
    {
     "name": "stdout",
     "output_type": "stream",
     "text": [
      "0    23182\n",
      "1     3688\n",
      "2     2667\n",
      "3      322\n",
      "4      141\n",
      "Name: PAY_0, dtype: int64\n",
      "0    25562\n",
      "1       28\n",
      "2     3927\n",
      "3      326\n",
      "4      157\n",
      "Name: PAY_2, dtype: int64\n",
      "0    25787\n",
      "1        4\n",
      "2     3819\n",
      "3      240\n",
      "4      150\n",
      "Name: PAY_3, dtype: int64\n",
      "0    26490\n",
      "1        2\n",
      "2     3159\n",
      "3      180\n",
      "4      169\n",
      "Name: PAY_4, dtype: int64\n",
      "0    27032\n",
      "2     2626\n",
      "3      178\n",
      "4      164\n",
      "Name: PAY_5, dtype: int64\n",
      "0    26921\n",
      "2     2766\n",
      "3      184\n",
      "4      129\n",
      "Name: PAY_6, dtype: int64\n"
     ]
    }
   ],
   "source": [
    "print(df.PAY_0.value_counts().sort_index())\n",
    "print(df.PAY_2.value_counts().sort_index())\n",
    "print(df.PAY_3.value_counts().sort_index())\n",
    "print(df.PAY_4.value_counts().sort_index())\n",
    "print(df.PAY_5.value_counts().sort_index())\n",
    "print(df.PAY_6.value_counts().sort_index())"
   ]
  },
  {
   "cell_type": "markdown",
   "metadata": {},
   "source": [
    "Note that in both April and May there are no values corresponding to 1 month delay"
   ]
  },
  {
   "cell_type": "markdown",
   "metadata": {},
   "source": [
    "## Split categorical columns into dummy variable columns using pandas"
   ]
  },
  {
   "cell_type": "code",
   "execution_count": 272,
   "metadata": {},
   "outputs": [],
   "source": [
    "#set intercept column (for logit regrssion)\n",
    "df['intercept'] = 1\n",
    "\n",
    "#create dummy variable columns for categorical variables\n",
    "df[['MARRIED','SINGLE','OTHER']] =  pd.get_dummies(df['MARRIAGE'])\n",
    "df[['GRADUATE_SCHOOL','UNIVERSITY','HIGH_SCHOOL','OTHERS']] =  pd.get_dummies(df['EDUCATION'])\n",
    "df[['SEP_PAY_DULY','SEP_PAY_DEL_1','SEP_PAY_DEL_2',\n",
    "    'SEP_PAY_DEL_3','SEP_PAY_DEL_4']] =  pd.get_dummies(df['PAY_0'])\n",
    "df[['AUG_PAY_DULY','AUG_PAY_DEL_1','AUG_PAY_DEL_2',\n",
    "    'AUG_PAY_DEL_3','AUG_PAY_DEL_4']] =  pd.get_dummies(df['PAY_2'])\n",
    "df[['JUL_PAY_DULY','JUL_PAY_DEL_1','JUL_PAY_DEL_2',\n",
    "    'JUL_PAY_DEL_3','JUL_PAY_DEL_4']] =  pd.get_dummies(df['PAY_3'])\n",
    "df[['JUN_PAY_DULY','JUN_PAY_DEL_1','JUN_PAY_DEL_2',\n",
    "    'JUN_PAY_DEL_3','JUN_PAY_DEL_4']] =  pd.get_dummies(df['PAY_4'])\n",
    "df[['MAY_PAY_DULY','MAY_PAY_DEL_2','MAY_PAY_DEL_3',\n",
    "    'MAY_PAY_DEL_4']] =  pd.get_dummies(df['PAY_5'])\n",
    "df[['APR_PAY_DULY','APR_PAY_DEL_2','APR_PAY_DEL_3',\n",
    "    'APR_PAY_DEL_4']] =  pd.get_dummies(df['PAY_6'])"
   ]
  },
  {
   "cell_type": "markdown",
   "metadata": {},
   "source": [
    "Let's take a look at our columns now."
   ]
  },
  {
   "cell_type": "code",
   "execution_count": 273,
   "metadata": {
    "scrolled": true
   },
   "outputs": [
    {
     "name": "stdout",
     "output_type": "stream",
     "text": [
      "Index(['ID', 'LIMIT_BAL', 'SEX', 'EDUCATION', 'MARRIAGE', 'AGE', 'PAY_0',\n",
      "       'PAY_2', 'PAY_3', 'PAY_4', 'PAY_5', 'PAY_6', 'BILL_AMT1', 'BILL_AMT2',\n",
      "       'BILL_AMT3', 'BILL_AMT4', 'BILL_AMT5', 'BILL_AMT6', 'PAY_AMT1',\n",
      "       'PAY_AMT2', 'PAY_AMT3', 'PAY_AMT4', 'PAY_AMT5', 'PAY_AMT6',\n",
      "       'default.payment.next.month', 'intercept', 'MARRIED', 'SINGLE', 'OTHER',\n",
      "       'GRADUATE_SCHOOL', 'UNIVERSITY', 'HIGH_SCHOOL', 'OTHERS',\n",
      "       'SEP_PAY_DULY', 'SEP_PAY_DEL_1', 'SEP_PAY_DEL_2', 'SEP_PAY_DEL_3',\n",
      "       'SEP_PAY_DEL_4', 'AUG_PAY_DULY', 'AUG_PAY_DEL_1', 'AUG_PAY_DEL_2',\n",
      "       'AUG_PAY_DEL_3', 'AUG_PAY_DEL_4', 'JUL_PAY_DULY', 'JUL_PAY_DEL_1',\n",
      "       'JUL_PAY_DEL_2', 'JUL_PAY_DEL_3', 'JUL_PAY_DEL_4', 'JUN_PAY_DULY',\n",
      "       'JUN_PAY_DEL_1', 'JUN_PAY_DEL_2', 'JUN_PAY_DEL_3', 'JUN_PAY_DEL_4',\n",
      "       'MAY_PAY_DULY', 'MAY_PAY_DEL_2', 'MAY_PAY_DEL_3', 'MAY_PAY_DEL_4',\n",
      "       'APR_PAY_DULY', 'APR_PAY_DEL_2', 'APR_PAY_DEL_3', 'APR_PAY_DEL_4'],\n",
      "      dtype='object')\n"
     ]
    }
   ],
   "source": [
    "print(df.columns)"
   ]
  },
  {
   "cell_type": "markdown",
   "metadata": {},
   "source": [
    "although some of the values in the middle have been cut out, we can see that our categorical columns now have their dummy variable counterparts. "
   ]
  },
  {
   "cell_type": "markdown",
   "metadata": {},
   "source": [
    "## Correlation table\n",
    "Using Seaborn, we're going to create a correlation table for our dummy variables"
   ]
  },
  {
   "cell_type": "code",
   "execution_count": 292,
   "metadata": {
    "scrolled": false
   },
   "outputs": [
    {
     "data": {
      "image/png": "[encoded data removed]",
      "text/plain": [
       "<Figure size 432x288 with 2 Axes>"
      ]
     },
     "metadata": {
      "needs_background": "light"
     },
     "output_type": "display_data"
    }
   ],
   "source": [
    "#remove categorical columns from dataset for heatmap\n",
    "heatmap_data = df.drop(['ID','EDUCATION','MARRIAGE','PAY_0','PAY_2',\n",
    "                        'PAY_3','PAY_4','PAY_5','PAY_6','intercept'], axis = 1)\n",
    "\n",
    "#create covariance matrix\n",
    "heatmap_correlation = heatmap_data.corr()\n",
    "\n",
    "#create filter to view which columns are highly correlated\n",
    "#we also have to filter out the diagonal where all values are 1\n",
    "fil = (abs(heatmap_correlation) > 0.8) & (heatmap_correlation !=1)\n",
    "\n",
    "#filter the correlation matrix\n",
    "fil = heatmap_correlation[fil]\n",
    "\n",
    "#drop rows with all NaN values (correlation < 0.8)\n",
    "fil = fil.dropna(how = 'all')\n",
    "\n",
    "#drop columns with all NaN values\n",
    "fil = fil.dropna(how = 'all', axis = 1)\n",
    "\n",
    "#generate heatmap\n",
    "sns.heatmap(fil)\n",
    "\n",
    "#show plot\n",
    "plt.show()"
   ]
  },
  {
   "cell_type": "markdown",
   "metadata": {},
   "source": [
    "just to make sure we're not missing any highly correlated features, let's look at the correlation where it's equal to 1."
   ]
  },
  {
   "cell_type": "code",
   "execution_count": 296,
   "metadata": {},
   "outputs": [
    {
     "data": {
      "image/png": "[encoded data removed]",
      "text/plain": [
       "<Figure size 432x288 with 2 Axes>"
      ]
     },
     "metadata": {
      "needs_background": "light"
     },
     "output_type": "display_data"
    }
   ],
   "source": [
    "#filter values = 1\n",
    "fil = heatmap_correlation == 1\n",
    "\n",
    "#filter correlation matrix\n",
    "fil = heatmap_correlation[fil]\n",
    "\n",
    "#generate plot\n",
    "sns.heatmap(fil)\n",
    "\n",
    "#show plot\n",
    "plt.show()"
   ]
  },
  {
   "cell_type": "markdown",
   "metadata": {},
   "source": [
    "Doesn't look like we lost any information by filtering out the values in our table = 1."
   ]
  },
  {
   "cell_type": "markdown",
   "metadata": {},
   "source": [
    "## Insights from the correlation heatmap"
   ]
  },
  {
   "cell_type": "markdown",
   "metadata": {},
   "source": [
    "-The bill amount columns have a high correlation to each other. When we ran the statistical signifigance tests, the bill amount columns were not significant in predicting default. This makes sense because people who have a lot of money would be likely to have a high bill and be able to pay it off every month, where someone who has bad spending habits could also have a high bill but end up defaulting. <b>We will not include these columns for our machine learning model.</b>\n",
    "\n",
    "-The pay duly and pay delay 2 columns also have a high negative correlation; however, this is expected as a given customer could only be in 1 of those columns at a time. Since we converted the pay status columns from a categorical column to dummy variables, this makes sense. Pay status is also the strongest indicator of default in our set of features. We will include these columns in the machine learning model. The other pay status columns are not included because their value counts are very small compared to 'pay duly' and 'pay del 2', so their correlation is not as strong. It is worth considering lumping all of the pay status columns into 0 = 'pay duly' and 1 = 'pay del'.\n",
    "\n",
    "-The only other columns included in the filtered heatmap are married and single, which were again dummy variable columns created from a categorical column. These will also be included in our model"
   ]
  },
  {
   "cell_type": "markdown",
   "metadata": {},
   "source": [
    "Let's also take a look at the correlation for each column against default in our unfiltered correlation matrix"
   ]
  },
  {
   "cell_type": "code",
   "execution_count": 290,
   "metadata": {},
   "outputs": [
    {
     "data": {
      "text/plain": [
       "LIMIT_BAL                    -0.153520\n",
       "SEX                          -0.039961\n",
       "AGE                           0.013890\n",
       "BILL_AMT1                    -0.019644\n",
       "BILL_AMT2                    -0.014193\n",
       "BILL_AMT3                    -0.014076\n",
       "BILL_AMT4                    -0.010156\n",
       "BILL_AMT5                    -0.006760\n",
       "BILL_AMT6                    -0.005372\n",
       "PAY_AMT1                     -0.072929\n",
       "PAY_AMT2                     -0.058579\n",
       "PAY_AMT3                     -0.056250\n",
       "PAY_AMT4                     -0.056827\n",
       "PAY_AMT5                     -0.055124\n",
       "PAY_AMT6                     -0.053183\n",
       "default.payment.next.month    1.000000\n",
       "MARRIED                       0.029775\n",
       "SINGLE                       -0.030619\n",
       "OTHER                         0.004043\n",
       "GRADUATE_SCHOOL              -0.051328\n",
       "UNIVERSITY                    0.036467\n",
       "HIGH_SCHOOL                   0.032403\n",
       "OTHERS                       -0.045703\n",
       "SEP_PAY_DULY                 -0.368117\n",
       "SEP_PAY_DEL_1                 0.106690\n",
       "SEP_PAY_DEL_2                 0.353881\n",
       "SEP_PAY_DEL_3                 0.134656\n",
       "SEP_PAY_DEL_4                 0.067882\n",
       "AUG_PAY_DULY                 -0.338022\n",
       "AUG_PAY_DEL_1                -0.003139\n",
       "AUG_PAY_DEL_2                 0.313191\n",
       "AUG_PAY_DEL_3                 0.099842\n",
       "AUG_PAY_DEL_4                 0.057069\n",
       "JUL_PAY_DULY                 -0.293583\n",
       "JUL_PAY_DEL_1                 0.000801\n",
       "JUL_PAY_DEL_2                 0.270885\n",
       "JUL_PAY_DEL_3                 0.076549\n",
       "JUL_PAY_DEL_4                 0.069251\n",
       "JUN_PAY_DULY                 -0.275495\n",
       "JUN_PAY_DEL_1                 0.005485\n",
       "JUN_PAY_DEL_2                 0.249674\n",
       "JUN_PAY_DEL_3                 0.072986\n",
       "JUN_PAY_DEL_4                 0.083287\n",
       "MAY_PAY_DULY                 -0.266959\n",
       "MAY_PAY_DEL_2                 0.239308\n",
       "MAY_PAY_DEL_3                 0.076993\n",
       "MAY_PAY_DEL_4                 0.083566\n",
       "APR_PAY_DULY                 -0.246089\n",
       "APR_PAY_DEL_2                 0.219068\n",
       "APR_PAY_DEL_3                 0.079513\n",
       "APR_PAY_DEL_4                 0.077895\n",
       "Name: default.payment.next.month, dtype: float64"
      ]
     },
     "execution_count": 290,
     "metadata": {},
     "output_type": "execute_result"
    }
   ],
   "source": [
    "heatmap_correlation.loc['default.payment.next.month']"
   ]
  },
  {
   "cell_type": "markdown",
   "metadata": {},
   "source": [
    "This is interesting - obviously the pay duly correlation has a strong negative correlation; however, the 2 month delay columns have a much higher correlation for default than any of the others. Perhaps this is due to the low sample size for the payment delay for 3 & 4+? In addition, most of the correlation to default is relatively low (< ~0.33). This is likely due to the fact that our data set is unbalanced and only 23% of the customers defaulted."
   ]
  },
  {
   "cell_type": "markdown",
   "metadata": {},
   "source": [
    "## Logit regression for Marriage"
   ]
  },
  {
   "cell_type": "code",
   "execution_count": 282,
   "metadata": {},
   "outputs": [
    {
     "name": "stdout",
     "output_type": "stream",
     "text": [
      "Optimization terminated successfully.\n",
      "         Current function value: 0.527954\n",
      "         Iterations 5\n"
     ]
    },
    {
     "data": {
      "text/html": [
       "<table class=\"simpletable\">\n",
       "<caption>Logit Regression Results</caption>\n",
       "<tr>\n",
       "  <th>Dep. Variable:</th> <td>default.payment.next.month</td> <th>  No. Observations:  </th>  <td> 30000</td>  \n",
       "</tr>\n",
       "<tr>\n",
       "  <th>Model:</th>                    <td>Logit</td>           <th>  Df Residuals:      </th>  <td> 29997</td>  \n",
       "</tr>\n",
       "<tr>\n",
       "  <th>Method:</th>                    <td>MLE</td>            <th>  Df Model:          </th>  <td>     2</td>  \n",
       "</tr>\n",
       "<tr>\n",
       "  <th>Date:</th>               <td>Sat, 29 Dec 2018</td>      <th>  Pseudo R-squ.:     </th> <td>0.0008861</td>\n",
       "</tr>\n",
       "<tr>\n",
       "  <th>Time:</th>                   <td>09:42:08</td>          <th>  Log-Likelihood:    </th> <td> -15839.</td> \n",
       "</tr>\n",
       "<tr>\n",
       "  <th>converged:</th>                <td>True</td>            <th>  LL-Null:           </th> <td> -15853.</td> \n",
       "</tr>\n",
       "<tr>\n",
       "  <th> </th>                           <td> </td>             <th>  LLR p-value:       </th> <td>7.938e-07</td>\n",
       "</tr>\n",
       "</table>\n",
       "<table class=\"simpletable\">\n",
       "<tr>\n",
       "      <td></td>         <th>coef</th>     <th>std err</th>      <th>z</th>      <th>P>|z|</th>  <th>[0.025</th>    <th>0.975]</th>  \n",
       "</tr>\n",
       "<tr>\n",
       "  <th>intercept</th> <td>   -1.1743</td> <td>    0.121</td> <td>   -9.683</td> <td> 0.000</td> <td>   -1.412</td> <td>   -0.937</td>\n",
       "</tr>\n",
       "<tr>\n",
       "  <th>MARRIED</th>   <td>   -0.0075</td> <td>    0.123</td> <td>   -0.061</td> <td> 0.951</td> <td>   -0.249</td> <td>    0.233</td>\n",
       "</tr>\n",
       "<tr>\n",
       "  <th>SINGLE</th>    <td>   -0.1549</td> <td>    0.123</td> <td>   -1.261</td> <td> 0.207</td> <td>   -0.396</td> <td>    0.086</td>\n",
       "</tr>\n",
       "</table>"
      ],
      "text/plain": [
       "<class 'statsmodels.iolib.summary.Summary'>\n",
       "\"\"\"\n",
       "                               Logit Regression Results                               \n",
       "======================================================================================\n",
       "Dep. Variable:     default.payment.next.month   No. Observations:                30000\n",
       "Model:                                  Logit   Df Residuals:                    29997\n",
       "Method:                                   MLE   Df Model:                            2\n",
       "Date:                        Sat, 29 Dec 2018   Pseudo R-squ.:               0.0008861\n",
       "Time:                                09:42:08   Log-Likelihood:                -15839.\n",
       "converged:                               True   LL-Null:                       -15853.\n",
       "                                                LLR p-value:                 7.938e-07\n",
       "==============================================================================\n",
       "                 coef    std err          z      P>|z|      [0.025      0.975]\n",
       "------------------------------------------------------------------------------\n",
       "intercept     -1.1743      0.121     -9.683      0.000      -1.412      -0.937\n",
       "MARRIED       -0.0075      0.123     -0.061      0.951      -0.249       0.233\n",
       "SINGLE        -0.1549      0.123     -1.261      0.207      -0.396       0.086\n",
       "==============================================================================\n",
       "\"\"\""
      ]
     },
     "execution_count": 282,
     "metadata": {},
     "output_type": "execute_result"
    }
   ],
   "source": [
    "logit = sm.Logit(df['default.payment.next.month'], df[['intercept','MARRIED','SINGLE']])\n",
    "result = logit.fit()\n",
    "result.summary()"
   ]
  },
  {
   "cell_type": "markdown",
   "metadata": {},
   "source": [
    "Running Logit regression just to try it out, seems like a useful method, easier to use than the standard statistical tests since you can print a nice summary tables with a simple call to .summary()"
   ]
  },
  {
   "cell_type": "markdown",
   "metadata": {},
   "source": [
    "## Split dataframe into testing/training sets"
   ]
  },
  {
   "cell_type": "code",
   "execution_count": 295,
   "metadata": {},
   "outputs": [],
   "source": [
    "#set dependent variable to default.payment.next.month\n",
    "y = df['default.payment.next.month'].copy()\n",
    "\n",
    "#set independent varaible to remaining columns (features)\n",
    "features = ['LIMIT_BAL', 'SEX', 'GRADUATE_SCHOOL','UNIVERSITY','HIGH_SCHOOL',\n",
    "            'OTHERS', 'MARRIED','SINGLE','OTHER', 'AGE', 'SEP_PAY_DULY','SEP_PAY_DEL_1',\n",
    "            'SEP_PAY_DEL_2','SEP_PAY_DEL_3','SEP_PAY_DEL_4', 'AUG_PAY_DULY','AUG_PAY_DEL_1',\n",
    "            'AUG_PAY_DEL_2','AUG_PAY_DEL_3','AUG_PAY_DEL_4', 'JUL_PAY_DULY','JUL_PAY_DEL_1',\n",
    "            'JUL_PAY_DEL_2','JUL_PAY_DEL_3','JUL_PAY_DEL_4', 'JUN_PAY_DULY','JUN_PAY_DEL_1',\n",
    "            'JUN_PAY_DEL_2','JUN_PAY_DEL_3','JUN_PAY_DEL_4', 'MAY_PAY_DULY','MAY_PAY_DEL_2',\n",
    "            'MAY_PAY_DEL_3','MAY_PAY_DEL_4', 'APR_PAY_DULY','APR_PAY_DEL_2','APR_PAY_DEL_3',\n",
    "            'APR_PAY_DEL_4','PAY_AMT1','PAY_AMT2', 'PAY_AMT3', 'PAY_AMT4', 'PAY_AMT5',\n",
    "            'PAY_AMT6']\n",
    "\n",
    "X = df[features].copy()\n",
    "\n",
    "#split the dataset into testing and training using train_test_split\n",
    "X_train, X_test, y_train, y_test = train_test_split(X, y, test_size=0.2, random_state=42)"
   ]
  },
  {
   "cell_type": "markdown",
   "metadata": {},
   "source": [
    "Let's test to make sure that our testing and training sets have relatively similar default percentages compared to the whole set."
   ]
  },
  {
   "cell_type": "code",
   "execution_count": 333,
   "metadata": {},
   "outputs": [
    {
     "name": "stdout",
     "output_type": "stream",
     "text": [
      "Training set mean: 0.22179166666666666\n",
      "Testing set mean: 0.21883333333333332\n"
     ]
    }
   ],
   "source": [
    "print('Training set mean:', np.mean(y_train))\n",
    "print('Testing set mean:', np.mean(y_test))"
   ]
  },
  {
   "cell_type": "markdown",
   "metadata": {},
   "source": [
    "This seems pretty reasonable, since our orignal percentage was about 23%."
   ]
  },
  {
   "cell_type": "markdown",
   "metadata": {},
   "source": [
    "## Selecting a machine learning model"
   ]
  },
  {
   "cell_type": "markdown",
   "metadata": {},
   "source": [
    "Since we are trying to predict default based on the features of our data set, this is a classification problem. Classification machine learning models to consider are:\n",
    "\n",
    "Nearest Neighbors, Decision Trees, Gaussian Process, Naive Bayes, or Random Forests, AdaBoost, Gradient Tree Boosting, and Neural Network Models"
   ]
  },
  {
   "cell_type": "markdown",
   "metadata": {},
   "source": [
    "### Nearest Neighbors"
   ]
  },
  {
   "cell_type": "markdown",
   "metadata": {},
   "source": [
    "For our dataset, the nearest neighbors model may not be the best choice due to the high dimensionality of our dataset. Since our data is not uniformly sampled (only about 23% of our dataset contains defaults), we would want to use RadiusNeighborsClassifier; however, because of the large number of features, this model would suffer from the 'curse of dimensionality'."
   ]
  },
  {
   "cell_type": "markdown",
   "metadata": {},
   "source": [
    "### Decision Trees"
   ]
  },
  {
   "cell_type": "markdown",
   "metadata": {},
   "source": [
    "This could be a good model, but we may have better results from an ensemble method such as random forests. \n",
    "\n",
    "<b>Advantages</b>\n",
    "\n",
    "-it is easy to implement; easy to test validity of the model \n",
    "\n",
    "-can handle both categorical and numerical data \n",
    "\n",
    "-easily visualize and interpret results\n",
    "\n",
    "\n",
    "\n",
    "<b>Disadvantages</b>\n",
    "\n",
    "-can easily result in overfitting on the training set, leading to inacurate results in the testing data\n",
    "\n",
    "-can result in biased results due to unbalanced data set (can be mitigated using ensemble method)"
   ]
  },
  {
   "cell_type": "markdown",
   "metadata": {},
   "source": [
    "### Gaussian Process"
   ]
  },
  {
   "cell_type": "markdown",
   "metadata": {},
   "source": [
    "Gaussian process models are a generic supervised learning method which can be used for classification problems.\n",
    "\n",
    "<b>Advantages</b>\n",
    "\n",
    "-the prediction is probabilistic, so results can be interpreted with a confidence interval to decide whether to refit the model\n",
    "\n",
    "-supports custom kernels\n",
    "\n",
    "<b>Disadvantages</b>\n",
    "\n",
    "-lose efficiency in high dimensional spaces (features > ~24)"
   ]
  },
  {
   "cell_type": "markdown",
   "metadata": {},
   "source": [
    "### Naive Bayes"
   ]
  },
  {
   "cell_type": "markdown",
   "metadata": {},
   "source": [
    "Naive Bayes models apply Bayes' theorum with the assumption that each feature is independent. \n",
    "\n",
    "<b>Advantages</b>\n",
    "\n",
    "-require small amount of training data\n",
    "\n",
    "-faster than more complex models\n",
    "\n",
    "-good classifier\n",
    "\n",
    "<b>Disadvantages</b>\n",
    "\n",
    "-bad estimator (probabilities not accurate)"
   ]
  },
  {
   "cell_type": "markdown",
   "metadata": {},
   "source": [
    "### Random Forests"
   ]
  },
  {
   "cell_type": "markdown",
   "metadata": {},
   "source": [
    "Random forests creates decision trees using bootstrap sampling on the training set. As a result of the randomness of this model, the bias usually increases compared to a single decision tree; however, because of averaging, the variance decreases, which makes up for the increase in bias. This could be a good model for our data set."
   ]
  },
  {
   "cell_type": "markdown",
   "metadata": {},
   "source": [
    "### AdaBoost"
   ]
  },
  {
   "cell_type": "markdown",
   "metadata": {},
   "source": [
    "AdaBoost uses a sequence of weak learners on repeatedly modified versions of the data. The results are then combined through a weighted majority vote. This method could be also be a good model for our data set."
   ]
  },
  {
   "cell_type": "markdown",
   "metadata": {},
   "source": [
    "### Gradient Tree Boosting"
   ]
  },
  {
   "cell_type": "markdown",
   "metadata": {},
   "source": [
    "Gradient tree boosting uses several weak decision trees built sequentially to improve the overall accuracy of the model by combining the weak models to reduce bias. This model can handle mixed data types and handles outliers well; however, it does not scale well and cannot be parallelized. "
   ]
  },
  {
   "cell_type": "markdown",
   "metadata": {},
   "source": [
    "### Neural Network"
   ]
  },
  {
   "cell_type": "markdown",
   "metadata": {},
   "source": [
    "The multi-layer perceptron model can learn a non-linear function approximator for either classification or regression. It takes a set of features (neurons) as input, passes these into 'hidden layers' which transform the values of the previous layer with weighted linear summation and then passes those values to a non-linear activation function. \n",
    "\n",
    "<b>Advantages</b>\n",
    "\n",
    "-ability to learn non-linear models\n",
    "\n",
    "-able to learn models in real time (online learning).\n",
    "\n",
    "<b>Disadvantages</b>\n",
    "\n",
    "-Sensitive to feature scaling\n",
    "\n",
    "-different random weight initializations can lead to different validation accuracy\n",
    "\n",
    "-requires tuning of different hyperparameters (number of hidden neurons, layers, and iterations)\n",
    "\n",
    "\n",
    "While this model is powerful, it may not be the best choice for this project since we will not be doing real time learning."
   ]
  },
  {
   "cell_type": "markdown",
   "metadata": {},
   "source": [
    "## Test run of decision trees\n",
    "\n",
    "Let's try out the decision trees model and see what we get with and without the class_weight parameter."
   ]
  },
  {
   "cell_type": "code",
   "execution_count": 334,
   "metadata": {},
   "outputs": [],
   "source": [
    "#import packages\n",
    "from sklearn.tree import DecisionTreeClassifier\n",
    "from sklearn.metrics import accuracy_score, precision_score, f1_score, balanced_accuracy_score"
   ]
  },
  {
   "cell_type": "code",
   "execution_count": 325,
   "metadata": {},
   "outputs": [
    {
     "name": "stdout",
     "output_type": "stream",
     "text": [
      "accuracy: 0.7608333333333334\n",
      "precision: 0.4618272841051314\n",
      "f1_score: 0.5070422535211268\n"
     ]
    }
   ],
   "source": [
    "#set model parameters\n",
    "clf = DecisionTreeClassifier(max_depth = 3, class_weight = 'balanced')\n",
    "\n",
    "#fit model\n",
    "clf = clf.fit(X_train, y_train)\n",
    "\n",
    "#run prediction\n",
    "prd = clf.predict(X_test)\n",
    "\n",
    "#check accuracy\n",
    "print('accuracy:', accuracy_score(y_true = y_test, y_pred = prd))\n",
    "\n",
    "#check precision\n",
    "print('precision:', precision_score(y_true = y_test, y_pred = prd))\n",
    "\n",
    "#check f1_score\n",
    "print('f1_score:', f1_score(y_true = y_test, y_pred = prd))"
   ]
  },
  {
   "cell_type": "markdown",
   "metadata": {},
   "source": [
    "Not the results I was hoping for. How can we imporve upon this? Let's try increasing the max_depth. Maybe 3 is too small?"
   ]
  },
  {
   "cell_type": "code",
   "execution_count": 336,
   "metadata": {},
   "outputs": [
    {
     "name": "stdout",
     "output_type": "stream",
     "text": [
      "max_depth = 4\n",
      "accuracy: 0.777\n",
      "precision: 0.4917163684559311\n",
      "f1_score: 0.52586817859674\n",
      "balanced accuracy score 0.7007369641134404\n",
      "max_depth = 5\n",
      "accuracy: 0.7778333333333334\n",
      "precision: 0.49331550802139035\n",
      "f1_score: 0.5254538981844072\n",
      "balanced accuracy score 0.7001738372783628\n",
      "max_depth = 6\n",
      "accuracy: 0.7341666666666666\n",
      "precision: 0.42586750788643535\n",
      "f1_score: 0.5038880248833593\n",
      "balanced accuracy score 0.6919614964565501\n",
      "max_depth = 7\n",
      "accuracy: 0.7415\n",
      "precision: 0.43410852713178294\n",
      "f1_score: 0.5027252324462969\n",
      "balanced accuracy score 0.6895279695536145\n"
     ]
    }
   ],
   "source": [
    "#set model parameters\n",
    "clf = DecisionTreeClassifier(max_depth =4 , class_weight = 'balanced')\n",
    "\n",
    "#fit model\n",
    "clf = clf.fit(X_train, y_train)\n",
    "\n",
    "#run prediction\n",
    "prd = clf.predict(X_test)\n",
    "\n",
    "#check accuracy\n",
    "print('max_depth = 4')\n",
    "\n",
    "print('accuracy:', accuracy_score(y_true = y_test, y_pred = prd))\n",
    "\n",
    "#check precision\n",
    "print('precision:', precision_score(y_true = y_test, y_pred = prd))\n",
    "\n",
    "#check f1_score\n",
    "print('f1_score:', f1_score(y_true = y_test, y_pred = prd))\n",
    "\n",
    "#check balanced accuracy score\n",
    "print('balanced accuracy score', balanced_accuracy_score(y_true = y_test, y_pred = prd))\n",
    "\n",
    "#set model parameters\n",
    "clf = DecisionTreeClassifier(max_depth =5 , class_weight = 'balanced')\n",
    "\n",
    "#fit model\n",
    "clf = clf.fit(X_train, y_train)\n",
    "\n",
    "#run prediction\n",
    "prd = clf.predict(X_test)\n",
    "\n",
    "#check accuracy\n",
    "print('max_depth = 5')\n",
    "\n",
    "print('accuracy:', accuracy_score(y_true = y_test, y_pred = prd))\n",
    "\n",
    "#check precision\n",
    "print('precision:', precision_score(y_true = y_test, y_pred = prd))\n",
    "\n",
    "#check f1_score\n",
    "print('f1_score:', f1_score(y_true = y_test, y_pred = prd))\n",
    "\n",
    "#check balanced accuracy score\n",
    "print('balanced accuracy score', balanced_accuracy_score(y_true = y_test, y_pred = prd))\n",
    "\n",
    "#set model parameters with max_depth = 6\n",
    "clf = DecisionTreeClassifier(max_depth =6 , class_weight = 'balanced')\n",
    "\n",
    "#fit model\n",
    "clf = clf.fit(X_train, y_train)\n",
    "\n",
    "#run prediction\n",
    "prd = clf.predict(X_test)\n",
    "\n",
    "#check accuracy\n",
    "\n",
    "print('max_depth = 6')\n",
    "\n",
    "print('accuracy:', accuracy_score(y_true = y_test, y_pred = prd))\n",
    "\n",
    "#check precision\n",
    "print('precision:', precision_score(y_true = y_test, y_pred = prd))\n",
    "\n",
    "#check f1_score\n",
    "print('f1_score:', f1_score(y_true = y_test, y_pred = prd))\n",
    "\n",
    "#check balanced accuracy score\n",
    "print('balanced accuracy score', balanced_accuracy_score(y_true = y_test, y_pred = prd))\n",
    "\n",
    "#set model parameters with max_depth = 7\n",
    "clf = DecisionTreeClassifier(max_depth =7 , class_weight = 'balanced')\n",
    "\n",
    "#fit model\n",
    "clf = clf.fit(X_train, y_train)\n",
    "\n",
    "#run prediction\n",
    "prd = clf.predict(X_test)\n",
    "\n",
    "#check accuracy\n",
    "\n",
    "print('max_depth = 7')\n",
    "\n",
    "print('accuracy:', accuracy_score(y_true = y_test, y_pred = prd))\n",
    "\n",
    "#check precision\n",
    "print('precision:', precision_score(y_true = y_test, y_pred = prd))\n",
    "\n",
    "#check f1_score\n",
    "print('f1_score:', f1_score(y_true = y_test, y_pred = prd))\n",
    "\n",
    "#check balanced accuracy score\n",
    "print('balanced accuracy score', balanced_accuracy_score(y_true = y_test, y_pred = prd))"
   ]
  },
  {
   "cell_type": "markdown",
   "metadata": {},
   "source": [
    "It would appear that a max_depth of 5 gives the highest precision and accuracy, but has a lower f1 score than 4. What happens if we remove the class_weight = balanced prarameter?"
   ]
  },
  {
   "cell_type": "code",
   "execution_count": 335,
   "metadata": {},
   "outputs": [
    {
     "name": "stdout",
     "output_type": "stream",
     "text": [
      "max_depth = 5\n",
      "accuracy: 0.8208333333333333\n",
      "precision: 0.6819571865443425\n",
      "f1_score: 0.4534824605998983\n",
      "balanced accuracy score 0.6476510274322635\n"
     ]
    }
   ],
   "source": [
    "#set model parameters\n",
    "clf = DecisionTreeClassifier(max_depth =5)\n",
    "\n",
    "#fit model\n",
    "clf = clf.fit(X_train, y_train)\n",
    "\n",
    "#run prediction\n",
    "prd = clf.predict(X_test)\n",
    "\n",
    "#check accuracy\n",
    "print('max_depth = 5')\n",
    "\n",
    "print('accuracy:', accuracy_score(y_true = y_test, y_pred = prd))\n",
    "\n",
    "#check precision\n",
    "print('precision:', precision_score(y_true = y_test, y_pred = prd))\n",
    "\n",
    "#check f1_score\n",
    "print('f1_score:', f1_score(y_true = y_test, y_pred = prd))\n",
    "\n",
    "#check balanced accuracy score\n",
    "print('balanced accuracy score', balanced_accuracy_score(y_true = y_test, y_pred = prd))"
   ]
  },
  {
   "cell_type": "markdown",
   "metadata": {},
   "source": [
    "Well, this is interesting. Now our model is quite a bit more accurate and precise, but both the f1 score and the balanced accuracy score decreased significantly. This is a good chance to discuss the different metrics for measuring our model."
   ]
  },
  {
   "cell_type": "markdown",
   "metadata": {},
   "source": [
    "## Scikit Learn Metrics"
   ]
  },
  {
   "cell_type": "markdown",
   "metadata": {},
   "source": [
    "There are several different metric functions for classification in the scikit learn package. Let's start with some simple ones.\n",
    "\n",
    "<b>Accuracy Score</b>: Returns the fraction of correctly classified samples <i>[y_pred / y_true]</i>. \n",
    "\n",
    "<b>Precision Score</b>: Returns the ratio of true positives divided by the sum of true positives and false positives <i>[tp / (tp + fp)]</i>.\n",
    "\n",
    "<b>Recall Score</b>: Returns the ratio of true positives divided by the sum of the true positives plus the false negatives, which can be interpreted as the ability of the model to find all the positive samples <i>[tp / (tp + fn)]</i>.\n",
    "\n",
    "<b>F1 Score</b>: Returns the weighted average of precision and recall <i>[2 * (precision * recall) / (precision + recall)]</i>.\n",
    "\n",
    "<b>Balanced Accuracy Score</b>: Returns the balanced accuracy, defined as the average of recall for each class. "
   ]
  },
  {
   "cell_type": "markdown",
   "metadata": {},
   "source": [
    "Let's take a look at the confusion matrix for our model"
   ]
  },
  {
   "cell_type": "code",
   "execution_count": 342,
   "metadata": {},
   "outputs": [
    {
     "data": {
      "text/html": [
       "<div>\n",
       "<style scoped>\n",
       "    .dataframe tbody tr th:only-of-type {\n",
       "        vertical-align: middle;\n",
       "    }\n",
       "\n",
       "    .dataframe tbody tr th {\n",
       "        vertical-align: top;\n",
       "    }\n",
       "\n",
       "    .dataframe thead th {\n",
       "        text-align: right;\n",
       "    }\n",
       "</style>\n",
       "<table border=\"1\" class=\"dataframe\">\n",
       "  <thead>\n",
       "    <tr style=\"text-align: right;\">\n",
       "      <th></th>\n",
       "      <th>0</th>\n",
       "      <th>1</th>\n",
       "    </tr>\n",
       "  </thead>\n",
       "  <tbody>\n",
       "    <tr>\n",
       "      <th>0</th>\n",
       "      <td>3665</td>\n",
       "      <td>1022</td>\n",
       "    </tr>\n",
       "    <tr>\n",
       "      <th>1</th>\n",
       "      <td>529</td>\n",
       "      <td>784</td>\n",
       "    </tr>\n",
       "  </tbody>\n",
       "</table>\n",
       "</div>"
      ],
      "text/plain": [
       "      0     1\n",
       "0  3665  1022\n",
       "1   529   784"
      ]
     },
     "execution_count": 342,
     "metadata": {},
     "output_type": "execute_result"
    }
   ],
   "source": [
    "#import confusion_matrix\n",
    "from sklearn.metrics import confusion_matrix\n",
    "\n",
    "pd.DataFrame(confusion_matrix(y_true = y_test, y_pred = prd))"
   ]
  },
  {
   "cell_type": "markdown",
   "metadata": {},
   "source": [
    "Since our model is binary (defualt/no default), the confusion matrix can be inerpreted as follows:\n",
    "\n",
    "(0,0): True negatives\n",
    "\n",
    "(1,0): False negatives\n",
    "\n",
    "(1,1): True positives\n",
    "\n",
    "(0,1): False positives\n",
    "\n",
    "Seems like we have a lot of false positives (classified as default but actually not). "
   ]
  },
  {
   "cell_type": "markdown",
   "metadata": {},
   "source": [
    "Just out of curiousity, let's see what the default percentage of our model's prediction is..."
   ]
  },
  {
   "cell_type": "code",
   "execution_count": 343,
   "metadata": {},
   "outputs": [
    {
     "name": "stdout",
     "output_type": "stream",
     "text": [
      "0.301\n"
     ]
    }
   ],
   "source": [
    "print(np.mean(prd))"
   ]
  },
  {
   "cell_type": "markdown",
   "metadata": {},
   "source": [
    "hmmm...30% is quite a bit higher than the real average. Anyway, let's move on to a different model."
   ]
  },
  {
   "cell_type": "markdown",
   "metadata": {},
   "source": []
  }
 ],
 "metadata": {
  "kernelspec": {
   "display_name": "Python 3",
   "language": "python",
   "name": "python3"
  },
  "language_info": {
   "codemirror_mode": {
    "name": "ipython",
    "version": 3
   },
   "file_extension": ".py",
   "mimetype": "text/x-python",
   "name": "python",
   "nbconvert_exporter": "python",
   "pygments_lexer": "ipython3",
   "version": "3.6.7"
  }
 },
 "nbformat": 4,
 "nbformat_minor": 2
}
