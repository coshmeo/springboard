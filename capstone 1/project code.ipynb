{
 "cells": [
  {
   "cell_type": "markdown",
   "metadata": {},
   "source": [
    "# Capstone 1 Report"
   ]
  },
  {
   "cell_type": "markdown",
   "metadata": {},
   "source": [
    "## Preliminaries"
   ]
  },
  {
   "cell_type": "markdown",
   "metadata": {},
   "source": [
    "### Import packages"
   ]
  },
  {
   "cell_type": "code",
   "execution_count": 97,
   "metadata": {},
   "outputs": [],
   "source": [
    "import numpy as np\n",
    "import pandas as pd\n",
    "import matplotlib.pyplot as plt\n",
    "import seaborn as sns\n",
    "from scipy import stats"
   ]
  },
  {
   "cell_type": "markdown",
   "metadata": {},
   "source": [
    "### Load dataset"
   ]
  },
  {
   "cell_type": "code",
   "execution_count": 169,
   "metadata": {},
   "outputs": [],
   "source": [
    "df = pd.read_csv('UCI_Credit_Card.csv')"
   ]
  },
  {
   "cell_type": "markdown",
   "metadata": {},
   "source": [
    "## Data Wrangling"
   ]
  },
  {
   "cell_type": "markdown",
   "metadata": {},
   "source": [
    "### SEX\n",
    "Change values of sex column to 0 & 1"
   ]
  },
  {
   "cell_type": "code",
   "execution_count": 170,
   "metadata": {},
   "outputs": [],
   "source": [
    "df.SEX.replace({1:0, 2:1}, inplace=True)"
   ]
  },
  {
   "cell_type": "markdown",
   "metadata": {},
   "source": [
    "### EDUCATION\n",
    "Change unlabeled data in education to 'Other'"
   ]
  },
  {
   "cell_type": "code",
   "execution_count": 171,
   "metadata": {},
   "outputs": [],
   "source": [
    "fil = (df.EDUCATION == 5) | (df.EDUCATION == 6) | (df.EDUCATION == 0)\n",
    "df.loc[fil, 'EDUCATION'] = 4"
   ]
  },
  {
   "cell_type": "markdown",
   "metadata": {},
   "source": [
    "### MARRIAGE\n",
    "Change unlabeled data in marriage to 'Other'"
   ]
  },
  {
   "cell_type": "code",
   "execution_count": 172,
   "metadata": {},
   "outputs": [],
   "source": [
    "fil = (df.MARRIAGE == 0)\n",
    "df.loc[fil, 'MARRIAGE'] = 3"
   ]
  },
  {
   "cell_type": "markdown",
   "metadata": {},
   "source": [
    "### PAY_0 - PAY_6\n",
    "Change pay status columns to 0 (payment) or 1 (no payment)"
   ]
  },
  {
   "cell_type": "code",
   "execution_count": 173,
   "metadata": {},
   "outputs": [],
   "source": [
    "#Repayment status, 9/2005\n",
    "fil = (df.PAY_0 > 0) \n",
    "df.loc[fil, 'PAY_0'] = 1\n",
    "\n",
    "fil = (df.PAY_0 <= 0) \n",
    "df.loc[fil, 'PAY_0'] = 0\n",
    "\n",
    "#Repayment status, 8/2005\n",
    "fil = (df.PAY_2 > 0)\n",
    "df.loc[fil, 'PAY_2'] = 1\n",
    "\n",
    "fil = (df.PAY_2 <= 0)\n",
    "df.loc[fil, 'PAY_2'] = 0\n",
    "\n",
    "#Repayment status, 7/2005\n",
    "fil = (df.PAY_3 > 0)\n",
    "df.loc[fil, 'PAY_3'] = 1\n",
    "\n",
    "fil = (df.PAY_3 <= 0)\n",
    "df.loc[fil, 'PAY_3'] = 0\n",
    "\n",
    "#Repayment status, 6/2005\n",
    "fil = (df.PAY_4 > 0)\n",
    "df.loc[fil, 'PAY_4'] = 1\n",
    "\n",
    "fil = (df.PAY_4 <= 0)\n",
    "df.loc[fil, 'PAY_4'] = 0\n",
    "\n",
    "#Repayment status, 5/2005\n",
    "fil = (df.PAY_5 > 0)\n",
    "df.loc[fil, 'PAY_5'] = 1\n",
    "\n",
    "fil = (df.PAY_5 <= 0)\n",
    "df.loc[fil, 'PAY_5'] = 0\n",
    "\n",
    "#Repayment status, 4/2005\n",
    "fil = (df.PAY_6 > 0)\n",
    "df.loc[fil, 'PAY_6'] = 1\n",
    "\n",
    "fil = (df.PAY_6 <= 0)\n",
    "df.loc[fil, 'PAY_6'] = 0"
   ]
  },
  {
   "cell_type": "markdown",
   "metadata": {},
   "source": [
    "## Exploratory Data Analysis"
   ]
  },
  {
   "cell_type": "markdown",
   "metadata": {},
   "source": [
    "### Default data"
   ]
  },
  {
   "cell_type": "code",
   "execution_count": 103,
   "metadata": {},
   "outputs": [
    {
     "data": {
      "image/png": "[encoded data removed]",
      "text/plain": [
       "<Figure size 432x288 with 1 Axes>"
      ]
     },
     "metadata": {
      "needs_background": "light"
     },
     "output_type": "display_data"
    },
    {
     "name": "stdout",
     "output_type": "stream",
     "text": [
      "Percentage of total defaults\n",
      "0.2212\n"
     ]
    }
   ],
   "source": [
    "#set the number of ticks based on the number of different values in the series\n",
    "x=np.arange(len(df['default.payment.next.month'].unique()))\n",
    "\n",
    "#Describe default.payment.next.month\n",
    "plt.bar(x,df['default.payment.next.month'].value_counts().sort_index())\n",
    "plt.ylabel('Count')\n",
    "plt.xticks(x,('No Default','Default'),rotation=45)\n",
    "plt.title('Default Data')\n",
    "plt.show()\n",
    "\n",
    "#show statistics\n",
    "print('Percentage of total defaults')\n",
    "print(df['default.payment.next.month'].mean())"
   ]
  },
  {
   "cell_type": "markdown",
   "metadata": {},
   "source": [
    "### Balance limit data"
   ]
  },
  {
   "cell_type": "code",
   "execution_count": 175,
   "metadata": {},
   "outputs": [
    {
     "data": {
      "image/png": "[encoded data removed]",
      "text/plain": [
       "<Figure size 432x288 with 1 Axes>"
      ]
     },
     "metadata": {
      "needs_background": "light"
     },
     "output_type": "display_data"
    },
    {
     "data": {
      "text/html": [
       "<div>\n",
       "<style scoped>\n",
       "    .dataframe tbody tr th:only-of-type {\n",
       "        vertical-align: middle;\n",
       "    }\n",
       "\n",
       "    .dataframe tbody tr th {\n",
       "        vertical-align: top;\n",
       "    }\n",
       "\n",
       "    .dataframe thead th {\n",
       "        text-align: right;\n",
       "    }\n",
       "</style>\n",
       "<table border=\"1\" class=\"dataframe\">\n",
       "  <thead>\n",
       "    <tr style=\"text-align: right;\">\n",
       "      <th></th>\n",
       "      <th>count</th>\n",
       "      <th>mean</th>\n",
       "      <th>std</th>\n",
       "      <th>min</th>\n",
       "      <th>25%</th>\n",
       "      <th>50%</th>\n",
       "      <th>75%</th>\n",
       "      <th>max</th>\n",
       "    </tr>\n",
       "    <tr>\n",
       "      <th>default.payment.next.month</th>\n",
       "      <th></th>\n",
       "      <th></th>\n",
       "      <th></th>\n",
       "      <th></th>\n",
       "      <th></th>\n",
       "      <th></th>\n",
       "      <th></th>\n",
       "      <th></th>\n",
       "    </tr>\n",
       "  </thead>\n",
       "  <tbody>\n",
       "    <tr>\n",
       "      <th>0</th>\n",
       "      <td>23364.0</td>\n",
       "      <td>178099.726074</td>\n",
       "      <td>131628.359660</td>\n",
       "      <td>10000.0</td>\n",
       "      <td>70000.0</td>\n",
       "      <td>150000.0</td>\n",
       "      <td>250000.0</td>\n",
       "      <td>1000000.0</td>\n",
       "    </tr>\n",
       "    <tr>\n",
       "      <th>1</th>\n",
       "      <td>6636.0</td>\n",
       "      <td>130109.656420</td>\n",
       "      <td>115378.540571</td>\n",
       "      <td>10000.0</td>\n",
       "      <td>50000.0</td>\n",
       "      <td>90000.0</td>\n",
       "      <td>200000.0</td>\n",
       "      <td>740000.0</td>\n",
       "    </tr>\n",
       "  </tbody>\n",
       "</table>\n",
       "</div>"
      ],
      "text/plain": [
       "                              count           mean            std      min  \\\n",
       "default.payment.next.month                                                   \n",
       "0                           23364.0  178099.726074  131628.359660  10000.0   \n",
       "1                            6636.0  130109.656420  115378.540571  10000.0   \n",
       "\n",
       "                                25%       50%       75%        max  \n",
       "default.payment.next.month                                          \n",
       "0                           70000.0  150000.0  250000.0  1000000.0  \n",
       "1                           50000.0   90000.0  200000.0   740000.0  "
      ]
     },
     "execution_count": 175,
     "metadata": {},
     "output_type": "execute_result"
    }
   ],
   "source": [
    "#define variables for default & no default\n",
    "default_limit_bal = df[df['default.payment.next.month'] == 1]['LIMIT_BAL']\n",
    "no_default_limit_bal = df[df['default.payment.next.month'] == 0]['LIMIT_BAL']\n",
    "\n",
    "#create plot\n",
    "plt.hist([default_limit_bal, no_default_limit_bal], bins = 50, color = ['red', 'green'],\n",
    "         alpha = 0.6)\n",
    "\n",
    "#add lables and change scale\n",
    "plt.yscale('log')\n",
    "plt.ylabel('Count')\n",
    "plt.xlabel('Credit Limit')\n",
    "plt.title('Credit Limit Data')\n",
    "plt.show()\n",
    "\n",
    "#show summary statistics\n",
    "df.groupby('default.payment.next.month')['LIMIT_BAL'].describe()"
   ]
  },
  {
   "cell_type": "markdown",
   "metadata": {},
   "source": [
    "### Sex data"
   ]
  },
  {
   "cell_type": "code",
   "execution_count": 180,
   "metadata": {},
   "outputs": [
    {
     "data": {
      "image/png": "[encoded data removed]",
      "text/plain": [
       "<Figure size 432x288 with 1 Axes>"
      ]
     },
     "metadata": {
      "needs_background": "light"
     },
     "output_type": "display_data"
    },
    {
     "data": {
      "image/png": "[encoded data removed]",
      "text/plain": [
       "<Figure size 432x288 with 1 Axes>"
      ]
     },
     "metadata": {
      "needs_background": "light"
     },
     "output_type": "display_data"
    }
   ],
   "source": [
    "#plot counts of male & female clients\n",
    "#set the number of ticks based on the number of different values in the series\n",
    "x=np.arange(len(df['SEX'].unique()))\n",
    "\n",
    "#Describe SEX using a bar plot to count the number of males and females\n",
    "plt.bar(x,df['SEX'].value_counts().sort_index())\n",
    "\n",
    "#label the axes and add title\n",
    "plt.ylabel('Count')\n",
    "plt.xticks(x,('Male','Female'))\n",
    "plt.title('Sex Distribution')\n",
    "\n",
    "#show plot\n",
    "plt.show()\n",
    "\n",
    "#plot default by sex\n",
    "#set the number of ticks based on the number of different values in the series\n",
    "x=np.arange(len(df['SEX'].unique()))\n",
    "\n",
    "#calculate the default mean for each sex and store in a variable\n",
    "defaults_by_sex=df.groupby(['SEX'])[['default.payment.next.month']].mean()\n",
    "\n",
    "#Create the barplot\n",
    "plt.bar(x,defaults_by_sex['default.payment.next.month'])\n",
    "\n",
    "#label the axes and add title\n",
    "plt.ylabel('Percent Default')\n",
    "plt.xticks(x,('Male','Female'))\n",
    "plt.title('Percent Default by Sex')\n",
    "\n",
    "#show plot\n",
    "plt.show()"
   ]
  },
  {
   "cell_type": "markdown",
   "metadata": {},
   "source": [
    "### Education data"
   ]
  },
  {
   "cell_type": "code",
   "execution_count": 106,
   "metadata": {},
   "outputs": [
    {
     "data": {
      "image/png": "[encoded data removed]",
      "text/plain": [
       "<Figure size 432x288 with 1 Axes>"
      ]
     },
     "metadata": {
      "needs_background": "light"
     },
     "output_type": "display_data"
    }
   ],
   "source": [
    "#set the number of ticks based on the number of different values in the series\n",
    "x=np.arange(len(df['EDUCATION'].unique()))\n",
    "\n",
    "#count the number of defaults for each level of education and store in a variable\n",
    "defaults_by_education=df.groupby(['EDUCATION'])[['default.payment.next.month']].mean()\n",
    "\n",
    "#Make bar plot of default mean for each class of education\n",
    "plt.bar(x,defaults_by_education['default.payment.next.month'])\n",
    "\n",
    "#label axes and add title\n",
    "plt.ylabel('Percent Default')\n",
    "plt.xticks(x,('Graduate School','University','High School','Other'),rotation=45)\n",
    "plt.title('Percent Default by Education')\n",
    "\n",
    "#show plot\n",
    "plt.show()"
   ]
  },
  {
   "cell_type": "markdown",
   "metadata": {},
   "source": [
    "### Marriage data"
   ]
  },
  {
   "cell_type": "code",
   "execution_count": 107,
   "metadata": {},
   "outputs": [
    {
     "data": {
      "image/png": "[encoded data removed]",
      "text/plain": [
       "<Figure size 432x288 with 1 Axes>"
      ]
     },
     "metadata": {
      "needs_background": "light"
     },
     "output_type": "display_data"
    }
   ],
   "source": [
    "#set the number of ticks based on the number of different values in the series\n",
    "x=np.arange(len(df['MARRIAGE'].unique()))\n",
    "\n",
    "#count the number of defaults for each level of education and store in a variable\n",
    "average_defaults_by_marriage=df.groupby(['MARRIAGE'])[['default.payment.next.month']].mean()\n",
    "\n",
    "#make barplot of default mean by marriage\n",
    "plt.bar(x,average_defaults_by_marriage['default.payment.next.month'])\n",
    "\n",
    "#add labels and title\n",
    "plt.ylabel('Count')\n",
    "plt.xticks(x,('Married','Single','Other'))\n",
    "plt.title('Percent Default by Marriage')\n",
    "\n",
    "#show plot\n",
    "plt.show()"
   ]
  },
  {
   "cell_type": "markdown",
   "metadata": {},
   "source": [
    "### Age data"
   ]
  },
  {
   "cell_type": "code",
   "execution_count": 108,
   "metadata": {},
   "outputs": [
    {
     "data": {
      "image/png": "[encoded data removed]",
      "text/plain": [
       "<Figure size 432x288 with 1 Axes>"
      ]
     },
     "metadata": {
      "needs_background": "light"
     },
     "output_type": "display_data"
    },
    {
     "data": {
      "image/png": "[encoded data removed]",
      "text/plain": [
       "<Figure size 432x288 with 1 Axes>"
      ]
     },
     "metadata": {
      "needs_background": "light"
     },
     "output_type": "display_data"
    }
   ],
   "source": [
    "#define variables for default & no default\n",
    "default_age = df[df['default.payment.next.month'] == 1]['AGE']\n",
    "no_default_age = df[df['default.payment.next.month'] == 0]['AGE']\n",
    "\n",
    "#Make historgram of age\n",
    "plt.hist([default_age, no_default_age], bins = 20, color = ['red', 'green'],\n",
    "        alpha = 0.6)\n",
    "\n",
    "#add labels and title\n",
    "plt.xlabel('Age')\n",
    "plt.ylabel('Count')\n",
    "plt.title('Default by Age')\n",
    "\n",
    "#show plot\n",
    "plt.show()\n",
    "\n",
    "#mean default by age\n",
    "default_by_age=pd.DataFrame(df.groupby(['AGE'])['default.payment.next.month'].mean())\n",
    "default_by_age.plot(title='average default by age', color = 'red', alpha = 0.6)\n",
    "plt.ylabel('Mean Default')\n",
    "plt.xlabel('Age')\n",
    "plt.title('Percent Default by Age')\n",
    "plt.show()"
   ]
  },
  {
   "cell_type": "markdown",
   "metadata": {},
   "source": [
    "### Pay data (September, 2005)\n",
    "#### Pay Status"
   ]
  },
  {
   "cell_type": "code",
   "execution_count": 182,
   "metadata": {},
   "outputs": [
    {
     "data": {
      "image/png": "[encoded data removed]",
      "text/plain": [
       "<Figure size 432x288 with 1 Axes>"
      ]
     },
     "metadata": {
      "needs_background": "light"
     },
     "output_type": "display_data"
    }
   ],
   "source": [
    "#set the number of ticks based on the number of different values in the series\n",
    "x=np.arange(len(df['PAY_0'].unique()))\n",
    "\n",
    "#find percentage of defaults for each repayment status and store in a variable\n",
    "defaults_by_pay_status1 = df.groupby(['PAY_0'])[['default.payment.next.month']].mean()\n",
    "\n",
    "#make bar plot of default mean of each value count of repayment status for 9/2005\n",
    "plt.bar(x,defaults_by_pay_status1['default.payment.next.month'])\n",
    "\n",
    "#add labels and title\n",
    "plt.ylabel('Percent Default')\n",
    "plt.xticks(x,('Payment','No Payment'))\n",
    "plt.title('Percent Default by Repayment status in September, 2005')\n",
    "\n",
    "#show plot\n",
    "plt.show()"
   ]
  },
  {
   "cell_type": "markdown",
   "metadata": {},
   "source": [
    "#### Bill Amount"
   ]
  },
  {
   "cell_type": "code",
   "execution_count": 110,
   "metadata": {},
   "outputs": [
    {
     "data": {
      "image/png": "[encoded data removed]",
      "text/plain": [
       "<Figure size 432x288 with 1 Axes>"
      ]
     },
     "metadata": {
      "needs_background": "light"
     },
     "output_type": "display_data"
    }
   ],
   "source": [
    "#define variables for default & no default\n",
    "default_bill_amt1 = df[df['default.payment.next.month'] == 1]['BILL_AMT1']\n",
    "no_default_bill_amt1 = df[df['default.payment.next.month'] == 0]['BILL_AMT1']\n",
    "\n",
    "#make histogram of bill amounts for 9/2005\n",
    "plt.hist([default_bill_amt1, no_default_bill_amt1],bins=20, color = ['red', 'green'],\n",
    "        alpha = 0.6)\n",
    "\n",
    "#set y scale to log to better display values\n",
    "plt.yscale('log')\n",
    "\n",
    "#add lables and title\n",
    "plt.xlabel('Bill Amount')\n",
    "plt.ylabel('Count')\n",
    "plt.title('Default by Bill Amount, September, 2005')\n",
    "\n",
    "#show plot\n",
    "plt.show()"
   ]
  },
  {
   "cell_type": "markdown",
   "metadata": {},
   "source": [
    "#### Pay Amount"
   ]
  },
  {
   "cell_type": "code",
   "execution_count": 181,
   "metadata": {},
   "outputs": [
    {
     "data": {
      "image/png": "[encoded data removed]",
      "text/plain": [
       "<Figure size 432x288 with 1 Axes>"
      ]
     },
     "metadata": {
      "needs_background": "light"
     },
     "output_type": "display_data"
    }
   ],
   "source": [
    "#define variables for default & no default\n",
    "default_pay_amt1 = df[df['default.payment.next.month'] == 1]['PAY_AMT1']\n",
    "no_default_pay_amt1 = df[df['default.payment.next.month'] == 0]['PAY_AMT1']\n",
    "\n",
    "#make histogram of previous month pay amounts for 9/2005\n",
    "plt.hist([default_pay_amt1, no_default_pay_amt1],bins=20, color = ['red', 'green'],\n",
    "        alpha = 0.6)\n",
    "\n",
    "#set y scale to log for visual clarity\n",
    "plt.yscale('log')\n",
    "\n",
    "#add labels and title\n",
    "plt.xlabel('Pay Amount')\n",
    "plt.ylabel('Count')\n",
    "plt.title('Default by Previous Month Pay Amount, September, 2005')\n",
    "\n",
    "#show plot\n",
    "plt.show()"
   ]
  },
  {
   "cell_type": "markdown",
   "metadata": {},
   "source": [
    "### Pay data (August, 2005)\n",
    "#### Pay Status"
   ]
  },
  {
   "cell_type": "code",
   "execution_count": 183,
   "metadata": {},
   "outputs": [
    {
     "data": {
      "image/png": "[encoded data removed]",
      "text/plain": [
       "<Figure size 432x288 with 1 Axes>"
      ]
     },
     "metadata": {
      "needs_background": "light"
     },
     "output_type": "display_data"
    }
   ],
   "source": [
    "#set the number of ticks based on the number of different values in the series\n",
    "x=np.arange(len(df['PAY_2'].unique()))\n",
    "\n",
    "#find percentage of defaults for each repayment status and store in a variable\n",
    "defaults_by_pay_status2=df.groupby(['PAY_2'])[['default.payment.next.month']].mean()\n",
    "\n",
    "#make bar plot of default mean of each value count of repayment status for 8/2005\n",
    "plt.bar(x,defaults_by_pay_status2['default.payment.next.month'])\n",
    "\n",
    "#add labels and title\n",
    "plt.ylabel('Percent Default')\n",
    "plt.xticks(x,('Payment','No Payment'))\n",
    "plt.title('Percent Default by Repayment status in August, 2005')\n",
    "\n",
    "#show plot\n",
    "plt.show()"
   ]
  },
  {
   "cell_type": "markdown",
   "metadata": {},
   "source": [
    "#### Bill Amount"
   ]
  },
  {
   "cell_type": "code",
   "execution_count": 113,
   "metadata": {},
   "outputs": [
    {
     "data": {
      "image/png": "[encoded data removed]",
      "text/plain": [
       "<Figure size 432x288 with 1 Axes>"
      ]
     },
     "metadata": {
      "needs_background": "light"
     },
     "output_type": "display_data"
    }
   ],
   "source": [
    "#define variables for default & no default\n",
    "default_bill_amt2 = df[df['default.payment.next.month'] == 1]['BILL_AMT2']\n",
    "no_default_bill_amt2 = df[df['default.payment.next.month'] == 0]['BILL_AMT2']\n",
    "\n",
    "#make histogram of bill amounts for 8/2005\n",
    "plt.hist([default_bill_amt2, no_default_bill_amt2],bins=20, color = ['red', 'green'],\n",
    "        alpha = 0.6)\n",
    "\n",
    "#set y scale to log to better display values\n",
    "plt.yscale('log')\n",
    "\n",
    "#add lables and title\n",
    "plt.xlabel('Bill Amount')\n",
    "plt.ylabel('Count')\n",
    "plt.title('Default by Bill Amount, August, 2005')\n",
    "\n",
    "#show plot\n",
    "plt.show()"
   ]
  },
  {
   "cell_type": "markdown",
   "metadata": {},
   "source": [
    "#### Pay Amount"
   ]
  },
  {
   "cell_type": "code",
   "execution_count": 184,
   "metadata": {},
   "outputs": [
    {
     "data": {
      "image/png": "[encoded data removed]",
      "text/plain": [
       "<Figure size 432x288 with 1 Axes>"
      ]
     },
     "metadata": {
      "needs_background": "light"
     },
     "output_type": "display_data"
    }
   ],
   "source": [
    "#define variables for default & no default\n",
    "default_pay_amt2 = df[df['default.payment.next.month'] == 1]['PAY_AMT2']\n",
    "no_default_pay_amt2 = df[df['default.payment.next.month'] == 0]['PAY_AMT2']\n",
    "\n",
    "#make histogram of previous month pay amounts for 8/2005\n",
    "plt.hist([default_pay_amt2, no_default_pay_amt2],bins=20, color = ['red', 'green'],\n",
    "        alpha = 0.6)\n",
    "\n",
    "#set y scale to log for visual clarity\n",
    "plt.yscale('log')\n",
    "\n",
    "#add labels and title\n",
    "plt.xlabel('Pay Amount')\n",
    "plt.ylabel('Count')\n",
    "plt.title('Default by Previous Month Pay Amount, August, 2005')\n",
    "\n",
    "#show plot\n",
    "plt.show()"
   ]
  },
  {
   "cell_type": "markdown",
   "metadata": {},
   "source": [
    "### Pay data (July, 2005)\n",
    "#### Pay Status"
   ]
  },
  {
   "cell_type": "code",
   "execution_count": 185,
   "metadata": {},
   "outputs": [
    {
     "data": {
      "image/png": "[encoded data removed]",
      "text/plain": [
       "<Figure size 432x288 with 1 Axes>"
      ]
     },
     "metadata": {
      "needs_background": "light"
     },
     "output_type": "display_data"
    }
   ],
   "source": [
    "#set the number of ticks based on the number of different values in the series\n",
    "x=np.arange(len(df['PAY_3'].unique()))\n",
    "\n",
    "#find percentage of defaults for each repayment status and store in a variable\n",
    "defaults_by_pay_status3=df.groupby(['PAY_3'])[['default.payment.next.month']].mean()\n",
    "\n",
    "#make bar plot of default mean of each value count of repayment status for 7/2005\n",
    "plt.bar(x,defaults_by_pay_status3['default.payment.next.month'])\n",
    "\n",
    "#add labels and title\n",
    "plt.ylabel('Percent Default')\n",
    "plt.xticks(x,('Payment','No Payment'))\n",
    "plt.title('Percent Default by Repayment status in July, 2005')\n",
    "\n",
    "#show plot\n",
    "plt.show()"
   ]
  },
  {
   "cell_type": "markdown",
   "metadata": {},
   "source": [
    "#### Bill Amount"
   ]
  },
  {
   "cell_type": "code",
   "execution_count": 116,
   "metadata": {},
   "outputs": [
    {
     "data": {
      "image/png": "[encoded data removed]",
      "text/plain": [
       "<Figure size 432x288 with 1 Axes>"
      ]
     },
     "metadata": {
      "needs_background": "light"
     },
     "output_type": "display_data"
    }
   ],
   "source": [
    "#define variables for default & no default\n",
    "default_bill_amt3 = df[df['default.payment.next.month'] == 1]['BILL_AMT3']\n",
    "no_default_bill_amt3 = df[df['default.payment.next.month'] == 0]['BILL_AMT3']\n",
    "\n",
    "#make histogram of bill amounts for 7/2005\n",
    "plt.hist([default_bill_amt3, no_default_bill_amt3],bins=20, color = ['red', 'green'],\n",
    "        alpha = 0.6)\n",
    "\n",
    "#set y scale to log to better display values\n",
    "plt.yscale('log')\n",
    "\n",
    "#add lables and title\n",
    "plt.xlabel('Bill Amount')\n",
    "plt.ylabel('Count')\n",
    "plt.title('Default by Bill Amount, July, 2005')\n",
    "\n",
    "#show plot\n",
    "plt.show()"
   ]
  },
  {
   "cell_type": "markdown",
   "metadata": {},
   "source": [
    "#### Pay Amount"
   ]
  },
  {
   "cell_type": "code",
   "execution_count": 186,
   "metadata": {},
   "outputs": [
    {
     "data": {
      "image/png": "[encoded data removed]",
      "text/plain": [
       "<Figure size 432x288 with 1 Axes>"
      ]
     },
     "metadata": {
      "needs_background": "light"
     },
     "output_type": "display_data"
    }
   ],
   "source": [
    "#define variables for default & no default\n",
    "default_pay_amt3 = df[df['default.payment.next.month'] == 1]['PAY_AMT3']\n",
    "no_default_pay_amt3 = df[df['default.payment.next.month'] == 0]['PAY_AMT3']\n",
    "\n",
    "#make histogram of previous month pay amounts for 7/2005\n",
    "plt.hist([default_pay_amt3, no_default_pay_amt3],bins=20, color = ['red', 'green'],\n",
    "        alpha = 0.6)\n",
    "\n",
    "#set y scale to log for visual clarity\n",
    "plt.yscale('log')\n",
    "\n",
    "#add labels and title\n",
    "plt.xlabel('Pay Amount')\n",
    "plt.ylabel('Count')\n",
    "plt.title('Default by Previous Month Pay Amount, July, 2005')\n",
    "\n",
    "#show plot\n",
    "plt.show()"
   ]
  },
  {
   "cell_type": "markdown",
   "metadata": {},
   "source": [
    "### Pay data (June, 2005)\n",
    "#### Pay Status"
   ]
  },
  {
   "cell_type": "code",
   "execution_count": 187,
   "metadata": {},
   "outputs": [
    {
     "data": {
      "image/png": "[encoded data removed]",
      "text/plain": [
       "<Figure size 432x288 with 1 Axes>"
      ]
     },
     "metadata": {
      "needs_background": "light"
     },
     "output_type": "display_data"
    }
   ],
   "source": [
    "#set the number of ticks based on the number of different values in the series\n",
    "x=np.arange(len(df['PAY_4'].unique()))\n",
    "\n",
    "#find percentage of defaults for each repayment status and store in a variable\n",
    "defaults_by_pay_status4=df.groupby(['PAY_4'])[['default.payment.next.month']].mean()\n",
    "\n",
    "#make bar plot of default mean of each value count of repayment status for 6/2005\n",
    "plt.bar(x,defaults_by_pay_status4['default.payment.next.month'])\n",
    "\n",
    "#add labels and title\n",
    "plt.ylabel('Percent Default')\n",
    "plt.xticks(x,('Payment','No Payment'))\n",
    "plt.title('Percent Default by Repayment status in June, 2005')\n",
    "\n",
    "#show plot\n",
    "plt.show()"
   ]
  },
  {
   "cell_type": "markdown",
   "metadata": {},
   "source": [
    "#### Bill Amount"
   ]
  },
  {
   "cell_type": "code",
   "execution_count": 119,
   "metadata": {},
   "outputs": [
    {
     "data": {
      "image/png": "[encoded data removed]",
      "text/plain": [
       "<Figure size 432x288 with 1 Axes>"
      ]
     },
     "metadata": {
      "needs_background": "light"
     },
     "output_type": "display_data"
    }
   ],
   "source": [
    "#define variables for default & no default\n",
    "default_bill_amt4 = df[df['default.payment.next.month'] == 1]['BILL_AMT4']\n",
    "no_default_bill_amt4 = df[df['default.payment.next.month'] == 0]['BILL_AMT4']\n",
    "\n",
    "#make histogram of bill amounts for 6/2005\n",
    "plt.hist([default_bill_amt4, no_default_bill_amt4],bins=20, color = ['red', 'green'],\n",
    "        alpha = 0.6)\n",
    "\n",
    "#set y scale to log to better display values\n",
    "plt.yscale('log')\n",
    "\n",
    "#add lables and title\n",
    "plt.xlabel('Bill Amount')\n",
    "plt.ylabel('Count')\n",
    "plt.title('Default by Bill Amount, June, 2005')\n",
    "\n",
    "#show plot\n",
    "plt.show()"
   ]
  },
  {
   "cell_type": "markdown",
   "metadata": {},
   "source": [
    "#### Pay Amount"
   ]
  },
  {
   "cell_type": "code",
   "execution_count": 188,
   "metadata": {},
   "outputs": [
    {
     "data": {
      "image/png": "[encoded data removed]",
      "text/plain": [
       "<Figure size 432x288 with 1 Axes>"
      ]
     },
     "metadata": {
      "needs_background": "light"
     },
     "output_type": "display_data"
    }
   ],
   "source": [
    "#define variables for default & no default\n",
    "default_pay_amt4 = df[df['default.payment.next.month'] == 1]['PAY_AMT4']\n",
    "no_default_pay_amt4 = df[df['default.payment.next.month'] == 0]['PAY_AMT4']\n",
    "\n",
    "#make histogram of previous month pay amounts for 6/2005\n",
    "plt.hist([default_pay_amt4, no_default_pay_amt4],bins=20, color = ['red', 'green'],\n",
    "        alpha = 0.6)\n",
    "\n",
    "#set y scale to log for visual clarity\n",
    "plt.yscale('log')\n",
    "\n",
    "#add labels and title\n",
    "plt.xlabel('Pay Amount')\n",
    "plt.ylabel('Count')\n",
    "plt.title('Default by Previous Month Pay Amount, June, 2005')\n",
    "\n",
    "#show plot\n",
    "plt.show()"
   ]
  },
  {
   "cell_type": "markdown",
   "metadata": {},
   "source": [
    "### Pay data (May, 2005)\n",
    "#### Pay Status"
   ]
  },
  {
   "cell_type": "code",
   "execution_count": 189,
   "metadata": {},
   "outputs": [
    {
     "data": {
      "image/png": "[encoded data removed]",
      "text/plain": [
       "<Figure size 432x288 with 1 Axes>"
      ]
     },
     "metadata": {
      "needs_background": "light"
     },
     "output_type": "display_data"
    }
   ],
   "source": [
    "#set the number of ticks based on the number of different values in the series\n",
    "x=np.arange(len(df['PAY_5'].unique()))\n",
    "\n",
    "#find percentage of defaults for each repayment status and store in a variable\n",
    "defaults_by_pay_status5=df.groupby(['PAY_5'])[['default.payment.next.month']].mean()\n",
    "\n",
    "#make bar plot of default mean of each value count of repayment status for 5/2005\n",
    "plt.bar(x,defaults_by_pay_status5['default.payment.next.month'])\n",
    "\n",
    "#add labels and title\n",
    "plt.ylabel('Percent Default')\n",
    "plt.xticks(x,('Payment','No Payment'))\n",
    "plt.title('Percent Default by Repayment status in May, 2005')\n",
    "\n",
    "#show plot\n",
    "plt.show()"
   ]
  },
  {
   "cell_type": "markdown",
   "metadata": {},
   "source": [
    "#### Bill Amount"
   ]
  },
  {
   "cell_type": "code",
   "execution_count": 122,
   "metadata": {},
   "outputs": [
    {
     "data": {
      "image/png": "[encoded data removed]",
      "text/plain": [
       "<Figure size 432x288 with 1 Axes>"
      ]
     },
     "metadata": {
      "needs_background": "light"
     },
     "output_type": "display_data"
    }
   ],
   "source": [
    "#define variables for default & no default\n",
    "default_bill_amt5 = df[df['default.payment.next.month'] == 1]['BILL_AMT5']\n",
    "no_default_bill_amt5 = df[df['default.payment.next.month'] == 0]['BILL_AMT5']\n",
    "\n",
    "#make histogram of bill amounts for 5/2005\n",
    "plt.hist([default_bill_amt5, no_default_bill_amt5],bins=20, color = ['red', 'green'],\n",
    "        alpha = 0.6)\n",
    "\n",
    "#set y scale to log to better display values\n",
    "plt.yscale('log')\n",
    "\n",
    "#add lables and title\n",
    "plt.xlabel('Bill Amount')\n",
    "plt.ylabel('Count')\n",
    "plt.title('Default by Bill Amount, May, 2005')\n",
    "\n",
    "#show plot\n",
    "plt.show()"
   ]
  },
  {
   "cell_type": "markdown",
   "metadata": {},
   "source": [
    "#### Pay Amount"
   ]
  },
  {
   "cell_type": "code",
   "execution_count": 190,
   "metadata": {},
   "outputs": [
    {
     "data": {
      "image/png": "[encoded data removed]",
      "text/plain": [
       "<Figure size 432x288 with 1 Axes>"
      ]
     },
     "metadata": {
      "needs_background": "light"
     },
     "output_type": "display_data"
    }
   ],
   "source": [
    "#define variables for default & no default\n",
    "default_pay_amt5 = df[df['default.payment.next.month'] == 1]['PAY_AMT5']\n",
    "no_default_pay_amt5 = df[df['default.payment.next.month'] == 0]['PAY_AMT5']\n",
    "\n",
    "#make histogram of previous month pay amounts for 5/2005\n",
    "plt.hist([default_pay_amt5, no_default_pay_amt5],bins=20, color = ['red', 'green'],\n",
    "        alpha = 0.6)\n",
    "\n",
    "#set y scale to log for visual clarity\n",
    "plt.yscale('log')\n",
    "\n",
    "#add labels and title\n",
    "plt.xlabel('Pay Amount')\n",
    "plt.ylabel('Count')\n",
    "plt.title('Default by Previous Month Pay Amount, May, 2005')\n",
    "\n",
    "#show plot\n",
    "plt.show()"
   ]
  },
  {
   "cell_type": "markdown",
   "metadata": {},
   "source": [
    "### Pay data (April, 2005)\n",
    "#### Pay Status"
   ]
  },
  {
   "cell_type": "code",
   "execution_count": 191,
   "metadata": {},
   "outputs": [
    {
     "data": {
      "image/png": "[encoded data removed]",
      "text/plain": [
       "<Figure size 432x288 with 1 Axes>"
      ]
     },
     "metadata": {
      "needs_background": "light"
     },
     "output_type": "display_data"
    }
   ],
   "source": [
    "#set the number of ticks based on the number of different values in the series\n",
    "x=np.arange(len(df['PAY_6'].unique()))\n",
    "\n",
    "#find percentage of defaults for each repayment status and store in a variable\n",
    "defaults_by_pay_status6=df.groupby(['PAY_6'])[['default.payment.next.month']].mean()\n",
    "\n",
    "#make bar plot of default mean of each value count of repayment status for 4/2005\n",
    "plt.bar(x,defaults_by_pay_status4['default.payment.next.month'])\n",
    "\n",
    "#add labels and title\n",
    "plt.ylabel('Percent Default')\n",
    "plt.xticks(x,('Payment','No Payment'))\n",
    "plt.title('Percent Default by Repayment status in April, 2005')\n",
    "\n",
    "#show plot\n",
    "plt.show()"
   ]
  },
  {
   "cell_type": "markdown",
   "metadata": {},
   "source": [
    "#### Bill Amount"
   ]
  },
  {
   "cell_type": "code",
   "execution_count": 125,
   "metadata": {},
   "outputs": [
    {
     "data": {
      "image/png": "[encoded data removed]",
      "text/plain": [
       "<Figure size 432x288 with 1 Axes>"
      ]
     },
     "metadata": {
      "needs_background": "light"
     },
     "output_type": "display_data"
    }
   ],
   "source": [
    "#define variables for default & no default\n",
    "default_bill_amt6 = df[df['default.payment.next.month'] == 1]['BILL_AMT6']\n",
    "no_default_bill_amt6 = df[df['default.payment.next.month'] == 0]['BILL_AMT6']\n",
    "\n",
    "#make histogram of bill amounts for 4/2005\n",
    "plt.hist([default_bill_amt6, no_default_bill_amt6],bins=20, color = ['red', 'green'],\n",
    "        alpha = 0.6)\n",
    "\n",
    "#set y scale to log to better display values\n",
    "plt.yscale('log')\n",
    "\n",
    "#add lables and title\n",
    "plt.xlabel('Bill Amount')\n",
    "plt.ylabel('Count')\n",
    "plt.title('Default by Bill Amount, April, 2005')\n",
    "\n",
    "#show plot\n",
    "plt.show()"
   ]
  },
  {
   "cell_type": "markdown",
   "metadata": {},
   "source": [
    "#### Pay Amount"
   ]
  },
  {
   "cell_type": "code",
   "execution_count": 192,
   "metadata": {},
   "outputs": [
    {
     "data": {
      "image/png": "[encoded data removed]",
      "text/plain": [
       "<Figure size 432x288 with 1 Axes>"
      ]
     },
     "metadata": {
      "needs_background": "light"
     },
     "output_type": "display_data"
    }
   ],
   "source": [
    "#define variables for default & no default\n",
    "default_pay_amt6 = df[df['default.payment.next.month'] == 1]['PAY_AMT6']\n",
    "no_default_pay_amt6 = df[df['default.payment.next.month'] == 0]['PAY_AMT6']\n",
    "\n",
    "#make histogram of previous month pay amounts for 4/2005\n",
    "plt.hist([default_pay_amt6, no_default_pay_amt6],bins=20, color = ['red', 'green'],\n",
    "        alpha = 0.6)\n",
    "\n",
    "#set y scale to log for visual clarity\n",
    "plt.yscale('log')\n",
    "\n",
    "#add labels and title\n",
    "plt.xlabel('Pay Amount')\n",
    "plt.ylabel('Count')\n",
    "plt.title('Default by Previous Month Pay Amount, April, 2005')\n",
    "\n",
    "#show plot\n",
    "plt.show()"
   ]
  },
  {
   "cell_type": "markdown",
   "metadata": {},
   "source": [
    "## Data Modeling"
   ]
  },
  {
   "cell_type": "code",
   "execution_count": 153,
   "metadata": {},
   "outputs": [],
   "source": [
    "from sklearn.model_selection import GridSearchCV, train_test_split\n",
    "from sklearn.metrics import make_scorer, recall_score, confusion_matrix\n",
    "from sklearn.ensemble import RandomForestClassifier"
   ]
  },
  {
   "cell_type": "markdown",
   "metadata": {},
   "source": [
    "### Define PIF (paid in full) columns"
   ]
  },
  {
   "cell_type": "code",
   "execution_count": 127,
   "metadata": {},
   "outputs": [],
   "source": [
    "#define columns names\n",
    "#Note: can't define for September/1 because there is no pay data for October\n",
    "PIF_cols = ['PIF_2', 'PIF_3', 'PIF_4', 'PIF_5', 'PIF_6']\n",
    "PAY_cols = ['PAY_AMT1', 'PAY_AMT2', 'PAY_AMT3', 'PAY_AMT4', 'PAY_AMT5']\n",
    "BILL_cols = ['BILL_AMT2', 'BILL_AMT3', 'BILL_AMT4', 'BILL_AMT5', 'BILL_AMT6']\n",
    "\n",
    "for pif, i in zip(PIF_cols, np.arange(0,5)):\n",
    "    df[pif] = (df[PAY_cols[i]] >= df[BILL_cols[i]])"
   ]
  },
  {
   "cell_type": "markdown",
   "metadata": {},
   "source": [
    "Drop clients who closed their accounts"
   ]
  },
  {
   "cell_type": "code",
   "execution_count": 128,
   "metadata": {},
   "outputs": [],
   "source": [
    "#filter customers who closed their account to drop from the dataset\n",
    "closed = df[(df['default.payment.next.month'] == 1) & (df['PIF_2'] == 1)]\n",
    "\n",
    "df = df.drop(closed.index)"
   ]
  },
  {
   "cell_type": "markdown",
   "metadata": {},
   "source": [
    "### Split categorical columns"
   ]
  },
  {
   "cell_type": "code",
   "execution_count": 129,
   "metadata": {},
   "outputs": [],
   "source": [
    "#set intercept column (for logit regrssion)\n",
    "df['intercept'] = 1\n",
    "\n",
    "#create dummy variable columns for categorical variables\n",
    "df[['MARRIED','SINGLE','OTHER']] =  pd.get_dummies(df['MARRIAGE'])\n",
    "df[['GRADUATE_SCHOOL','UNIVERSITY','HIGH_SCHOOL','OTHERS']] =  pd.get_dummies(df['EDUCATION'])\n",
    "\n",
    "#drop others columns\n",
    "df = df.drop(['OTHER', 'OTHERS'], axis = 1)"
   ]
  },
  {
   "cell_type": "markdown",
   "metadata": {},
   "source": [
    "### Correlation Heatmap"
   ]
  },
  {
   "cell_type": "code",
   "execution_count": 130,
   "metadata": {},
   "outputs": [
    {
     "data": {
      "image/png": "[encoded data removed]",
      "text/plain": [
       "<Figure size 432x288 with 2 Axes>"
      ]
     },
     "metadata": {
      "needs_background": "light"
     },
     "output_type": "display_data"
    }
   ],
   "source": [
    "#remove categorical columns from dataset for heatmap\n",
    "heatmap_data = df.drop(['ID','EDUCATION','MARRIAGE','intercept'], axis = 1)\n",
    "\n",
    "#create covariance matrix\n",
    "heatmap_correlation = heatmap_data.corr()\n",
    "\n",
    "#create filter to view which columns are highly correlated\n",
    "#we also have to filter out the diagonal where all values are 1\n",
    "fil = (abs(heatmap_correlation) > 0.8) & (heatmap_correlation !=1)\n",
    "\n",
    "#filter the correlation matrix\n",
    "fil = heatmap_correlation[fil]\n",
    "\n",
    "#drop rows with all NaN values (correlation < 0.8)\n",
    "fil = fil.dropna(how = 'all')\n",
    "\n",
    "#drop columns with all NaN values\n",
    "fil = fil.dropna(how = 'all', axis = 1)\n",
    "\n",
    "#generate heatmap\n",
    "sns.heatmap(fil)\n",
    "\n",
    "#show plot\n",
    "plt.show()"
   ]
  },
  {
   "cell_type": "markdown",
   "metadata": {},
   "source": [
    "### Train Test Split"
   ]
  },
  {
   "cell_type": "markdown",
   "metadata": {},
   "source": [
    "Import packages"
   ]
  },
  {
   "cell_type": "code",
   "execution_count": 143,
   "metadata": {},
   "outputs": [],
   "source": [
    "#set dependent variable to default.payment.next.month\n",
    "y = df['default.payment.next.month'].copy()\n",
    "\n",
    "#set independent varaible to remaining columns (features)\n",
    "features = ['LIMIT_BAL', 'SEX', 'GRADUATE_SCHOOL','UNIVERSITY','HIGH_SCHOOL',\n",
    "            'MARRIED','SINGLE', 'AGE', 'PAY_0', 'PAY_2', 'PAY_3', 'PAY_4',\n",
    "            'PAY_5', 'PAY_6', 'PIF_2', 'PIF_3', 'PIF_4', 'PIF_5', 'PIF_6']\n",
    "\n",
    "X = df[features].copy()\n",
    "\n",
    "#split the dataset into testing and training using train_test_split\n",
    "X_train, X_test, y_train, y_test = train_test_split(X, y, test_size=0.2, random_state=42)"
   ]
  },
  {
   "cell_type": "markdown",
   "metadata": {},
   "source": [
    "### Model Tuning"
   ]
  },
  {
   "cell_type": "code",
   "execution_count": 155,
   "metadata": {
    "scrolled": false
   },
   "outputs": [],
   "source": [
    "parameters = {'max_depth': np.linspace(3, 10, 8, dtype = int),\n",
    "          'n_estimators': np.linspace(30, 200, 18, dtype = int)}\n",
    "\n",
    "scorer = make_scorer(recall_score)\n",
    "\n",
    "grid = GridSearchCV(RandomForestClassifier(class_weight = 'balanced', random_state = 42),\n",
    "                    parameters, scorer, cv=5, return_train_score = True)\n",
    "\n",
    "grid = grid.fit(X_train, y_train)"
   ]
  },
  {
   "cell_type": "code",
   "execution_count": 166,
   "metadata": {},
   "outputs": [
    {
     "name": "stdout",
     "output_type": "stream",
     "text": [
      "Best score: 0.6992917143893758\n",
      "Best parameters: {'max_depth': 6, 'n_estimators': 30}\n"
     ]
    }
   ],
   "source": [
    "print('Best score:', grid.best_score_)\n",
    "print('Best parameters:', grid.best_params_)"
   ]
  },
  {
   "cell_type": "code",
   "execution_count": 157,
   "metadata": {},
   "outputs": [],
   "source": [
    "results = pd.DataFrame(grid.cv_results_)"
   ]
  },
  {
   "cell_type": "code",
   "execution_count": 163,
   "metadata": {},
   "outputs": [
    {
     "data": {
      "image/png": "[encoded data removed]",
      "text/plain": [
       "<Figure size 432x288 with 1 Axes>"
      ]
     },
     "metadata": {
      "needs_background": "light"
     },
     "output_type": "display_data"
    }
   ],
   "source": [
    "#create figure\n",
    "plt.figure()\n",
    "\n",
    "#set title\n",
    "plt.title('GridSearchCV Results')\n",
    "\n",
    "#create plot object\n",
    "ax = plt.gca()\n",
    "\n",
    "#set x & y limits based on data in results dataframe\n",
    "ax.set_xlim(30, 240)\n",
    "ax.set_ylim(0.67, 0.7)\n",
    "\n",
    "#create plot with results data\n",
    "sns.lineplot('param_n_estimators', 'mean_test_score', data = results,\n",
    "            hue = results.param_max_depth.tolist(), legend = 'full',\n",
    "            ci = 'std_test_score', err_style = 'band')\n",
    "\n",
    "#label axes\n",
    "plt.xlabel('n_estimators')\n",
    "plt.ylabel('Recall Score')\n",
    "\n",
    "#show plot\n",
    "plt.show()"
   ]
  },
  {
   "cell_type": "code",
   "execution_count": 164,
   "metadata": {},
   "outputs": [
    {
     "name": "stdout",
     "output_type": "stream",
     "text": [
      "Recall score: 0.7020408163265306\n"
     ]
    },
    {
     "data": {
      "text/html": [
       "<div>\n",
       "<style scoped>\n",
       "    .dataframe tbody tr th:only-of-type {\n",
       "        vertical-align: middle;\n",
       "    }\n",
       "\n",
       "    .dataframe tbody tr th {\n",
       "        vertical-align: top;\n",
       "    }\n",
       "\n",
       "    .dataframe thead th {\n",
       "        text-align: right;\n",
       "    }\n",
       "</style>\n",
       "<table border=\"1\" class=\"dataframe\">\n",
       "  <thead>\n",
       "    <tr style=\"text-align: right;\">\n",
       "      <th></th>\n",
       "      <th>0</th>\n",
       "      <th>1</th>\n",
       "    </tr>\n",
       "  </thead>\n",
       "  <tbody>\n",
       "    <tr>\n",
       "      <th>0</th>\n",
       "      <td>4033</td>\n",
       "      <td>649</td>\n",
       "    </tr>\n",
       "    <tr>\n",
       "      <th>1</th>\n",
       "      <td>292</td>\n",
       "      <td>688</td>\n",
       "    </tr>\n",
       "  </tbody>\n",
       "</table>\n",
       "</div>"
      ],
      "text/plain": [
       "      0    1\n",
       "0  4033  649\n",
       "1   292  688"
      ]
     },
     "execution_count": 164,
     "metadata": {},
     "output_type": "execute_result"
    }
   ],
   "source": [
    "#create the classifier\n",
    "clf = RandomForestClassifier(n_estimators = 30, max_depth = 6, random_state = 42,\n",
    "                            class_weight = 'balanced')\n",
    "\n",
    "#fit classifier to training set (with all defaults)\n",
    "clf = clf.fit(X_train, y_train)\n",
    "\n",
    "#run prediction on test set\n",
    "prd = clf.predict(X_test)\n",
    "\n",
    "#check recall\n",
    "print('Recall score:', recall_score(y_true = y_test, y_pred = prd))\n",
    "\n",
    "#show confusion matrix\n",
    "pd.DataFrame(confusion_matrix(y_true = y_test, y_pred = prd))"
   ]
  },
  {
   "cell_type": "code",
   "execution_count": 165,
   "metadata": {
    "scrolled": false
   },
   "outputs": [
    {
     "data": {
      "text/html": [
       "<div>\n",
       "<style scoped>\n",
       "    .dataframe tbody tr th:only-of-type {\n",
       "        vertical-align: middle;\n",
       "    }\n",
       "\n",
       "    .dataframe tbody tr th {\n",
       "        vertical-align: top;\n",
       "    }\n",
       "\n",
       "    .dataframe thead th {\n",
       "        text-align: right;\n",
       "    }\n",
       "</style>\n",
       "<table border=\"1\" class=\"dataframe\">\n",
       "  <thead>\n",
       "    <tr style=\"text-align: right;\">\n",
       "      <th></th>\n",
       "      <th>feature</th>\n",
       "      <th>score</th>\n",
       "    </tr>\n",
       "  </thead>\n",
       "  <tbody>\n",
       "    <tr>\n",
       "      <th>14</th>\n",
       "      <td>PIF_2</td>\n",
       "      <td>0.274671</td>\n",
       "    </tr>\n",
       "    <tr>\n",
       "      <th>8</th>\n",
       "      <td>PAY_0</td>\n",
       "      <td>0.183614</td>\n",
       "    </tr>\n",
       "    <tr>\n",
       "      <th>9</th>\n",
       "      <td>PAY_2</td>\n",
       "      <td>0.175227</td>\n",
       "    </tr>\n",
       "    <tr>\n",
       "      <th>10</th>\n",
       "      <td>PAY_3</td>\n",
       "      <td>0.065750</td>\n",
       "    </tr>\n",
       "    <tr>\n",
       "      <th>11</th>\n",
       "      <td>PAY_4</td>\n",
       "      <td>0.062222</td>\n",
       "    </tr>\n",
       "    <tr>\n",
       "      <th>15</th>\n",
       "      <td>PIF_3</td>\n",
       "      <td>0.049585</td>\n",
       "    </tr>\n",
       "    <tr>\n",
       "      <th>12</th>\n",
       "      <td>PAY_5</td>\n",
       "      <td>0.041277</td>\n",
       "    </tr>\n",
       "    <tr>\n",
       "      <th>16</th>\n",
       "      <td>PIF_4</td>\n",
       "      <td>0.036158</td>\n",
       "    </tr>\n",
       "    <tr>\n",
       "      <th>0</th>\n",
       "      <td>LIMIT_BAL</td>\n",
       "      <td>0.034948</td>\n",
       "    </tr>\n",
       "    <tr>\n",
       "      <th>13</th>\n",
       "      <td>PAY_6</td>\n",
       "      <td>0.029228</td>\n",
       "    </tr>\n",
       "    <tr>\n",
       "      <th>17</th>\n",
       "      <td>PIF_5</td>\n",
       "      <td>0.021772</td>\n",
       "    </tr>\n",
       "    <tr>\n",
       "      <th>18</th>\n",
       "      <td>PIF_6</td>\n",
       "      <td>0.013051</td>\n",
       "    </tr>\n",
       "    <tr>\n",
       "      <th>7</th>\n",
       "      <td>AGE</td>\n",
       "      <td>0.004753</td>\n",
       "    </tr>\n",
       "    <tr>\n",
       "      <th>2</th>\n",
       "      <td>GRADUATE_SCHOOL</td>\n",
       "      <td>0.003879</td>\n",
       "    </tr>\n",
       "    <tr>\n",
       "      <th>3</th>\n",
       "      <td>UNIVERSITY</td>\n",
       "      <td>0.001139</td>\n",
       "    </tr>\n",
       "    <tr>\n",
       "      <th>1</th>\n",
       "      <td>SEX</td>\n",
       "      <td>0.000958</td>\n",
       "    </tr>\n",
       "    <tr>\n",
       "      <th>4</th>\n",
       "      <td>HIGH_SCHOOL</td>\n",
       "      <td>0.000691</td>\n",
       "    </tr>\n",
       "    <tr>\n",
       "      <th>5</th>\n",
       "      <td>MARRIED</td>\n",
       "      <td>0.000667</td>\n",
       "    </tr>\n",
       "    <tr>\n",
       "      <th>6</th>\n",
       "      <td>SINGLE</td>\n",
       "      <td>0.000409</td>\n",
       "    </tr>\n",
       "  </tbody>\n",
       "</table>\n",
       "</div>"
      ],
      "text/plain": [
       "            feature     score\n",
       "14            PIF_2  0.274671\n",
       "8             PAY_0  0.183614\n",
       "9             PAY_2  0.175227\n",
       "10            PAY_3  0.065750\n",
       "11            PAY_4  0.062222\n",
       "15            PIF_3  0.049585\n",
       "12            PAY_5  0.041277\n",
       "16            PIF_4  0.036158\n",
       "0         LIMIT_BAL  0.034948\n",
       "13            PAY_6  0.029228\n",
       "17            PIF_5  0.021772\n",
       "18            PIF_6  0.013051\n",
       "7               AGE  0.004753\n",
       "2   GRADUATE_SCHOOL  0.003879\n",
       "3        UNIVERSITY  0.001139\n",
       "1               SEX  0.000958\n",
       "4       HIGH_SCHOOL  0.000691\n",
       "5           MARRIED  0.000667\n",
       "6            SINGLE  0.000409"
      ]
     },
     "execution_count": 165,
     "metadata": {},
     "output_type": "execute_result"
    }
   ],
   "source": [
    "imp = clf.feature_importances_.tolist()\n",
    "imp_df = pd.DataFrame({'feature': features, 'score': imp})\n",
    "imp_df.sort_values(by='score', ascending = False)"
   ]
  },
  {
   "cell_type": "code",
   "execution_count": 199,
   "metadata": {
    "scrolled": false
   },
   "outputs": [],
   "source": [
    "parameters = {'max_depth': np.linspace(3, 10, 8, dtype = int),\n",
    "          'n_estimators': np.linspace(15, 35, 21, dtype = int)}\n",
    "\n",
    "scorer = make_scorer(recall_score)\n",
    "\n",
    "grid = GridSearchCV(RandomForestClassifier(class_weight = 'balanced', random_state = 42),\n",
    "                    parameters, scorer, cv=5, return_train_score = True)\n",
    "\n",
    "grid = grid.fit(X_train, y_train)"
   ]
  },
  {
   "cell_type": "code",
   "execution_count": 200,
   "metadata": {},
   "outputs": [
    {
     "name": "stdout",
     "output_type": "stream",
     "text": [
      "Best score: 0.7146832910272478\n",
      "Best parameters: {'max_depth': 7, 'n_estimators': 16}\n"
     ]
    }
   ],
   "source": [
    "print('Best score:', grid.best_score_)\n",
    "print('Best parameters:', grid.best_params_)"
   ]
  },
  {
   "cell_type": "code",
   "execution_count": 201,
   "metadata": {},
   "outputs": [],
   "source": [
    "results = pd.DataFrame(grid.cv_results_)"
   ]
  },
  {
   "cell_type": "code",
   "execution_count": 207,
   "metadata": {},
   "outputs": [
    {
     "data": {
      "image/png": "[encoded data removed]",
      "text/plain": [
       "<Figure size 432x288 with 1 Axes>"
      ]
     },
     "metadata": {
      "needs_background": "light"
     },
     "output_type": "display_data"
    }
   ],
   "source": [
    "#create figure\n",
    "plt.figure()\n",
    "\n",
    "#set title\n",
    "plt.title('GridSearchCV Results')\n",
    "\n",
    "#create plot object\n",
    "ax = plt.gca()\n",
    "\n",
    "#set x & y limits based on data in results dataframe\n",
    "ax.set_xlim(15, 40)\n",
    "ax.set_ylim(0.67, 0.72)\n",
    "\n",
    "#create plot with results data\n",
    "sns.lineplot('param_n_estimators', 'mean_test_score', data = results,\n",
    "            hue = results.param_max_depth.tolist(), legend = 'full',\n",
    "            ci = 'std_test_score', err_style = 'band')\n",
    "\n",
    "#label axes\n",
    "plt.xlabel('n_estimators')\n",
    "plt.ylabel('Recall Score')\n",
    "\n",
    "#show plot\n",
    "plt.show()"
   ]
  },
  {
   "cell_type": "code",
   "execution_count": 208,
   "metadata": {},
   "outputs": [
    {
     "name": "stdout",
     "output_type": "stream",
     "text": [
      "Recall score: 0.7193877551020408\n"
     ]
    },
    {
     "data": {
      "text/html": [
       "<div>\n",
       "<style scoped>\n",
       "    .dataframe tbody tr th:only-of-type {\n",
       "        vertical-align: middle;\n",
       "    }\n",
       "\n",
       "    .dataframe tbody tr th {\n",
       "        vertical-align: top;\n",
       "    }\n",
       "\n",
       "    .dataframe thead th {\n",
       "        text-align: right;\n",
       "    }\n",
       "</style>\n",
       "<table border=\"1\" class=\"dataframe\">\n",
       "  <thead>\n",
       "    <tr style=\"text-align: right;\">\n",
       "      <th></th>\n",
       "      <th>0</th>\n",
       "      <th>1</th>\n",
       "    </tr>\n",
       "  </thead>\n",
       "  <tbody>\n",
       "    <tr>\n",
       "      <th>0</th>\n",
       "      <td>3973</td>\n",
       "      <td>709</td>\n",
       "    </tr>\n",
       "    <tr>\n",
       "      <th>1</th>\n",
       "      <td>275</td>\n",
       "      <td>705</td>\n",
       "    </tr>\n",
       "  </tbody>\n",
       "</table>\n",
       "</div>"
      ],
      "text/plain": [
       "      0    1\n",
       "0  3973  709\n",
       "1   275  705"
      ]
     },
     "execution_count": 208,
     "metadata": {},
     "output_type": "execute_result"
    }
   ],
   "source": [
    "#create the classifier\n",
    "clf = RandomForestClassifier(n_estimators = 16, max_depth = 7, random_state = 42,\n",
    "                            class_weight = 'balanced')\n",
    "\n",
    "#fit classifier to training set (with all defaults)\n",
    "clf = clf.fit(X_train, y_train)\n",
    "\n",
    "#run prediction on test set\n",
    "prd = clf.predict(X_test)\n",
    "\n",
    "#check recall\n",
    "print('Recall score:', recall_score(y_true = y_test, y_pred = prd))\n",
    "\n",
    "#show confusion matrix\n",
    "pd.DataFrame(confusion_matrix(y_true = y_test, y_pred = prd))"
   ]
  },
  {
   "cell_type": "code",
   "execution_count": 209,
   "metadata": {
    "scrolled": false
   },
   "outputs": [
    {
     "data": {
      "text/html": [
       "<div>\n",
       "<style scoped>\n",
       "    .dataframe tbody tr th:only-of-type {\n",
       "        vertical-align: middle;\n",
       "    }\n",
       "\n",
       "    .dataframe tbody tr th {\n",
       "        vertical-align: top;\n",
       "    }\n",
       "\n",
       "    .dataframe thead th {\n",
       "        text-align: right;\n",
       "    }\n",
       "</style>\n",
       "<table border=\"1\" class=\"dataframe\">\n",
       "  <thead>\n",
       "    <tr style=\"text-align: right;\">\n",
       "      <th></th>\n",
       "      <th>feature</th>\n",
       "      <th>score</th>\n",
       "    </tr>\n",
       "  </thead>\n",
       "  <tbody>\n",
       "    <tr>\n",
       "      <th>14</th>\n",
       "      <td>PIF_2</td>\n",
       "      <td>0.273711</td>\n",
       "    </tr>\n",
       "    <tr>\n",
       "      <th>8</th>\n",
       "      <td>PAY_0</td>\n",
       "      <td>0.225856</td>\n",
       "    </tr>\n",
       "    <tr>\n",
       "      <th>9</th>\n",
       "      <td>PAY_2</td>\n",
       "      <td>0.108314</td>\n",
       "    </tr>\n",
       "    <tr>\n",
       "      <th>10</th>\n",
       "      <td>PAY_3</td>\n",
       "      <td>0.076283</td>\n",
       "    </tr>\n",
       "    <tr>\n",
       "      <th>11</th>\n",
       "      <td>PAY_4</td>\n",
       "      <td>0.067449</td>\n",
       "    </tr>\n",
       "    <tr>\n",
       "      <th>0</th>\n",
       "      <td>LIMIT_BAL</td>\n",
       "      <td>0.055806</td>\n",
       "    </tr>\n",
       "    <tr>\n",
       "      <th>12</th>\n",
       "      <td>PAY_5</td>\n",
       "      <td>0.045125</td>\n",
       "    </tr>\n",
       "    <tr>\n",
       "      <th>15</th>\n",
       "      <td>PIF_3</td>\n",
       "      <td>0.044115</td>\n",
       "    </tr>\n",
       "    <tr>\n",
       "      <th>17</th>\n",
       "      <td>PIF_5</td>\n",
       "      <td>0.028379</td>\n",
       "    </tr>\n",
       "    <tr>\n",
       "      <th>13</th>\n",
       "      <td>PAY_6</td>\n",
       "      <td>0.025130</td>\n",
       "    </tr>\n",
       "    <tr>\n",
       "      <th>16</th>\n",
       "      <td>PIF_4</td>\n",
       "      <td>0.021164</td>\n",
       "    </tr>\n",
       "    <tr>\n",
       "      <th>18</th>\n",
       "      <td>PIF_6</td>\n",
       "      <td>0.009774</td>\n",
       "    </tr>\n",
       "    <tr>\n",
       "      <th>7</th>\n",
       "      <td>AGE</td>\n",
       "      <td>0.006657</td>\n",
       "    </tr>\n",
       "    <tr>\n",
       "      <th>2</th>\n",
       "      <td>GRADUATE_SCHOOL</td>\n",
       "      <td>0.003303</td>\n",
       "    </tr>\n",
       "    <tr>\n",
       "      <th>1</th>\n",
       "      <td>SEX</td>\n",
       "      <td>0.002296</td>\n",
       "    </tr>\n",
       "    <tr>\n",
       "      <th>3</th>\n",
       "      <td>UNIVERSITY</td>\n",
       "      <td>0.001859</td>\n",
       "    </tr>\n",
       "    <tr>\n",
       "      <th>6</th>\n",
       "      <td>SINGLE</td>\n",
       "      <td>0.001832</td>\n",
       "    </tr>\n",
       "    <tr>\n",
       "      <th>5</th>\n",
       "      <td>MARRIED</td>\n",
       "      <td>0.001518</td>\n",
       "    </tr>\n",
       "    <tr>\n",
       "      <th>4</th>\n",
       "      <td>HIGH_SCHOOL</td>\n",
       "      <td>0.001428</td>\n",
       "    </tr>\n",
       "  </tbody>\n",
       "</table>\n",
       "</div>"
      ],
      "text/plain": [
       "            feature     score\n",
       "14            PIF_2  0.273711\n",
       "8             PAY_0  0.225856\n",
       "9             PAY_2  0.108314\n",
       "10            PAY_3  0.076283\n",
       "11            PAY_4  0.067449\n",
       "0         LIMIT_BAL  0.055806\n",
       "12            PAY_5  0.045125\n",
       "15            PIF_3  0.044115\n",
       "17            PIF_5  0.028379\n",
       "13            PAY_6  0.025130\n",
       "16            PIF_4  0.021164\n",
       "18            PIF_6  0.009774\n",
       "7               AGE  0.006657\n",
       "2   GRADUATE_SCHOOL  0.003303\n",
       "1               SEX  0.002296\n",
       "3        UNIVERSITY  0.001859\n",
       "6            SINGLE  0.001832\n",
       "5           MARRIED  0.001518\n",
       "4       HIGH_SCHOOL  0.001428"
      ]
     },
     "execution_count": 209,
     "metadata": {},
     "output_type": "execute_result"
    }
   ],
   "source": [
    "imp = clf.feature_importances_.tolist()\n",
    "imp_df = pd.DataFrame({'feature': features, 'score': imp})\n",
    "imp_df.sort_values(by='score', ascending = False)"
   ]
  }
 ],
 "metadata": {
  "kernelspec": {
   "display_name": "Python 3",
   "language": "python",
   "name": "python3"
  },
  "language_info": {
   "codemirror_mode": {
    "name": "ipython",
    "version": 3
   },
   "file_extension": ".py",
   "mimetype": "text/x-python",
   "name": "python",
   "nbconvert_exporter": "python",
   "pygments_lexer": "ipython3",
   "version": "3.6.7"
  }
 },
 "nbformat": 4,
 "nbformat_minor": 2
}
