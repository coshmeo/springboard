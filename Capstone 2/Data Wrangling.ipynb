{
 "cells": [
  {
   "cell_type": "markdown",
   "metadata": {},
   "source": [
    "# Capstone Project 2\n",
    "**Predicting stock prices with a neural network**"
   ]
  },
  {
   "cell_type": "markdown",
   "metadata": {},
   "source": [
    "## Introduction"
   ]
  },
  {
   "cell_type": "markdown",
   "metadata": {},
   "source": [
    "The objective of this project is to use deep learning to predict movement in Mircosoft stock using a deep learning model. In order to fully capture as much relevant data as possible, much more than just the historical data for microsoft will be included in the model. We will include 3 of Microsoft's major competetors (Apple, Amazon, and Google), technical indicators for Microsoft, as well as market indicies for NASDAQ and NYSE."
   ]
  },
  {
   "cell_type": "markdown",
   "metadata": {},
   "source": [
    "## Data Wrangling\n",
    "Using the Aplpha Vantage API to pull data and technical indicators for the model."
   ]
  },
  {
   "cell_type": "markdown",
   "metadata": {},
   "source": [
    "### Import Packages"
   ]
  },
  {
   "cell_type": "code",
   "execution_count": 1,
   "metadata": {},
   "outputs": [],
   "source": [
    "import pandas as pd\n",
    "import requests"
   ]
  },
  {
   "cell_type": "code",
   "execution_count": 2,
   "metadata": {},
   "outputs": [],
   "source": [
    "api_key = ''"
   ]
  },
  {
   "cell_type": "markdown",
   "metadata": {},
   "source": [
    "### Define function to pull stock data"
   ]
  },
  {
   "cell_type": "code",
   "execution_count": 3,
   "metadata": {},
   "outputs": [],
   "source": [
    "def get_stock_data(symbol, start_date='2010-01-01', end_date='2018-12-31'):\n",
    "    \n",
    "    \"\"\"\n",
    "    symbol is a string representing a stock symbol, e.g. 'AAPL'\n",
    "    \n",
    "    start_date is the start date of the time series, defaults to '1/1/2010'\n",
    "    \n",
    "    end_date is the end date of the time series, defaults to '12/31/2018'\n",
    "    \n",
    "    start_date & end_date must be in string format\n",
    "    \"\"\"\n",
    "    \n",
    "    url = 'https://www.alphavantage.co/query?function=TIME_SERIES_DAILY&symbol=' + symbol + '&outputsize=full&apikey=' + api_key\n",
    "        \n",
    "    r = requests.get(url)\n",
    "    \n",
    "    df = r.json()\n",
    "    \n",
    "    df = pd.DataFrame(df['Time Series (Daily)']).T\n",
    "    \n",
    "    df = df[(df.index > start_date) & (df.index < end_date)]\n",
    " \n",
    "    return df"
   ]
  },
  {
   "cell_type": "code",
   "execution_count": 24,
   "metadata": {},
   "outputs": [],
   "source": [
    "def get_ma(symbol, period, start_date='2010-01-01', end_date='2018-12-31'):\n",
    "    \n",
    "    \"\"\"\n",
    "    funciton to pull simple moving average data for closing prices of a stock using the alpha vantage API\n",
    "    \n",
    "    symbol is a string representing a stock symbol, e.g. 'AAPL'\n",
    "    \n",
    "    period is the number of days per moving average, i.e. 7-day moving average -> period = 7\n",
    "    \n",
    "    start_date is the start date of the time series, defaults to '1/1/2010'\n",
    "    \n",
    "    end_date is the end date of the time series, defaults to '12/31/2018'\n",
    "    \n",
    "    start_date & end_date must be in string format\n",
    "    \"\"\"\n",
    "    \n",
    "    url = 'https://www.alphavantage.co/query?function=SMA&symbol=' + symbol + '&interval=daily&time_period='+ str(period) + '&series_type=close&apikey=' + api_key\n",
    "    \n",
    "    r = requests.get(url)\n",
    "    \n",
    "    df = r.json()\n",
    "    \n",
    "    df = pd.DataFrame(df['Technical Analysis: SMA']).T\n",
    "    \n",
    "    df = df[(df.index > start_date) & (df.index < end_date)]\n",
    " \n",
    "    return df"
   ]
  },
  {
   "cell_type": "code",
   "execution_count": 17,
   "metadata": {},
   "outputs": [],
   "source": [
    "symbol = 'MSFT'\n",
    "\n",
    "url = 'https://www.alphavantage.co/query?function=SMA&symbol=' + symbol + '&interval=daily&time_period=7&series_type=close&apikey=' + api_key\n",
    "    \n",
    "r = requests.get(url)\n",
    "    \n",
    "df = r.json()"
   ]
  },
  {
   "cell_type": "code",
   "execution_count": 31,
   "metadata": {},
   "outputs": [],
   "source": [
    "def get_macd(symbol, start_date='2010-01-01', end_date='2018-12-31'):\n",
    "    \n",
    "    \"\"\"\n",
    "    funciton to pull the moving average convergence/divergence data for closing prices of a stock using the alpha vantage API\n",
    "    \n",
    "    symbol is a string representing a stock symbol, e.g. 'AAPL'\n",
    "    \n",
    "    start_date is the start date of the time series, defaults to '1/1/2010'\n",
    "    \n",
    "    end_date is the end date of the time series, defaults to '12/31/2018'\n",
    "    \n",
    "    start_date & end_date must be in string format\n",
    "    \"\"\"\n",
    "    \n",
    "    url = 'https://www.alphavantage.co/query?function=MACD&symbol=' + symbol + '&interval=daily&series_type=close&apikey=' + api_key\n",
    "    \n",
    "    r = requests.get(url)\n",
    "    \n",
    "    df = r.json()\n",
    "    \n",
    "    df = pd.DataFrame(df['Technical Analysis: MACD']).T\n",
    "    \n",
    "    df = df[(df.index > start_date) & (df.index < end_date)]\n",
    " \n",
    "    return df"
   ]
  },
  {
   "cell_type": "code",
   "execution_count": 37,
   "metadata": {},
   "outputs": [],
   "source": [
    "def get_bbands(symbol, start_date='2010-01-01', end_date='2018-12-31'):\n",
    "    \"\"\"\n",
    "    funciton to pull bollinger bands data for closing prices of a stock with a 21 day period using the alpha vantage API\n",
    "    \n",
    "    symbol is a string representing a stock symbol, e.g. 'AAPL'\n",
    "    \n",
    "    start_date is the start date of the time series, defaults to '1/1/2010'\n",
    "    \n",
    "    end_date is the end date of the time series, defaults to '12/31/2018'\n",
    "    \n",
    "    start_date & end_date must be in string format\n",
    "    \"\"\"\n",
    "    \n",
    "    url = 'https://www.alphavantage.co/query?function=BBANDS&symbol=' + symbol + '&interval=daily&time_period=21&series_type=close&apikey=' + api_key\n",
    "    \n",
    "    r = requests.get(url)\n",
    "    \n",
    "    df = r.json()\n",
    "    \n",
    "    df = pd.DataFrame(df['Technical Analysis: BBANDS']).T\n",
    "    \n",
    "    df = df[(df.index > start_date) & (df.index < end_date)]\n",
    " \n",
    "    return df"
   ]
  },
  {
   "cell_type": "markdown",
   "metadata": {},
   "source": [
    "### Create datasets"
   ]
  },
  {
   "cell_type": "code",
   "execution_count": 4,
   "metadata": {},
   "outputs": [],
   "source": [
    "apple_df = get_stock_data('AAPL')"
   ]
  },
  {
   "cell_type": "code",
   "execution_count": 5,
   "metadata": {},
   "outputs": [
    {
     "data": {
      "text/html": [
       "<div>\n",
       "<style scoped>\n",
       "    .dataframe tbody tr th:only-of-type {\n",
       "        vertical-align: middle;\n",
       "    }\n",
       "\n",
       "    .dataframe tbody tr th {\n",
       "        vertical-align: top;\n",
       "    }\n",
       "\n",
       "    .dataframe thead th {\n",
       "        text-align: right;\n",
       "    }\n",
       "</style>\n",
       "<table border=\"1\" class=\"dataframe\">\n",
       "  <thead>\n",
       "    <tr style=\"text-align: right;\">\n",
       "      <th></th>\n",
       "      <th>1. open</th>\n",
       "      <th>2. high</th>\n",
       "      <th>3. low</th>\n",
       "      <th>4. close</th>\n",
       "      <th>5. volume</th>\n",
       "    </tr>\n",
       "  </thead>\n",
       "  <tbody>\n",
       "    <tr>\n",
       "      <th>2018-12-28</th>\n",
       "      <td>157.5000</td>\n",
       "      <td>158.5200</td>\n",
       "      <td>154.5500</td>\n",
       "      <td>156.2300</td>\n",
       "      <td>42291424</td>\n",
       "    </tr>\n",
       "    <tr>\n",
       "      <th>2018-12-27</th>\n",
       "      <td>155.8400</td>\n",
       "      <td>156.7700</td>\n",
       "      <td>150.0700</td>\n",
       "      <td>156.1500</td>\n",
       "      <td>53117065</td>\n",
       "    </tr>\n",
       "    <tr>\n",
       "      <th>2018-12-26</th>\n",
       "      <td>148.3000</td>\n",
       "      <td>157.2300</td>\n",
       "      <td>146.7200</td>\n",
       "      <td>157.1700</td>\n",
       "      <td>58582544</td>\n",
       "    </tr>\n",
       "    <tr>\n",
       "      <th>2018-12-24</th>\n",
       "      <td>148.1500</td>\n",
       "      <td>151.5500</td>\n",
       "      <td>146.5900</td>\n",
       "      <td>146.8300</td>\n",
       "      <td>37169232</td>\n",
       "    </tr>\n",
       "    <tr>\n",
       "      <th>2018-12-21</th>\n",
       "      <td>156.8600</td>\n",
       "      <td>158.1600</td>\n",
       "      <td>149.6300</td>\n",
       "      <td>150.7300</td>\n",
       "      <td>95744384</td>\n",
       "    </tr>\n",
       "  </tbody>\n",
       "</table>\n",
       "</div>"
      ],
      "text/plain": [
       "             1. open   2. high    3. low  4. close 5. volume\n",
       "2018-12-28  157.5000  158.5200  154.5500  156.2300  42291424\n",
       "2018-12-27  155.8400  156.7700  150.0700  156.1500  53117065\n",
       "2018-12-26  148.3000  157.2300  146.7200  157.1700  58582544\n",
       "2018-12-24  148.1500  151.5500  146.5900  146.8300  37169232\n",
       "2018-12-21  156.8600  158.1600  149.6300  150.7300  95744384"
      ]
     },
     "execution_count": 5,
     "metadata": {},
     "output_type": "execute_result"
    }
   ],
   "source": [
    "apple_df.head()"
   ]
  },
  {
   "cell_type": "code",
   "execution_count": 6,
   "metadata": {},
   "outputs": [],
   "source": [
    "google_df = get_stock_data('GOOGL')"
   ]
  },
  {
   "cell_type": "code",
   "execution_count": 7,
   "metadata": {},
   "outputs": [
    {
     "data": {
      "text/html": [
       "<div>\n",
       "<style scoped>\n",
       "    .dataframe tbody tr th:only-of-type {\n",
       "        vertical-align: middle;\n",
       "    }\n",
       "\n",
       "    .dataframe tbody tr th {\n",
       "        vertical-align: top;\n",
       "    }\n",
       "\n",
       "    .dataframe thead th {\n",
       "        text-align: right;\n",
       "    }\n",
       "</style>\n",
       "<table border=\"1\" class=\"dataframe\">\n",
       "  <thead>\n",
       "    <tr style=\"text-align: right;\">\n",
       "      <th></th>\n",
       "      <th>1. open</th>\n",
       "      <th>2. high</th>\n",
       "      <th>3. low</th>\n",
       "      <th>4. close</th>\n",
       "      <th>5. volume</th>\n",
       "    </tr>\n",
       "  </thead>\n",
       "  <tbody>\n",
       "    <tr>\n",
       "      <th>2018-12-28</th>\n",
       "      <td>1059.5000</td>\n",
       "      <td>1064.2300</td>\n",
       "      <td>1042.0000</td>\n",
       "      <td>1046.6800</td>\n",
       "      <td>1718352</td>\n",
       "    </tr>\n",
       "    <tr>\n",
       "      <th>2018-12-27</th>\n",
       "      <td>1026.2000</td>\n",
       "      <td>1053.3400</td>\n",
       "      <td>1007.0000</td>\n",
       "      <td>1052.9000</td>\n",
       "      <td>2299806</td>\n",
       "    </tr>\n",
       "    <tr>\n",
       "      <th>2018-12-26</th>\n",
       "      <td>997.9900</td>\n",
       "      <td>1048.4500</td>\n",
       "      <td>992.6450</td>\n",
       "      <td>1047.8500</td>\n",
       "      <td>2315862</td>\n",
       "    </tr>\n",
       "    <tr>\n",
       "      <th>2018-12-24</th>\n",
       "      <td>984.3200</td>\n",
       "      <td>1012.1200</td>\n",
       "      <td>977.6599</td>\n",
       "      <td>984.6700</td>\n",
       "      <td>1817955</td>\n",
       "    </tr>\n",
       "    <tr>\n",
       "      <th>2018-12-21</th>\n",
       "      <td>1032.0400</td>\n",
       "      <td>1037.6700</td>\n",
       "      <td>981.1900</td>\n",
       "      <td>991.2500</td>\n",
       "      <td>5232490</td>\n",
       "    </tr>\n",
       "  </tbody>\n",
       "</table>\n",
       "</div>"
      ],
      "text/plain": [
       "              1. open    2. high     3. low   4. close 5. volume\n",
       "2018-12-28  1059.5000  1064.2300  1042.0000  1046.6800   1718352\n",
       "2018-12-27  1026.2000  1053.3400  1007.0000  1052.9000   2299806\n",
       "2018-12-26   997.9900  1048.4500   992.6450  1047.8500   2315862\n",
       "2018-12-24   984.3200  1012.1200   977.6599   984.6700   1817955\n",
       "2018-12-21  1032.0400  1037.6700   981.1900   991.2500   5232490"
      ]
     },
     "execution_count": 7,
     "metadata": {},
     "output_type": "execute_result"
    }
   ],
   "source": [
    "google_df.head()"
   ]
  },
  {
   "cell_type": "code",
   "execution_count": 8,
   "metadata": {},
   "outputs": [],
   "source": [
    "msft_df = get_stock_data('MSFT')"
   ]
  },
  {
   "cell_type": "code",
   "execution_count": 9,
   "metadata": {},
   "outputs": [
    {
     "data": {
      "text/html": [
       "<div>\n",
       "<style scoped>\n",
       "    .dataframe tbody tr th:only-of-type {\n",
       "        vertical-align: middle;\n",
       "    }\n",
       "\n",
       "    .dataframe tbody tr th {\n",
       "        vertical-align: top;\n",
       "    }\n",
       "\n",
       "    .dataframe thead th {\n",
       "        text-align: right;\n",
       "    }\n",
       "</style>\n",
       "<table border=\"1\" class=\"dataframe\">\n",
       "  <thead>\n",
       "    <tr style=\"text-align: right;\">\n",
       "      <th></th>\n",
       "      <th>1. open</th>\n",
       "      <th>2. high</th>\n",
       "      <th>3. low</th>\n",
       "      <th>4. close</th>\n",
       "      <th>5. volume</th>\n",
       "    </tr>\n",
       "  </thead>\n",
       "  <tbody>\n",
       "    <tr>\n",
       "      <th>2018-12-28</th>\n",
       "      <td>102.0900</td>\n",
       "      <td>102.4100</td>\n",
       "      <td>99.5200</td>\n",
       "      <td>100.3900</td>\n",
       "      <td>38169312</td>\n",
       "    </tr>\n",
       "    <tr>\n",
       "      <th>2018-12-27</th>\n",
       "      <td>99.3000</td>\n",
       "      <td>101.1900</td>\n",
       "      <td>96.4000</td>\n",
       "      <td>101.1800</td>\n",
       "      <td>49498509</td>\n",
       "    </tr>\n",
       "    <tr>\n",
       "      <th>2018-12-26</th>\n",
       "      <td>95.1400</td>\n",
       "      <td>100.6900</td>\n",
       "      <td>93.9600</td>\n",
       "      <td>100.5600</td>\n",
       "      <td>51634793</td>\n",
       "    </tr>\n",
       "    <tr>\n",
       "      <th>2018-12-24</th>\n",
       "      <td>97.6800</td>\n",
       "      <td>97.9700</td>\n",
       "      <td>93.9800</td>\n",
       "      <td>94.1300</td>\n",
       "      <td>43935192</td>\n",
       "    </tr>\n",
       "    <tr>\n",
       "      <th>2018-12-21</th>\n",
       "      <td>101.6300</td>\n",
       "      <td>103.0000</td>\n",
       "      <td>97.4600</td>\n",
       "      <td>98.2300</td>\n",
       "      <td>111242070</td>\n",
       "    </tr>\n",
       "  </tbody>\n",
       "</table>\n",
       "</div>"
      ],
      "text/plain": [
       "             1. open   2. high   3. low  4. close  5. volume\n",
       "2018-12-28  102.0900  102.4100  99.5200  100.3900   38169312\n",
       "2018-12-27   99.3000  101.1900  96.4000  101.1800   49498509\n",
       "2018-12-26   95.1400  100.6900  93.9600  100.5600   51634793\n",
       "2018-12-24   97.6800   97.9700  93.9800   94.1300   43935192\n",
       "2018-12-21  101.6300  103.0000  97.4600   98.2300  111242070"
      ]
     },
     "execution_count": 9,
     "metadata": {},
     "output_type": "execute_result"
    }
   ],
   "source": [
    "msft_df.head()"
   ]
  },
  {
   "cell_type": "code",
   "execution_count": 10,
   "metadata": {},
   "outputs": [],
   "source": [
    "amzn_df = get_stock_data('AMZN')"
   ]
  },
  {
   "cell_type": "code",
   "execution_count": 11,
   "metadata": {},
   "outputs": [
    {
     "data": {
      "text/html": [
       "<div>\n",
       "<style scoped>\n",
       "    .dataframe tbody tr th:only-of-type {\n",
       "        vertical-align: middle;\n",
       "    }\n",
       "\n",
       "    .dataframe tbody tr th {\n",
       "        vertical-align: top;\n",
       "    }\n",
       "\n",
       "    .dataframe thead th {\n",
       "        text-align: right;\n",
       "    }\n",
       "</style>\n",
       "<table border=\"1\" class=\"dataframe\">\n",
       "  <thead>\n",
       "    <tr style=\"text-align: right;\">\n",
       "      <th></th>\n",
       "      <th>1. open</th>\n",
       "      <th>2. high</th>\n",
       "      <th>3. low</th>\n",
       "      <th>4. close</th>\n",
       "      <th>5. volume</th>\n",
       "    </tr>\n",
       "  </thead>\n",
       "  <tbody>\n",
       "    <tr>\n",
       "      <th>2010-01-08</th>\n",
       "      <td>130.5600</td>\n",
       "      <td>133.6800</td>\n",
       "      <td>129.0300</td>\n",
       "      <td>133.5200</td>\n",
       "      <td>9830500</td>\n",
       "    </tr>\n",
       "    <tr>\n",
       "      <th>2010-01-07</th>\n",
       "      <td>132.0100</td>\n",
       "      <td>132.3200</td>\n",
       "      <td>128.8000</td>\n",
       "      <td>130.0000</td>\n",
       "      <td>11030200</td>\n",
       "    </tr>\n",
       "    <tr>\n",
       "      <th>2010-01-06</th>\n",
       "      <td>134.6000</td>\n",
       "      <td>134.7300</td>\n",
       "      <td>131.6500</td>\n",
       "      <td>132.2500</td>\n",
       "      <td>7178800</td>\n",
       "    </tr>\n",
       "    <tr>\n",
       "      <th>2010-01-05</th>\n",
       "      <td>133.4300</td>\n",
       "      <td>135.4790</td>\n",
       "      <td>131.8100</td>\n",
       "      <td>134.6900</td>\n",
       "      <td>8851900</td>\n",
       "    </tr>\n",
       "    <tr>\n",
       "      <th>2010-01-04</th>\n",
       "      <td>136.2500</td>\n",
       "      <td>136.6100</td>\n",
       "      <td>133.1400</td>\n",
       "      <td>133.9000</td>\n",
       "      <td>7599900</td>\n",
       "    </tr>\n",
       "  </tbody>\n",
       "</table>\n",
       "</div>"
      ],
      "text/plain": [
       "             1. open   2. high    3. low  4. close 5. volume\n",
       "2010-01-08  130.5600  133.6800  129.0300  133.5200   9830500\n",
       "2010-01-07  132.0100  132.3200  128.8000  130.0000  11030200\n",
       "2010-01-06  134.6000  134.7300  131.6500  132.2500   7178800\n",
       "2010-01-05  133.4300  135.4790  131.8100  134.6900   8851900\n",
       "2010-01-04  136.2500  136.6100  133.1400  133.9000   7599900"
      ]
     },
     "execution_count": 11,
     "metadata": {},
     "output_type": "execute_result"
    }
   ],
   "source": [
    "amzn_df.tail()"
   ]
  },
  {
   "cell_type": "markdown",
   "metadata": {},
   "source": [
    "### Market indicators\n",
    "We will also include some composite index data to supplement the raw stock data. This will help improve the predictive power of the model. This will be downloaded from Yahoo Finance in csv format and added to the raw data folder. "
   ]
  },
  {
   "cell_type": "markdown",
   "metadata": {},
   "source": [
    "### Technical indicators\n",
    "In addition to the composite index data, we will supplement our model with some common technical indicators: 7 & 21-day moving average, moving average convergence/divergence (MACD), and bollinger bands. These will only be constructed for our target stock, Microsoft."
   ]
  },
  {
   "cell_type": "code",
   "execution_count": 25,
   "metadata": {},
   "outputs": [],
   "source": [
    "msft_ma7 = get_ma('MSFT', period = 7)"
   ]
  },
  {
   "cell_type": "code",
   "execution_count": 26,
   "metadata": {},
   "outputs": [
    {
     "data": {
      "text/html": [
       "<div>\n",
       "<style scoped>\n",
       "    .dataframe tbody tr th:only-of-type {\n",
       "        vertical-align: middle;\n",
       "    }\n",
       "\n",
       "    .dataframe tbody tr th {\n",
       "        vertical-align: top;\n",
       "    }\n",
       "\n",
       "    .dataframe thead th {\n",
       "        text-align: right;\n",
       "    }\n",
       "</style>\n",
       "<table border=\"1\" class=\"dataframe\">\n",
       "  <thead>\n",
       "    <tr style=\"text-align: right;\">\n",
       "      <th></th>\n",
       "      <th>SMA</th>\n",
       "    </tr>\n",
       "  </thead>\n",
       "  <tbody>\n",
       "    <tr>\n",
       "      <th>2018-12-28</th>\n",
       "      <td>99.9557</td>\n",
       "    </tr>\n",
       "    <tr>\n",
       "      <th>2018-12-27</th>\n",
       "      <td>100.4671</td>\n",
       "    </tr>\n",
       "    <tr>\n",
       "      <th>2018-12-26</th>\n",
       "      <td>100.7114</td>\n",
       "    </tr>\n",
       "    <tr>\n",
       "      <th>2018-12-24</th>\n",
       "      <td>101.4929</td>\n",
       "    </tr>\n",
       "    <tr>\n",
       "      <th>2018-12-21</th>\n",
       "      <td>103.6814</td>\n",
       "    </tr>\n",
       "  </tbody>\n",
       "</table>\n",
       "</div>"
      ],
      "text/plain": [
       "                 SMA\n",
       "2018-12-28   99.9557\n",
       "2018-12-27  100.4671\n",
       "2018-12-26  100.7114\n",
       "2018-12-24  101.4929\n",
       "2018-12-21  103.6814"
      ]
     },
     "execution_count": 26,
     "metadata": {},
     "output_type": "execute_result"
    }
   ],
   "source": [
    "msft_ma7.head()"
   ]
  },
  {
   "cell_type": "code",
   "execution_count": 27,
   "metadata": {},
   "outputs": [],
   "source": [
    "msft_ma21 = get_ma('MSFT', period = 21)"
   ]
  },
  {
   "cell_type": "code",
   "execution_count": 28,
   "metadata": {},
   "outputs": [
    {
     "data": {
      "text/html": [
       "<div>\n",
       "<style scoped>\n",
       "    .dataframe tbody tr th:only-of-type {\n",
       "        vertical-align: middle;\n",
       "    }\n",
       "\n",
       "    .dataframe tbody tr th {\n",
       "        vertical-align: top;\n",
       "    }\n",
       "\n",
       "    .dataframe thead th {\n",
       "        text-align: right;\n",
       "    }\n",
       "</style>\n",
       "<table border=\"1\" class=\"dataframe\">\n",
       "  <thead>\n",
       "    <tr style=\"text-align: right;\">\n",
       "      <th></th>\n",
       "      <th>SMA</th>\n",
       "    </tr>\n",
       "  </thead>\n",
       "  <tbody>\n",
       "    <tr>\n",
       "      <th>2010-01-08</th>\n",
       "      <td>30.5082</td>\n",
       "    </tr>\n",
       "    <tr>\n",
       "      <th>2010-01-07</th>\n",
       "      <td>30.4563</td>\n",
       "    </tr>\n",
       "    <tr>\n",
       "      <th>2010-01-06</th>\n",
       "      <td>30.4248</td>\n",
       "    </tr>\n",
       "    <tr>\n",
       "      <th>2010-01-05</th>\n",
       "      <td>30.3871</td>\n",
       "    </tr>\n",
       "    <tr>\n",
       "      <th>2010-01-04</th>\n",
       "      <td>30.3333</td>\n",
       "    </tr>\n",
       "  </tbody>\n",
       "</table>\n",
       "</div>"
      ],
      "text/plain": [
       "                SMA\n",
       "2010-01-08  30.5082\n",
       "2010-01-07  30.4563\n",
       "2010-01-06  30.4248\n",
       "2010-01-05  30.3871\n",
       "2010-01-04  30.3333"
      ]
     },
     "execution_count": 28,
     "metadata": {},
     "output_type": "execute_result"
    }
   ],
   "source": [
    "msft_ma21.tail()"
   ]
  },
  {
   "cell_type": "code",
   "execution_count": 33,
   "metadata": {},
   "outputs": [],
   "source": [
    "msft_macd = get_macd('MSFT')"
   ]
  },
  {
   "cell_type": "code",
   "execution_count": 35,
   "metadata": {},
   "outputs": [
    {
     "data": {
      "text/html": [
       "<div>\n",
       "<style scoped>\n",
       "    .dataframe tbody tr th:only-of-type {\n",
       "        vertical-align: middle;\n",
       "    }\n",
       "\n",
       "    .dataframe tbody tr th {\n",
       "        vertical-align: top;\n",
       "    }\n",
       "\n",
       "    .dataframe thead th {\n",
       "        text-align: right;\n",
       "    }\n",
       "</style>\n",
       "<table border=\"1\" class=\"dataframe\">\n",
       "  <thead>\n",
       "    <tr style=\"text-align: right;\">\n",
       "      <th></th>\n",
       "      <th>MACD</th>\n",
       "      <th>MACD_Hist</th>\n",
       "      <th>MACD_Signal</th>\n",
       "    </tr>\n",
       "  </thead>\n",
       "  <tbody>\n",
       "    <tr>\n",
       "      <th>2010-01-08</th>\n",
       "      <td>0.3346</td>\n",
       "      <td>-0.0850</td>\n",
       "      <td>0.4196</td>\n",
       "    </tr>\n",
       "    <tr>\n",
       "      <th>2010-01-07</th>\n",
       "      <td>0.3645</td>\n",
       "      <td>-0.0764</td>\n",
       "      <td>0.4409</td>\n",
       "    </tr>\n",
       "    <tr>\n",
       "      <th>2010-01-06</th>\n",
       "      <td>0.4185</td>\n",
       "      <td>-0.0414</td>\n",
       "      <td>0.4600</td>\n",
       "    </tr>\n",
       "    <tr>\n",
       "      <th>2010-01-05</th>\n",
       "      <td>0.4491</td>\n",
       "      <td>-0.0213</td>\n",
       "      <td>0.4703</td>\n",
       "    </tr>\n",
       "    <tr>\n",
       "      <th>2010-01-04</th>\n",
       "      <td>0.4621</td>\n",
       "      <td>-0.0135</td>\n",
       "      <td>0.4757</td>\n",
       "    </tr>\n",
       "  </tbody>\n",
       "</table>\n",
       "</div>"
      ],
      "text/plain": [
       "              MACD MACD_Hist MACD_Signal\n",
       "2010-01-08  0.3346   -0.0850      0.4196\n",
       "2010-01-07  0.3645   -0.0764      0.4409\n",
       "2010-01-06  0.4185   -0.0414      0.4600\n",
       "2010-01-05  0.4491   -0.0213      0.4703\n",
       "2010-01-04  0.4621   -0.0135      0.4757"
      ]
     },
     "execution_count": 35,
     "metadata": {},
     "output_type": "execute_result"
    }
   ],
   "source": [
    "msft_macd.tail()"
   ]
  },
  {
   "cell_type": "code",
   "execution_count": 38,
   "metadata": {},
   "outputs": [],
   "source": [
    "msft_bbands = get_bbands('MSFT')"
   ]
  },
  {
   "cell_type": "code",
   "execution_count": 39,
   "metadata": {},
   "outputs": [
    {
     "data": {
      "text/html": [
       "<div>\n",
       "<style scoped>\n",
       "    .dataframe tbody tr th:only-of-type {\n",
       "        vertical-align: middle;\n",
       "    }\n",
       "\n",
       "    .dataframe tbody tr th {\n",
       "        vertical-align: top;\n",
       "    }\n",
       "\n",
       "    .dataframe thead th {\n",
       "        text-align: right;\n",
       "    }\n",
       "</style>\n",
       "<table border=\"1\" class=\"dataframe\">\n",
       "  <thead>\n",
       "    <tr style=\"text-align: right;\">\n",
       "      <th></th>\n",
       "      <th>Real Lower Band</th>\n",
       "      <th>Real Middle Band</th>\n",
       "      <th>Real Upper Band</th>\n",
       "    </tr>\n",
       "  </thead>\n",
       "  <tbody>\n",
       "    <tr>\n",
       "      <th>2010-01-08</th>\n",
       "      <td>29.5024</td>\n",
       "      <td>30.5082</td>\n",
       "      <td>31.5140</td>\n",
       "    </tr>\n",
       "    <tr>\n",
       "      <th>2010-01-07</th>\n",
       "      <td>29.3773</td>\n",
       "      <td>30.4563</td>\n",
       "      <td>31.5353</td>\n",
       "    </tr>\n",
       "    <tr>\n",
       "      <th>2010-01-06</th>\n",
       "      <td>29.3091</td>\n",
       "      <td>30.4248</td>\n",
       "      <td>31.5404</td>\n",
       "    </tr>\n",
       "    <tr>\n",
       "      <th>2010-01-05</th>\n",
       "      <td>29.2673</td>\n",
       "      <td>30.3871</td>\n",
       "      <td>31.5070</td>\n",
       "    </tr>\n",
       "    <tr>\n",
       "      <th>2010-01-04</th>\n",
       "      <td>29.2202</td>\n",
       "      <td>30.3333</td>\n",
       "      <td>31.4465</td>\n",
       "    </tr>\n",
       "  </tbody>\n",
       "</table>\n",
       "</div>"
      ],
      "text/plain": [
       "           Real Lower Band Real Middle Band Real Upper Band\n",
       "2010-01-08         29.5024          30.5082         31.5140\n",
       "2010-01-07         29.3773          30.4563         31.5353\n",
       "2010-01-06         29.3091          30.4248         31.5404\n",
       "2010-01-05         29.2673          30.3871         31.5070\n",
       "2010-01-04         29.2202          30.3333         31.4465"
      ]
     },
     "execution_count": 39,
     "metadata": {},
     "output_type": "execute_result"
    }
   ],
   "source": [
    "msft_bbands.tail()"
   ]
  },
  {
   "cell_type": "code",
   "execution_count": 39,
   "metadata": {},
   "outputs": [
    {
     "data": {
      "text/html": [
       "<div>\n",
       "<style scoped>\n",
       "    .dataframe tbody tr th:only-of-type {\n",
       "        vertical-align: middle;\n",
       "    }\n",
       "\n",
       "    .dataframe tbody tr th {\n",
       "        vertical-align: top;\n",
       "    }\n",
       "\n",
       "    .dataframe thead th {\n",
       "        text-align: right;\n",
       "    }\n",
       "</style>\n",
       "<table border=\"1\" class=\"dataframe\">\n",
       "  <thead>\n",
       "    <tr style=\"text-align: right;\">\n",
       "      <th></th>\n",
       "      <th>Real Lower Band</th>\n",
       "      <th>Real Middle Band</th>\n",
       "      <th>Real Upper Band</th>\n",
       "    </tr>\n",
       "  </thead>\n",
       "  <tbody>\n",
       "    <tr>\n",
       "      <th>2010-01-08</th>\n",
       "      <td>29.5024</td>\n",
       "      <td>30.5082</td>\n",
       "      <td>31.5140</td>\n",
       "    </tr>\n",
       "    <tr>\n",
       "      <th>2010-01-07</th>\n",
       "      <td>29.3773</td>\n",
       "      <td>30.4563</td>\n",
       "      <td>31.5353</td>\n",
       "    </tr>\n",
       "    <tr>\n",
       "      <th>2010-01-06</th>\n",
       "      <td>29.3091</td>\n",
       "      <td>30.4248</td>\n",
       "      <td>31.5404</td>\n",
       "    </tr>\n",
       "    <tr>\n",
       "      <th>2010-01-05</th>\n",
       "      <td>29.2673</td>\n",
       "      <td>30.3871</td>\n",
       "      <td>31.5070</td>\n",
       "    </tr>\n",
       "    <tr>\n",
       "      <th>2010-01-04</th>\n",
       "      <td>29.2202</td>\n",
       "      <td>30.3333</td>\n",
       "      <td>31.4465</td>\n",
       "    </tr>\n",
       "  </tbody>\n",
       "</table>\n",
       "</div>"
      ],
      "text/plain": [
       "           Real Lower Band Real Middle Band Real Upper Band\n",
       "2010-01-08         29.5024          30.5082         31.5140\n",
       "2010-01-07         29.3773          30.4563         31.5353\n",
       "2010-01-06         29.3091          30.4248         31.5404\n",
       "2010-01-05         29.2673          30.3871         31.5070\n",
       "2010-01-04         29.2202          30.3333         31.4465"
      ]
     },
     "execution_count": 39,
     "metadata": {},
     "output_type": "execute_result"
    }
   ],
   "source": [
    "msft_bbands.tail()"
   ]
  },
  {
   "cell_type": "markdown",
   "metadata": {},
   "source": [
    "### Push raw data to csv files\n",
    "Now that we've got our raw data, let's dump them to CSV files for further analysis."
   ]
  },
  {
   "cell_type": "code",
   "execution_count": 41,
   "metadata": {},
   "outputs": [],
   "source": [
    "apple_df.to_csv('/Users/jessemailhot/Documents/GitHub/springboard/Capstone 2/raw data/apple.csv')\n",
    "google_df.to_csv('/Users/jessemailhot/Documents/GitHub/springboard/Capstone 2/raw data/google.csv')\n",
    "msft_df.to_csv('/Users/jessemailhot/Documents/GitHub/springboard/Capstone 2/raw data/msft.csv')\n",
    "amzn_df.to_csv('/Users/jessemailhot/Documents/GitHub/springboard/Capstone 2/raw data/amzn.csv')\n",
    "msft_ma7.to_csv('/Users/jessemailhot/Documents/GitHub/springboard/Capstone 2/raw data/msft_ma7.csv')\n",
    "msft_ma21.to_csv('/Users/jessemailhot/Documents/GitHub/springboard/Capstone 2/raw data/msft_ma21.csv')\n",
    "msft_macd.to_csv('/Users/jessemailhot/Documents/GitHub/springboard/Capstone 2/raw data/msft_macd.csv')\n",
    "msft_bbands.to_csv('/Users/jessemailhot/Documents/GitHub/springboard/Capstone 2/raw data/msft_bbands.csv')"
   ]
  }
 ],
 "metadata": {
  "kernelspec": {
   "display_name": "Python 3",
   "language": "python",
   "name": "python3"
  },
  "language_info": {
   "codemirror_mode": {
    "name": "ipython",
    "version": 3
   },
   "file_extension": ".py",
   "mimetype": "text/x-python",
   "name": "python",
   "nbconvert_exporter": "python",
   "pygments_lexer": "ipython3",
   "version": "3.6.7"
  },
  "toc": {
   "base_numbering": 1,
   "nav_menu": {},
   "number_sections": true,
   "sideBar": true,
   "skip_h1_title": true,
   "title_cell": "Table of Contents",
   "title_sidebar": "Contents",
   "toc_cell": false,
   "toc_position": {
    "height": "calc(100% - 180px)",
    "left": "10px",
    "top": "150px",
    "width": "165px"
   },
   "toc_section_display": true,
   "toc_window_display": true
  }
 },
 "nbformat": 4,
 "nbformat_minor": 2
}
