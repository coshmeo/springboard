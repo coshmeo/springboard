{
 "cells": [
  {
   "cell_type": "markdown",
   "metadata": {},
   "source": [
    "# Model\n",
    "Create neural network using Keras & TensorFlow"
   ]
  },
  {
   "cell_type": "markdown",
   "metadata": {},
   "source": [
    "## Import Packages"
   ]
  },
  {
   "cell_type": "code",
   "execution_count": 1,
   "metadata": {},
   "outputs": [
    {
     "name": "stderr",
     "output_type": "stream",
     "text": [
      "Using TensorFlow backend.\n"
     ]
    }
   ],
   "source": [
    "import pandas as pd\n",
    "import numpy as np\n",
    "from sklearn.metrics import mean_squared_error\n",
    "from keras.models import Sequential\n",
    "from keras.layers import Dense\n",
    "from keras.layers import LSTM\n",
    "from keras import backend as K"
   ]
  },
  {
   "cell_type": "markdown",
   "metadata": {},
   "source": [
    "## Define L1 Loss function"
   ]
  },
  {
   "cell_type": "code",
   "execution_count": 2,
   "metadata": {},
   "outputs": [],
   "source": [
    "def smooth_L1_loss(y_true, y_pred):\n",
    "    THRESHOLD = K.variable(1.0)\n",
    "    mae = K.abs(y_true - y_pred)\n",
    "    flag = K.greater(mae, THRESHOLD)\n",
    "    loss = K.mean(K.switch(flag, (mae - 0.5), K.pow(mae, 2)), axis=-1)\n",
    "    return loss"
   ]
  },
  {
   "cell_type": "markdown",
   "metadata": {},
   "source": [
    "## Data Preparation"
   ]
  },
  {
   "cell_type": "code",
   "execution_count": 3,
   "metadata": {},
   "outputs": [],
   "source": [
    "X_train = pd.read_csv('processed data/predictors_train.csv', index_col = 0)\n",
    "y_train = pd.read_csv('processed data/target_train.csv', names = ['price'])\n",
    "\n",
    "X_test = pd.read_csv('processed data/predictors_test.csv', index_col = 0)\n",
    "y_test = pd.read_csv('processed data/target_test.csv', names = ['price'])"
   ]
  },
  {
   "cell_type": "code",
   "execution_count": 4,
   "metadata": {},
   "outputs": [],
   "source": [
    "fft_cols = ['fft 3', 'fft 6', 'fft 9']  # list of fourier transform column names\n",
    "\n",
    "#re-create entire microsoft adjusted closing price DataFrame\n",
    "y = y_train.append(y_test)\n",
    "\n",
    "#re-create fourier transforms as np.complex128 (instead of converting existing columns)\n",
    "close_fft = np.fft.fft(np.asarray(y['price'].tolist()))\n",
    "fft_df = pd.DataFrame({'fft':close_fft})\n",
    "fft_list = np.asarray(fft_df['fft'].tolist())\n",
    "for num_ in [3, 6, 9]:\n",
    "    fft_list_m10= np.copy(fft_list); fft_list_m10[num_:-num_]=0\n",
    "    fft_df['fft {}'.format(num_)] = np.fft.ifft(fft_list_m10)\n",
    "fft_df.drop(['fft'], axis = 1, inplace = True)\n",
    "fft_df = fft_df.set_index(y.index)\n",
    "\n",
    "for col in fft_cols:\n",
    "    X_train[col] = fft_df[col].iloc[0:-501]\n",
    "    X_test[col] = fft_df[col].iloc[-501:]"
   ]
  },
  {
   "cell_type": "code",
   "execution_count": 6,
   "metadata": {},
   "outputs": [],
   "source": [
    "#convert testing/training sets to numpy arrays\n",
    "X_train = np.array(X_train.values)\n",
    "y_train = np.array(y_train.values)\n",
    "\n",
    "X_test = np.array(X_test.values)\n",
    "y_test = np.array(y_test.values)"
   ]
  },
  {
   "cell_type": "code",
   "execution_count": 7,
   "metadata": {},
   "outputs": [],
   "source": [
    "#reshape data for input into the LSTM model\n",
    "X_train = X_train.reshape(X_train.shape[0], 1, X_train.shape[1])\n",
    "X_test = X_test.reshape(X_test.shape[0], 1, X_test.shape[1])"
   ]
  },
  {
   "cell_type": "markdown",
   "metadata": {},
   "source": [
    "## Build, Train, and Test Model"
   ]
  },
  {
   "cell_type": "code",
   "execution_count": 47,
   "metadata": {},
   "outputs": [],
   "source": [
    "sequence_length = 1  # number of days before predicting\n",
    "n_features = X_train.shape[2]  # number of features in the data set\n",
    "time_step = 1  # number of samples"
   ]
  },
  {
   "cell_type": "code",
   "execution_count": 48,
   "metadata": {},
   "outputs": [
    {
     "name": "stdout",
     "output_type": "stream",
     "text": [
      "_________________________________________________________________\n",
      "Layer (type)                 Output Shape              Param #   \n",
      "=================================================================\n",
      "lstm_7 (LSTM)                (1, 500)                  1064000   \n",
      "_________________________________________________________________\n",
      "dense_7 (Dense)              (1, 1)                    501       \n",
      "=================================================================\n",
      "Total params: 1,064,501\n",
      "Trainable params: 1,064,501\n",
      "Non-trainable params: 0\n",
      "_________________________________________________________________\n"
     ]
    }
   ],
   "source": [
    "model = Sequential()\n",
    "#1 layer LSTM with 500 nodes and Xavier (glorot_uniform) activation and L1 loss function\n",
    "model.add(LSTM(500, batch_input_shape=(sequence_length, time_step, n_features),\n",
    "                       kernel_initializer='glorot_uniform', stateful=True))\n",
    "#add LSTM layer w 250 nodes here\n",
    "#add dropout layer here\n",
    "#add dense layer here\n",
    "#add dropout layer here\n",
    "model.add(Dense(1, input_shape=(500,)))  # single node dense output layer with prediction\n",
    "model.compile(loss=smooth_L1_loss, optimizer='adam')\n",
    "\n",
    "model.summary()  # show model summary"
   ]
  },
  {
   "cell_type": "code",
   "execution_count": 49,
   "metadata": {},
   "outputs": [],
   "source": [
    "#fit model to training data\n",
    "n_epochs = 200\n",
    "for i in range(n_epochs):\n",
    "    model.fit(X_train, y_train, epochs=1, batch_size=1, verbose=0, shuffle=False)"
   ]
  },
  {
   "cell_type": "code",
   "execution_count": 50,
   "metadata": {},
   "outputs": [],
   "source": [
    "prd = model.predict(X_test, batch_size=1)"
   ]
  },
  {
   "cell_type": "code",
   "execution_count": 54,
   "metadata": {},
   "outputs": [
    {
     "data": {
      "text/plain": [
       "866.8662910656346"
      ]
     },
     "execution_count": 54,
     "metadata": {},
     "output_type": "execute_result"
    }
   ],
   "source": [
    "mean_squared_error(y_test, prd)"
   ]
  },
  {
   "cell_type": "code",
   "execution_count": 58,
   "metadata": {},
   "outputs": [
    {
     "data": {
      "image/png": "[encoded data removed]",
      "text/plain": [
       "<Figure size 432x288 with 1 Axes>"
      ]
     },
     "metadata": {
      "needs_background": "light"
     },
     "output_type": "display_data"
    }
   ],
   "source": [
    "import matplotlib.pyplot as plt\n",
    "plt.plot(y_test)\n",
    "plt.plot(prd)\n",
    "plt.show()"
   ]
  }
 ],
 "metadata": {
  "kernelspec": {
   "display_name": "Python 3",
   "language": "python",
   "name": "python3"
  },
  "language_info": {
   "codemirror_mode": {
    "name": "ipython",
    "version": 3
   },
   "file_extension": ".py",
   "mimetype": "text/x-python",
   "name": "python",
   "nbconvert_exporter": "python",
   "pygments_lexer": "ipython3",
   "version": "3.6.8"
  },
  "toc": {
   "base_numbering": 1,
   "nav_menu": {},
   "number_sections": true,
   "sideBar": true,
   "skip_h1_title": true,
   "title_cell": "Table of Contents",
   "title_sidebar": "Contents",
   "toc_cell": false,
   "toc_position": {},
   "toc_section_display": true,
   "toc_window_display": false
  }
 },
 "nbformat": 4,
 "nbformat_minor": 2
}
