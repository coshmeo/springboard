{
 "cells": [
  {
   "cell_type": "markdown",
   "metadata": {},
   "source": [
    "# Preprocessing"
   ]
  },
  {
   "cell_type": "markdown",
   "metadata": {},
   "source": [
    "## Import Packages"
   ]
  },
  {
   "cell_type": "code",
   "execution_count": 1,
   "metadata": {},
   "outputs": [],
   "source": [
    "import pandas as pd\n",
    "import numpy as np\n",
    "from sklearn.model_selection import train_test_split"
   ]
  },
  {
   "cell_type": "markdown",
   "metadata": {},
   "source": [
    "## Read data from flat files"
   ]
  },
  {
   "cell_type": "code",
   "execution_count": 2,
   "metadata": {},
   "outputs": [],
   "source": [
    "#historical stock data\n",
    "amzn = pd.read_csv('raw data/amzn.csv', index_col = 0)\n",
    "aapl = pd.read_csv('raw data/apple.csv', index_col = 0)\n",
    "goog = pd.read_csv('raw data/google.csv', index_col = 0)\n",
    "msft = pd.read_csv('raw data/msft.csv', index_col = 0)\n",
    "#technical indicators\n",
    "ma7 = pd.read_csv('raw data/msft_ma7.csv', index_col = 0)\n",
    "ma21 = pd.read_csv('raw data/msft_ma21.csv', index_col = 0)\n",
    "bbands = pd.read_csv('raw data/msft_bbands.csv', index_col = 0)\n",
    "macd = pd.read_csv('raw data/msft_macd.csv', index_col = 0)\n",
    "#indicies\n",
    "nasdaq = pd.read_csv('raw data/^IXIC.csv', index_col = 0)\n",
    "nyse = pd.read_csv('raw data/^NYA.csv', index_col = 0)\n",
    "sp500 = pd.read_csv('raw data/^GSPC.csv', index_col = 0)\n",
    "tb13 = pd.read_csv('raw data/^IRX.csv', index_col = 0)"
   ]
  },
  {
   "cell_type": "markdown",
   "metadata": {},
   "source": [
    "## Merge data into one dataframe"
   ]
  },
  {
   "cell_type": "code",
   "execution_count": 3,
   "metadata": {},
   "outputs": [],
   "source": [
    "predictors = pd.DataFrame(index = amzn.index) #blank dataframe to merge data into\n",
    "\n",
    "df_to_merge = [amzn, aapl, goog, msft, ma7, ma21, bbands, macd, #list of data frames to merge\n",
    "                              nasdaq, nyse, sp500, tb13] \n",
    "columns = [ #to be used to rename columns in merged dataframe for clarity\n",
    "    #amazon\n",
    "    'amzn open', 'amzn high', 'amzn low', 'amzn close', 'amzn adj close',\n",
    "    'amzn volume', 'amzn dividend amt', 'amzn split coef',\n",
    "    #apple \n",
    "    'aapl open', 'aapl high', 'aapl low', 'aapl close', 'aapl adj close',\n",
    "    'aapl volume', 'aapl dividend amt', 'aapl split coef',\n",
    "    #google \n",
    "    'googl open', 'googl high', 'googl low', 'googl close', 'googl adj close',\n",
    "    'googl volume', 'googl dividend amt', 'googl split coef',\n",
    "    #microsoft \n",
    "    'msft open', 'msft high', 'msft low', 'msft close', 'msft adj close',\n",
    "    'msft volume', 'msft dividend amt', 'msft split coef',\n",
    "    #microsoft 7 day moving averge\n",
    "    'msft ma7',\n",
    "    #microsoft 21 day moving average\n",
    "    'msft ma21',\n",
    "    #microsoft bollinger bands\n",
    "    'msft Real Lower Band', 'msft Real Middle Band', 'msft Real Upper Band',\n",
    "    #microsoft moving average convergence divergence\n",
    "    'msft MACD', 'msft MACD_Hist', 'msft MACD_Signal',\n",
    "    #nasdaq index \n",
    "    'nasdaq Open', 'nasdaq High', 'nasdaq Low', 'nasdaq Close', \n",
    "    'nasdaq Adj Close', 'nasdaq Volume',\n",
    "    #nyse index\n",
    "    'nyse Open', 'nyse High', 'nyse Low', 'nyse Close', \n",
    "    'nyse Adj Close', 'nyse Volume',\n",
    "    #s&p 500\n",
    "    'sp500 Open', 'sp500 High', 'sp500 Low', 'sp500 Close', \n",
    "    'sp500 Adj Close', 'sp500 Volume',\n",
    "    #13 week treasury bill interest rate\n",
    "    'tb13 Open', 'tb13 High', 'tb13 Low', 'tb13 Close', \n",
    "    'tb13 Adj Close', 'tb13 Volume'\n",
    "          ]\n",
    "\n",
    "#merge data into one data frame\n",
    "predictors = pd.concat(df_to_merge, join = 'outer', axis = 1, sort = True) \n",
    "predictors.columns = columns #rename columns"
   ]
  },
  {
   "cell_type": "markdown",
   "metadata": {},
   "source": [
    "## Create predictors and target dataframes"
   ]
  },
  {
   "cell_type": "code",
   "execution_count": 4,
   "metadata": {},
   "outputs": [],
   "source": [
    "predictors.drop('msft adj close', axis = 1, inplace = True) #drop target from predictors dataframe\n",
    "target = msft['5. adjusted close'].copy() #create target dataframe"
   ]
  },
  {
   "cell_type": "code",
   "execution_count": 5,
   "metadata": {},
   "outputs": [
    {
     "data": {
      "text/plain": [
       "Index(['amzn open', 'amzn high', 'amzn low', 'amzn close', 'amzn adj close',\n",
       "       'amzn volume', 'amzn dividend amt', 'amzn split coef', 'aapl open',\n",
       "       'aapl high', 'aapl low', 'aapl close', 'aapl adj close', 'aapl volume',\n",
       "       'aapl dividend amt', 'aapl split coef', 'googl open', 'googl high',\n",
       "       'googl low', 'googl close', 'googl adj close', 'googl volume',\n",
       "       'googl dividend amt', 'googl split coef', 'msft open', 'msft high',\n",
       "       'msft low', 'msft close', 'msft volume', 'msft dividend amt',\n",
       "       'msft split coef', 'msft ma7', 'msft ma21', 'msft Real Lower Band',\n",
       "       'msft Real Middle Band', 'msft Real Upper Band', 'msft MACD',\n",
       "       'msft MACD_Hist', 'msft MACD_Signal', 'nasdaq Open', 'nasdaq High',\n",
       "       'nasdaq Low', 'nasdaq Close', 'nasdaq Adj Close', 'nasdaq Volume',\n",
       "       'nyse Open', 'nyse High', 'nyse Low', 'nyse Close', 'nyse Adj Close',\n",
       "       'nyse Volume', 'sp500 Open', 'sp500 High', 'sp500 Low', 'sp500 Close',\n",
       "       'sp500 Adj Close', 'sp500 Volume', 'tb13 Open', 'tb13 High', 'tb13 Low',\n",
       "       'tb13 Close', 'tb13 Adj Close', 'tb13 Volume'],\n",
       "      dtype='object')"
      ]
     },
     "execution_count": 5,
     "metadata": {},
     "output_type": "execute_result"
    }
   ],
   "source": [
    "predictors.columns"
   ]
  },
  {
   "cell_type": "markdown",
   "metadata": {},
   "source": [
    "## Feature Engineering\n",
    "Add *differential* feature: difference of daily open & close, then remove open & close from predictors dataset."
   ]
  },
  {
   "cell_type": "code",
   "execution_count": 6,
   "metadata": {},
   "outputs": [],
   "source": [
    "#create function to make differential column & drop open/close columns\n",
    "def create_diff(df, opn, cls, stock):\n",
    "    \"\"\"\n",
    "    function to create differential between daily opening and closing price of a stock\n",
    "    in a dataframe, then drop the open and close columns\n",
    "    \n",
    "    df is the dataframe which will be modified\n",
    "    \n",
    "    opn is the name of the opening price column in the dataframe df\n",
    "    \n",
    "    cls is the name of the closing price column in the dataframe df\n",
    "    \n",
    "    stock is the name of the stock (string)\n",
    "    \"\"\"\n",
    "    df[opn] = df[cls] - df[opn] #create differential values in open column location\n",
    "    df.rename(index = str, columns = {opn: stock+' differential'}, inplace = True) \n",
    "    df.drop(cls, axis = 1, inplace = True) #drop close column\n",
    "    return df"
   ]
  },
  {
   "cell_type": "code",
   "execution_count": 7,
   "metadata": {},
   "outputs": [],
   "source": [
    "#create iterable list of open/close/name tuples to loop over\n",
    "open_close_name = [\n",
    "    ('amzn open', 'amzn close', 'amzn'),\n",
    "    ('aapl open', 'aapl close', 'aapl'),\n",
    "    ('googl open', 'googl close', 'googl'),\n",
    "    ('msft open', 'msft close', 'msft'),\n",
    "    ('nasdaq Open', 'nasdaq Close', 'nasdaq'),\n",
    "    ('nyse Open', 'nyse Close', 'nyse'),\n",
    "    ('sp500 Open', 'sp500 Close', 'sp500'),\n",
    "    ('tb13 Open', 'tb13 Close', 'tb13')\n",
    "]"
   ]
  },
  {
   "cell_type": "code",
   "execution_count": 8,
   "metadata": {},
   "outputs": [],
   "source": [
    "for opn, cls, name in open_close_name:\n",
    "    create_diff(predictors, opn, cls, name)"
   ]
  },
  {
   "cell_type": "code",
   "execution_count": 9,
   "metadata": {},
   "outputs": [
    {
     "data": {
      "text/plain": [
       "Index(['amzn differential', 'amzn high', 'amzn low', 'amzn adj close',\n",
       "       'amzn volume', 'amzn dividend amt', 'amzn split coef',\n",
       "       'aapl differential', 'aapl high', 'aapl low', 'aapl adj close',\n",
       "       'aapl volume', 'aapl dividend amt', 'aapl split coef',\n",
       "       'googl differential', 'googl high', 'googl low', 'googl adj close',\n",
       "       'googl volume', 'googl dividend amt', 'googl split coef',\n",
       "       'msft differential', 'msft high', 'msft low', 'msft volume',\n",
       "       'msft dividend amt', 'msft split coef', 'msft ma7', 'msft ma21',\n",
       "       'msft Real Lower Band', 'msft Real Middle Band', 'msft Real Upper Band',\n",
       "       'msft MACD', 'msft MACD_Hist', 'msft MACD_Signal',\n",
       "       'nasdaq differential', 'nasdaq High', 'nasdaq Low', 'nasdaq Adj Close',\n",
       "       'nasdaq Volume', 'nyse differential', 'nyse High', 'nyse Low',\n",
       "       'nyse Adj Close', 'nyse Volume', 'sp500 differential', 'sp500 High',\n",
       "       'sp500 Low', 'sp500 Adj Close', 'sp500 Volume', 'tb13 differential',\n",
       "       'tb13 High', 'tb13 Low', 'tb13 Adj Close', 'tb13 Volume'],\n",
       "      dtype='object')"
      ]
     },
     "execution_count": 9,
     "metadata": {},
     "output_type": "execute_result"
    }
   ],
   "source": [
    "predictors.columns"
   ]
  }
 ],
 "metadata": {
  "kernelspec": {
   "display_name": "Python 3",
   "language": "python",
   "name": "python3"
  },
  "language_info": {
   "codemirror_mode": {
    "name": "ipython",
    "version": 3
   },
   "file_extension": ".py",
   "mimetype": "text/x-python",
   "name": "python",
   "nbconvert_exporter": "python",
   "pygments_lexer": "ipython3",
   "version": "3.6.7"
  },
  "toc": {
   "base_numbering": 1,
   "nav_menu": {},
   "number_sections": true,
   "sideBar": true,
   "skip_h1_title": true,
   "title_cell": "Table of Contents",
   "title_sidebar": "Contents",
   "toc_cell": false,
   "toc_position": {},
   "toc_section_display": true,
   "toc_window_display": false
  }
 },
 "nbformat": 4,
 "nbformat_minor": 2
}
