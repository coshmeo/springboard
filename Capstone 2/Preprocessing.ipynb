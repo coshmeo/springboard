{
 "cells": [
  {
   "cell_type": "markdown",
   "metadata": {},
   "source": [
    "# Preprocessing"
   ]
  },
  {
   "cell_type": "markdown",
   "metadata": {},
   "source": [
    "## Import Packages"
   ]
  },
  {
   "cell_type": "code",
   "execution_count": 1,
   "metadata": {},
   "outputs": [],
   "source": [
    "import pandas as pd\n",
    "import numpy as np\n",
    "from sklearn.model_selection import train_test_split"
   ]
  },
  {
   "cell_type": "markdown",
   "metadata": {},
   "source": [
    "## Read data from flat files"
   ]
  },
  {
   "cell_type": "code",
   "execution_count": 2,
   "metadata": {},
   "outputs": [],
   "source": [
    "#historical stock data\n",
    "amzn = pd.read_csv('raw data/amzn.csv', index_col = 0)\n",
    "aapl = pd.read_csv('raw data/apple.csv', index_col = 0)\n",
    "goog = pd.read_csv('raw data/google.csv', index_col = 0)\n",
    "msft = pd.read_csv('raw data/msft.csv', index_col = 0)\n",
    "#technical indicators\n",
    "ma7 = pd.read_csv('raw data/msft_ma7.csv', index_col = 0)\n",
    "ma21 = pd.read_csv('raw data/msft_ma21.csv', index_col = 0)\n",
    "bbands = pd.read_csv('raw data/msft_bbands.csv', index_col = 0)\n",
    "macd = pd.read_csv('raw data/msft_macd.csv', index_col = 0)\n",
    "#indicies\n",
    "nasdaq = pd.read_csv('raw data/^IXIC.csv', index_col = 0)\n",
    "nyse = pd.read_csv('raw data/^NYA.csv', index_col = 0)\n",
    "sp500 = pd.read_csv('raw data/^GSPC.csv', index_col = 0)\n",
    "tb13 = pd.read_csv('raw data/^IRX.csv', index_col = 0)"
   ]
  },
  {
   "cell_type": "markdown",
   "metadata": {},
   "source": [
    "## Merge data into one dataframe"
   ]
  },
  {
   "cell_type": "code",
   "execution_count": 11,
   "metadata": {},
   "outputs": [],
   "source": [
    "predictors = pd.DataFrame(index = amzn.index) #blank dataframe to merge data into\n",
    "\n",
    "df_to_merge = [amzn, aapl, goog, msft, ma7, ma21, bbands, macd, #list of data frames to merge\n",
    "                              nasdaq, nyse, sp500, tb13] \n",
    "columns = [ #to be used to rename columns in merged dataframe for clarity\n",
    "    #amazon\n",
    "    'amzn open', 'amzn high', 'amzn low', 'amzn close', 'amzn adj close',\n",
    "    'amzn volume', 'amzn dividend amt', 'amzn split coef',\n",
    "    #apple \n",
    "    'aapl open', 'aapl high', 'aapl low', 'aapl close', 'aapl adj close',\n",
    "    'aapl volume', 'aapl dividend amt', 'aapl split coef',\n",
    "    #google \n",
    "    'googl open', 'googl high', 'googl low', 'googl close', 'googl adj close',\n",
    "    'googl volume', 'googl dividend amt', 'googl split coef',\n",
    "    #microsoft \n",
    "    'msft open', 'msft high', 'msft low', 'msft close', 'msft adj close',\n",
    "    'msft volume', 'msft dividend amt', 'msft split coef',\n",
    "    #microsoft 7 day moving averge\n",
    "    'msft ma7',\n",
    "    #microsoft 21 day moving average\n",
    "    'msft ma21',\n",
    "    #microsoft bollinger bands\n",
    "    'msft Real Lower Band', 'msft Real Middle Band', 'msft Real Upper Band',\n",
    "    #microsoft moving average convergence divergence\n",
    "    'msft MACD', 'msft MACD_Hist', 'msft MACD_Signal',\n",
    "    #nasdaq index \n",
    "    'nasdaq Open', 'nasdaq High', 'nasdaq Low', 'nasdaq Close', \n",
    "    'nasdaq Adj Close', 'nasdaq Volume',\n",
    "    #nyse index\n",
    "    'nyse Open', 'nyse High', 'nyse Low', 'nyse Close', \n",
    "    'nyse Adj Close', 'nyse Volume',\n",
    "    #s&p 500\n",
    "    'sp500 Open', 'sp500 High', 'sp500 Low', 'sp500 Close', \n",
    "    'sp500 Adj Close', 'sp500 Volume',\n",
    "    #13 week treasury bill interest rate\n",
    "    'tb13 Open', 'tb13 High', 'tb13 Low', 'tb13 Close', \n",
    "    'tb13 Adj Close', 'tb13 Volume'\n",
    "          ]"
   ]
  },
  {
   "cell_type": "markdown",
   "metadata": {},
   "source": [
    "## Create predictors and target dataframes"
   ]
  },
  {
   "cell_type": "code",
   "execution_count": null,
   "metadata": {},
   "outputs": [],
   "source": [
    "#merge data into one data frame\n",
    "predictors = pd.concat(df_to_merge, join = 'outer', axis = 1, sort = True) \n",
    "predictors.columns = columns #rename columns\n",
    "predictors.drop('msft adj close', inplace = True) #drop target from predictors dataframe\n",
    "target = msft['5. adjusted close'].copy() #create target dataframe"
   ]
  }
 ],
 "metadata": {
  "kernelspec": {
   "display_name": "Python 3",
   "language": "python",
   "name": "python3"
  },
  "language_info": {
   "codemirror_mode": {
    "name": "ipython",
    "version": 3
   },
   "file_extension": ".py",
   "mimetype": "text/x-python",
   "name": "python",
   "nbconvert_exporter": "python",
   "pygments_lexer": "ipython3",
   "version": "3.6.7"
  },
  "toc": {
   "base_numbering": 1,
   "nav_menu": {},
   "number_sections": true,
   "sideBar": true,
   "skip_h1_title": true,
   "title_cell": "Table of Contents",
   "title_sidebar": "Contents",
   "toc_cell": false,
   "toc_position": {},
   "toc_section_display": true,
   "toc_window_display": false
  }
 },
 "nbformat": 4,
 "nbformat_minor": 2
}
